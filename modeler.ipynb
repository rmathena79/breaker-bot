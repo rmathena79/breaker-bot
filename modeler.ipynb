{
 "cells": [
  {
   "cell_type": "code",
   "execution_count": 95,
   "id": "bca2471e-572c-4233-b18c-e8e03e8cf40c",
   "metadata": {},
   "outputs": [],
   "source": [
    "# Import our dependencies\n",
    "from sklearn.model_selection import train_test_split\n",
    "from sklearn.preprocessing import StandardScaler\n",
    "import numpy as np\n",
    "import tensorflow as tf\n",
    "import keras_tuner as kt\n",
    "import pathlib\n",
    "\n",
    "from credentials import SAMPLE_DB, FULL_DB\n",
    "from librarian import SAMPLE_DATA_DIR\n",
    "\n",
    "import encoders\n",
    "import db_connect\n",
    "import helpers"
   ]
  },
  {
   "cell_type": "code",
   "execution_count": 96,
   "id": "f9bdcd65-ceca-4b1a-921a-4544e38b37b0",
   "metadata": {},
   "outputs": [],
   "source": [
    "DATA_DIR = SAMPLE_DATA_DIR\n",
    "CHUNK_SIZE = 128\n",
    "LAYER_UNITS = max(1, CHUNK_SIZE // 10)\n",
    "\n",
    "INFER_TEXT = False\n",
    "INFER_KEY = not INFER_TEXT\n",
    "\n",
    "if INFER_TEXT:\n",
    "    MAIN_ACCURACY_METRIC = \"mae\"\n",
    "    GOOD_ACCURACY_DIRECTION = \"min\" # Some accuracy metrics go up for better results, some go down\n",
    "    LOSS_METRIC = \"mean_squared_error\"\n",
    "    OUTPUT_SIZE = CHUNK_SIZE\n",
    "else:\n",
    "    MAIN_ACCURACY_METRIC = \"mae\"\n",
    "    GOOD_ACCURACY_DIRECTION = \"min\" # Some accuracy metrics go up for better results, some go down\n",
    "    LOSS_METRIC = \"mae\"\n",
    "    OUTPUT_SIZE = 1 # actually depends on cipher\n",
    "\n",
    "ENCRYPTED_FILE_LIMIT = 30 # -1 to disable limit\n",
    "SPLIT_SEED = 42\n",
    "SPLIT_TEST_SIZE = 0.25     # 0.25 is default\n",
    "\n",
    "LOAD_BEST_MODEL = False # If False, a new model will be created from scratch\n",
    "SAVE_BEST_MODEL = False\n",
    "TRAIN_MODEL = True\n",
    "EPOCHS = 5\n",
    "\n",
    "db = db_connect.DB(SAMPLE_DB)"
   ]
  },
  {
   "cell_type": "code",
   "execution_count": 97,
   "id": "789ab2e5-5e11-4812-91be-bb9a63acb6ca",
   "metadata": {},
   "outputs": [
    {
     "name": "stdout",
     "output_type": "stream",
     "text": [
      "Encoder IDs: {'None': 1, 'Simplifier': 2, 'Caesar Cipher': 3, 'Substitution Cipher': 4, 'Enigma Machine': 5}\n",
      "Key Type IDs: {'Character Offset': 1, 'Character Map': 2, 'Rotor Settings': 3}\n"
     ]
    }
   ],
   "source": [
    "# Get database IDs for encoders and key types\n",
    "\n",
    "encoder_ids= {}\n",
    "key_type_ids = {}\n",
    "\n",
    "with db.get_session() as session:\n",
    "    for encoder in encoders.ALL_ENCODER_NAMES:\n",
    "        id = db.get_encoder_id(session, encoder)\n",
    "        encoder_ids[encoder] = id\n",
    "\n",
    "    print(f\"Encoder IDs: {encoder_ids}\")\n",
    "\n",
    "    for key_type in encoders.KEY_NAMES:\n",
    "        id = db.get_key_type_id(session, key_type)\n",
    "        key_type_ids[key_type] = id\n",
    "\n",
    "    print(f\"Key Type IDs: {key_type_ids}\")"
   ]
  },
  {
   "cell_type": "code",
   "execution_count": 98,
   "id": "0fc8e5ca-4b37-4947-9e79-f061cc993a31",
   "metadata": {},
   "outputs": [
    {
     "data": {
      "text/plain": [
       "(6, 6)"
      ]
     },
     "execution_count": 98,
     "metadata": {},
     "output_type": "execute_result"
    }
   ],
   "source": [
    "# Map source ID to plaintext file (1) details, and source ID to corresponding ciphertext files (1+) details\n",
    "sid_to_p = {}\n",
    "sid_to_c = {}\n",
    "\n",
    "cipher_id = encoder_ids[encoders.ENCODER_CAESAR]\n",
    "with db.get_session() as session:\n",
    "    # Get all files encrypted with the cipher we care about\n",
    "    encrypted_files = db.get_files_by_source_and_encoder(session, -1, cipher_id)\n",
    "\n",
    "    if len(encrypted_files) > ENCRYPTED_FILE_LIMIT and ENCRYPTED_FILE_LIMIT > 0:\n",
    "        encrypted_files = encrypted_files[0:ENCRYPTED_FILE_LIMIT]\n",
    "\n",
    "    for c in encrypted_files:\n",
    "        sid = c.source_id\n",
    "    \n",
    "        if sid not in sid_to_p:\n",
    "            plaintext_ids = db.get_files_by_source_and_encoder(session, sid, encoder_ids[encoders.ENCODER_SIMPLIFIER])\n",
    "            if len(plaintext_ids) != 1:\n",
    "                raise Exception(f\"Found {len(plaintext_ids)} plaintexts for source ID {sid}; should be exactly 1\")\n",
    "            sid_to_p[sid] = plaintext_ids[0]\n",
    "\n",
    "        if sid not in sid_to_c:\n",
    "            sid_to_c[sid] = []\n",
    "        sid_to_c[sid].append(c)\n",
    "\n",
    "len(sid_to_p), len(sid_to_c)"
   ]
  },
  {
   "cell_type": "code",
   "execution_count": 99,
   "id": "e3f6de1c-79f8-4637-8dec-ade266665517",
   "metadata": {},
   "outputs": [
    {
     "data": {
      "text/plain": [
       "((99444, 128),\n",
       " (99444,),\n",
       " (128,),\n",
       " (),\n",
       " array([41., 41., 65., 67., 10., 59., 70., 93., 39., 59., 40., 91., 74.,\n",
       "        40., 34., 67., 39., 34., 40., 72., 39., 39., 60., 68., 33., 40.,\n",
       "        63., 43., 67., 74., 40., 63., 39., 39., 44., 43., 32., 40., 43.,\n",
       "        32., 59., 40., 69., 44., 39., 40., 10., 32., 62., 46., 32., 39.,\n",
       "        41., 59., 46., 68., 69., 67., 46., 91., 70., 69., 39., 59., 40.,\n",
       "        65., 67., 10., 10., 58., 67., 39., 43., 59., 46., 32., 34., 40.,\n",
       "        69., 39., 43., 63., 40., 43., 69., 40., 44., 69., 69., 65., 61.,\n",
       "        36., 36., 72., 72., 72., 35., 65., 34., 59., 65., 35., 32., 39.,\n",
       "        69., 41., 41., 40., 69., 44., 39., 40., 67., 43., 69., 40., 67.,\n",
       "        43., 93., 39., 41., 41., 40., 91., 74., 40., 47., 43.]),\n",
       " 47.0)"
      ]
     },
     "execution_count": 99,
     "metadata": {},
     "output_type": "execute_result"
    }
   ],
   "source": [
    "# Build up the features (X, the cipher texts as values) and targets (y, either the plain texts as values OR the key).\n",
    "# Note targets are not necessarily unique.\n",
    "X = []\n",
    "y = []\n",
    "\n",
    "with db.get_session() as session:\n",
    "    for sid in sid_to_p:\n",
    "        if INFER_TEXT:\n",
    "            plaintext = helpers.read_text_file(sid_to_p[sid].path)\n",
    "            target_chunks = helpers.string_to_bytes(plaintext, CHUNK_SIZE)    \n",
    "    \n",
    "        for c in sid_to_c[sid]:\n",
    "            ciphertext = helpers.read_text_file(c.path)\n",
    "            feature_chunks = helpers.string_to_bytes(ciphertext, CHUNK_SIZE)\n",
    "\n",
    "            if INFER_KEY:\n",
    "                key_value = float(db.get_key_by_id(session, c.key_id).value)\n",
    "    \n",
    "            for i in range (len(feature_chunks)):\n",
    "                X.append(feature_chunks[i])\n",
    "\n",
    "                if INFER_TEXT:\n",
    "                    y.append(target_chunks[i])                \n",
    "\n",
    "                if INFER_KEY:\n",
    "                    y.append(key_value)\n",
    "\n",
    "X = np.array(X)\n",
    "y = np.array(y)\n",
    "\n",
    "X.shape, y.shape, X[0].shape, y[0].shape, X[0], y[0]"
   ]
  },
  {
   "cell_type": "code",
   "execution_count": 100,
   "id": "e55451fa-ee72-4835-b18a-d03d44899412",
   "metadata": {},
   "outputs": [
    {
     "name": "stdout",
     "output_type": "stream",
     "text": [
      "99444 99444 74583 24861 74583 24861\n"
     ]
    }
   ],
   "source": [
    "# Split the preprocessed data into a training and testing dataset\n",
    "X_train, X_test, y_train, y_test = train_test_split(X, y, test_size=SPLIT_TEST_SIZE, random_state=SPLIT_SEED)\n",
    "print( len(X), len(y), len(X_train), len(X_test), len(y_train), len(y_test) )"
   ]
  },
  {
   "cell_type": "code",
   "execution_count": 101,
   "id": "1d5fd198-2be6-4f66-91ff-0bbb1ccb819f",
   "metadata": {},
   "outputs": [
    {
     "data": {
      "text/plain": [
       "((74583, 128), (24861, 128))"
      ]
     },
     "execution_count": 101,
     "metadata": {},
     "output_type": "execute_result"
    }
   ],
   "source": [
    "# Create a StandardScaler instances\n",
    "scaler = StandardScaler()\n",
    "\n",
    "# Fit the StandardScaler\n",
    "X_scaler = scaler.fit(X_train)\n",
    "\n",
    "# Scale the data\n",
    "X_train_scaled = X_scaler.transform(X_train)\n",
    "X_test_scaled = X_scaler.transform(X_test)\n",
    "X_train_scaled.shape, X_test_scaled.shape"
   ]
  },
  {
   "cell_type": "code",
   "execution_count": 102,
   "id": "e0fdee2d-2e95-4fb1-96e9-c428546102cc",
   "metadata": {},
   "outputs": [
    {
     "name": "stdout",
     "output_type": "stream",
     "text": [
      "Building new model\n"
     ]
    },
    {
     "data": {
      "text/html": [
       "<pre style=\"white-space:pre;overflow-x:auto;line-height:normal;font-family:Menlo,'DejaVu Sans Mono',consolas,'Courier New',monospace\"><span style=\"font-weight: bold\">Model: \"sequential_9\"</span>\n",
       "</pre>\n"
      ],
      "text/plain": [
       "\u001b[1mModel: \"sequential_9\"\u001b[0m\n"
      ]
     },
     "metadata": {},
     "output_type": "display_data"
    },
    {
     "data": {
      "text/html": [
       "<pre style=\"white-space:pre;overflow-x:auto;line-height:normal;font-family:Menlo,'DejaVu Sans Mono',consolas,'Courier New',monospace\">┏━━━━━━━━━━━━━━━━━━━━━━━━━━━━━━━━━┳━━━━━━━━━━━━━━━━━━━━━━━━┳━━━━━━━━━━━━━━━┓\n",
       "┃<span style=\"font-weight: bold\"> Layer (type)                    </span>┃<span style=\"font-weight: bold\"> Output Shape           </span>┃<span style=\"font-weight: bold\">       Param # </span>┃\n",
       "┡━━━━━━━━━━━━━━━━━━━━━━━━━━━━━━━━━╇━━━━━━━━━━━━━━━━━━━━━━━━╇━━━━━━━━━━━━━━━┩\n",
       "│ dense_70 (<span style=\"color: #0087ff; text-decoration-color: #0087ff\">Dense</span>)                │ (<span style=\"color: #00d7ff; text-decoration-color: #00d7ff\">None</span>, <span style=\"color: #00af00; text-decoration-color: #00af00\">12</span>)             │         <span style=\"color: #00af00; text-decoration-color: #00af00\">1,548</span> │\n",
       "├─────────────────────────────────┼────────────────────────┼───────────────┤\n",
       "│ dense_71 (<span style=\"color: #0087ff; text-decoration-color: #0087ff\">Dense</span>)                │ (<span style=\"color: #00d7ff; text-decoration-color: #00d7ff\">None</span>, <span style=\"color: #00af00; text-decoration-color: #00af00\">12</span>)             │           <span style=\"color: #00af00; text-decoration-color: #00af00\">156</span> │\n",
       "├─────────────────────────────────┼────────────────────────┼───────────────┤\n",
       "│ dense_72 (<span style=\"color: #0087ff; text-decoration-color: #0087ff\">Dense</span>)                │ (<span style=\"color: #00d7ff; text-decoration-color: #00d7ff\">None</span>, <span style=\"color: #00af00; text-decoration-color: #00af00\">12</span>)             │           <span style=\"color: #00af00; text-decoration-color: #00af00\">156</span> │\n",
       "├─────────────────────────────────┼────────────────────────┼───────────────┤\n",
       "│ dense_73 (<span style=\"color: #0087ff; text-decoration-color: #0087ff\">Dense</span>)                │ (<span style=\"color: #00d7ff; text-decoration-color: #00d7ff\">None</span>, <span style=\"color: #00af00; text-decoration-color: #00af00\">12</span>)             │           <span style=\"color: #00af00; text-decoration-color: #00af00\">156</span> │\n",
       "├─────────────────────────────────┼────────────────────────┼───────────────┤\n",
       "│ dense_74 (<span style=\"color: #0087ff; text-decoration-color: #0087ff\">Dense</span>)                │ (<span style=\"color: #00d7ff; text-decoration-color: #00d7ff\">None</span>, <span style=\"color: #00af00; text-decoration-color: #00af00\">12</span>)             │           <span style=\"color: #00af00; text-decoration-color: #00af00\">156</span> │\n",
       "├─────────────────────────────────┼────────────────────────┼───────────────┤\n",
       "│ dense_75 (<span style=\"color: #0087ff; text-decoration-color: #0087ff\">Dense</span>)                │ (<span style=\"color: #00d7ff; text-decoration-color: #00d7ff\">None</span>, <span style=\"color: #00af00; text-decoration-color: #00af00\">12</span>)             │           <span style=\"color: #00af00; text-decoration-color: #00af00\">156</span> │\n",
       "├─────────────────────────────────┼────────────────────────┼───────────────┤\n",
       "│ dense_76 (<span style=\"color: #0087ff; text-decoration-color: #0087ff\">Dense</span>)                │ (<span style=\"color: #00d7ff; text-decoration-color: #00d7ff\">None</span>, <span style=\"color: #00af00; text-decoration-color: #00af00\">12</span>)             │           <span style=\"color: #00af00; text-decoration-color: #00af00\">156</span> │\n",
       "├─────────────────────────────────┼────────────────────────┼───────────────┤\n",
       "│ dense_77 (<span style=\"color: #0087ff; text-decoration-color: #0087ff\">Dense</span>)                │ (<span style=\"color: #00d7ff; text-decoration-color: #00d7ff\">None</span>, <span style=\"color: #00af00; text-decoration-color: #00af00\">12</span>)             │           <span style=\"color: #00af00; text-decoration-color: #00af00\">156</span> │\n",
       "├─────────────────────────────────┼────────────────────────┼───────────────┤\n",
       "│ dense_78 (<span style=\"color: #0087ff; text-decoration-color: #0087ff\">Dense</span>)                │ (<span style=\"color: #00d7ff; text-decoration-color: #00d7ff\">None</span>, <span style=\"color: #00af00; text-decoration-color: #00af00\">12</span>)             │           <span style=\"color: #00af00; text-decoration-color: #00af00\">156</span> │\n",
       "├─────────────────────────────────┼────────────────────────┼───────────────┤\n",
       "│ dense_79 (<span style=\"color: #0087ff; text-decoration-color: #0087ff\">Dense</span>)                │ (<span style=\"color: #00d7ff; text-decoration-color: #00d7ff\">None</span>, <span style=\"color: #00af00; text-decoration-color: #00af00\">1</span>)              │            <span style=\"color: #00af00; text-decoration-color: #00af00\">13</span> │\n",
       "└─────────────────────────────────┴────────────────────────┴───────────────┘\n",
       "</pre>\n"
      ],
      "text/plain": [
       "┏━━━━━━━━━━━━━━━━━━━━━━━━━━━━━━━━━┳━━━━━━━━━━━━━━━━━━━━━━━━┳━━━━━━━━━━━━━━━┓\n",
       "┃\u001b[1m \u001b[0m\u001b[1mLayer (type)                   \u001b[0m\u001b[1m \u001b[0m┃\u001b[1m \u001b[0m\u001b[1mOutput Shape          \u001b[0m\u001b[1m \u001b[0m┃\u001b[1m \u001b[0m\u001b[1m      Param #\u001b[0m\u001b[1m \u001b[0m┃\n",
       "┡━━━━━━━━━━━━━━━━━━━━━━━━━━━━━━━━━╇━━━━━━━━━━━━━━━━━━━━━━━━╇━━━━━━━━━━━━━━━┩\n",
       "│ dense_70 (\u001b[38;5;33mDense\u001b[0m)                │ (\u001b[38;5;45mNone\u001b[0m, \u001b[38;5;34m12\u001b[0m)             │         \u001b[38;5;34m1,548\u001b[0m │\n",
       "├─────────────────────────────────┼────────────────────────┼───────────────┤\n",
       "│ dense_71 (\u001b[38;5;33mDense\u001b[0m)                │ (\u001b[38;5;45mNone\u001b[0m, \u001b[38;5;34m12\u001b[0m)             │           \u001b[38;5;34m156\u001b[0m │\n",
       "├─────────────────────────────────┼────────────────────────┼───────────────┤\n",
       "│ dense_72 (\u001b[38;5;33mDense\u001b[0m)                │ (\u001b[38;5;45mNone\u001b[0m, \u001b[38;5;34m12\u001b[0m)             │           \u001b[38;5;34m156\u001b[0m │\n",
       "├─────────────────────────────────┼────────────────────────┼───────────────┤\n",
       "│ dense_73 (\u001b[38;5;33mDense\u001b[0m)                │ (\u001b[38;5;45mNone\u001b[0m, \u001b[38;5;34m12\u001b[0m)             │           \u001b[38;5;34m156\u001b[0m │\n",
       "├─────────────────────────────────┼────────────────────────┼───────────────┤\n",
       "│ dense_74 (\u001b[38;5;33mDense\u001b[0m)                │ (\u001b[38;5;45mNone\u001b[0m, \u001b[38;5;34m12\u001b[0m)             │           \u001b[38;5;34m156\u001b[0m │\n",
       "├─────────────────────────────────┼────────────────────────┼───────────────┤\n",
       "│ dense_75 (\u001b[38;5;33mDense\u001b[0m)                │ (\u001b[38;5;45mNone\u001b[0m, \u001b[38;5;34m12\u001b[0m)             │           \u001b[38;5;34m156\u001b[0m │\n",
       "├─────────────────────────────────┼────────────────────────┼───────────────┤\n",
       "│ dense_76 (\u001b[38;5;33mDense\u001b[0m)                │ (\u001b[38;5;45mNone\u001b[0m, \u001b[38;5;34m12\u001b[0m)             │           \u001b[38;5;34m156\u001b[0m │\n",
       "├─────────────────────────────────┼────────────────────────┼───────────────┤\n",
       "│ dense_77 (\u001b[38;5;33mDense\u001b[0m)                │ (\u001b[38;5;45mNone\u001b[0m, \u001b[38;5;34m12\u001b[0m)             │           \u001b[38;5;34m156\u001b[0m │\n",
       "├─────────────────────────────────┼────────────────────────┼───────────────┤\n",
       "│ dense_78 (\u001b[38;5;33mDense\u001b[0m)                │ (\u001b[38;5;45mNone\u001b[0m, \u001b[38;5;34m12\u001b[0m)             │           \u001b[38;5;34m156\u001b[0m │\n",
       "├─────────────────────────────────┼────────────────────────┼───────────────┤\n",
       "│ dense_79 (\u001b[38;5;33mDense\u001b[0m)                │ (\u001b[38;5;45mNone\u001b[0m, \u001b[38;5;34m1\u001b[0m)              │            \u001b[38;5;34m13\u001b[0m │\n",
       "└─────────────────────────────────┴────────────────────────┴───────────────┘\n"
      ]
     },
     "metadata": {},
     "output_type": "display_data"
    },
    {
     "data": {
      "text/html": [
       "<pre style=\"white-space:pre;overflow-x:auto;line-height:normal;font-family:Menlo,'DejaVu Sans Mono',consolas,'Courier New',monospace\"><span style=\"font-weight: bold\"> Total params: </span><span style=\"color: #00af00; text-decoration-color: #00af00\">2,809</span> (10.97 KB)\n",
       "</pre>\n"
      ],
      "text/plain": [
       "\u001b[1m Total params: \u001b[0m\u001b[38;5;34m2,809\u001b[0m (10.97 KB)\n"
      ]
     },
     "metadata": {},
     "output_type": "display_data"
    },
    {
     "data": {
      "text/html": [
       "<pre style=\"white-space:pre;overflow-x:auto;line-height:normal;font-family:Menlo,'DejaVu Sans Mono',consolas,'Courier New',monospace\"><span style=\"font-weight: bold\"> Trainable params: </span><span style=\"color: #00af00; text-decoration-color: #00af00\">2,809</span> (10.97 KB)\n",
       "</pre>\n"
      ],
      "text/plain": [
       "\u001b[1m Trainable params: \u001b[0m\u001b[38;5;34m2,809\u001b[0m (10.97 KB)\n"
      ]
     },
     "metadata": {},
     "output_type": "display_data"
    },
    {
     "data": {
      "text/html": [
       "<pre style=\"white-space:pre;overflow-x:auto;line-height:normal;font-family:Menlo,'DejaVu Sans Mono',consolas,'Courier New',monospace\"><span style=\"font-weight: bold\"> Non-trainable params: </span><span style=\"color: #00af00; text-decoration-color: #00af00\">0</span> (0.00 B)\n",
       "</pre>\n"
      ],
      "text/plain": [
       "\u001b[1m Non-trainable params: \u001b[0m\u001b[38;5;34m0\u001b[0m (0.00 B)\n"
      ]
     },
     "metadata": {},
     "output_type": "display_data"
    }
   ],
   "source": [
    "if LOAD_BEST_MODEL:\n",
    "    print(f\"Loading model from {BEST_PATH}\")\n",
    "    nn = tf.keras.models.load_model(BEST_PATH)\n",
    "else:\n",
    "    print(\"Building new model\")\n",
    "    in_shape = (CHUNK_SIZE,)\n",
    "    nn = tf.keras.models.Sequential()\n",
    "    \n",
    "    # Input layer\n",
    "    nn.add(tf.keras.Input(shape=in_shape))\n",
    "    \n",
    "    # Hidden layers\n",
    "    activations = [\"tanh\", \"relu\", \"elu\", \"exponential\", \"gelu\", \"mish\", \"relu6\", \"tanh\", \"selu\"]\n",
    "    unit_counts = [LAYER_UNITS]\n",
    "    for u in unit_counts:\n",
    "        for a in activations:\n",
    "            nn.add(tf.keras.layers.Dense(units=u, activation=a))\n",
    "    \n",
    "    # Output layer\n",
    "    nn.add(tf.keras.layers.Dense(units=OUTPUT_SIZE))\n",
    "    \n",
    "# Check the structure of the model\n",
    "nn.summary()"
   ]
  },
  {
   "cell_type": "code",
   "execution_count": 103,
   "id": "08319c4f-7080-477b-93b8-eca4791c449a",
   "metadata": {},
   "outputs": [
    {
     "name": "stdout",
     "output_type": "stream",
     "text": [
      "Training model\n",
      "Epoch 1/5\n",
      "\u001b[1m2331/2331\u001b[0m \u001b[32m━━━━━━━━━━━━━━━━━━━━\u001b[0m\u001b[37m\u001b[0m \u001b[1m11s\u001b[0m 4ms/step - loss: 15.4087 - mae: 15.4087\n",
      "Epoch 2/5\n",
      "\u001b[1m2331/2331\u001b[0m \u001b[32m━━━━━━━━━━━━━━━━━━━━\u001b[0m\u001b[37m\u001b[0m \u001b[1m8s\u001b[0m 3ms/step - loss: 11.7122 - mae: 11.7122\n",
      "Epoch 3/5\n",
      "\u001b[1m2331/2331\u001b[0m \u001b[32m━━━━━━━━━━━━━━━━━━━━\u001b[0m\u001b[37m\u001b[0m \u001b[1m8s\u001b[0m 3ms/step - loss: 11.2459 - mae: 11.2459\n",
      "Epoch 4/5\n",
      "\u001b[1m2331/2331\u001b[0m \u001b[32m━━━━━━━━━━━━━━━━━━━━\u001b[0m\u001b[37m\u001b[0m \u001b[1m9s\u001b[0m 4ms/step - loss: 10.2529 - mae: 10.2529\n",
      "Epoch 5/5\n",
      "\u001b[1m2331/2331\u001b[0m \u001b[32m━━━━━━━━━━━━━━━━━━━━\u001b[0m\u001b[37m\u001b[0m \u001b[1m8s\u001b[0m 3ms/step - loss: 9.8985 - mae: 9.8985\n",
      "777/777 - 3s - 3ms/step - loss: 9.7261 - mae: 9.7261\n",
      "Loss: 9.726078987121582, Accuracy: 9.726078987121582\n",
      "CPU times: user 44.6 s, sys: 12.6 s, total: 57.2 s\n",
      "Wall time: 46.7 s\n"
     ]
    }
   ],
   "source": [
    "%%time\n",
    "\n",
    "# Set up training checkpoint to save after each epoch, if it is a new best model:\n",
    "BEST_PATH = './best.keras'\n",
    "model_checkpoint_callback = tf.keras.callbacks.ModelCheckpoint(\n",
    "    filepath=BEST_PATH,\n",
    "    monitor=MAIN_ACCURACY_METRIC,\n",
    "    mode=GOOD_ACCURACY_DIRECTION,\n",
    "    save_best_only=True,\n",
    "    save_weights_only=False,\n",
    "    verbose=1)\n",
    "\n",
    "if TRAIN_MODEL:\n",
    "    print(f\"Training model\")\n",
    "    \n",
    "    # Compile the Sequential model together and customize metrics\n",
    "    nn.compile(loss=LOSS_METRIC, optimizer=\"sgd\", metrics=[MAIN_ACCURACY_METRIC])\n",
    "    \n",
    "    # Fit the model to the training data\n",
    "    callbacks = None\n",
    "    if SAVE_BEST_MODEL:\n",
    "        callbacks = [model_checkpoint_callback]\n",
    "    fit_model = nn.fit(X_train_scaled, y_train, epochs=EPOCHS, callbacks=callbacks)\n",
    "\n",
    "# Evaluate the model using the test data\n",
    "model_loss, model_accuracy = nn.evaluate(X_test_scaled,y_test,verbose=2)\n",
    "print(f\"Loss: {model_loss}, Accuracy: {model_accuracy}\")"
   ]
  },
  {
   "cell_type": "code",
   "execution_count": null,
   "id": "4abd4fd4-831e-43a5-9351-c0c2cfa1be2c",
   "metadata": {},
   "outputs": [],
   "source": [
    "def decode_chunks_with_model(chunks: list[list], model, scaler, input_already_scaled = True) -> list[list]:\n",
    "    if input_already_scaled:\n",
    "        return model.predict(chunks)\n",
    "    else:\n",
    "        return model.predict(scaler.transform(chunks))\n",
    "\n",
    "def decode_text_with_model(ciphertext: str, model, scaler) -> str:\n",
    "    chunks = helpers.string_to_bytes(ciphertext, CHUNK_SIZE)\n",
    "    decoded_chunks = decode_chunks_with_model(chunks, model, scaler, input_already_scaled = False)\n",
    "    return helpers.bytes_to_string(decoded_chunks)\n",
    "\n",
    "def infer_key_with_model(ciphertext: str, model, scaler) -> int:\n",
    "    chunks = helpers.string_to_bytes(ciphertext, CHUNK_SIZE)\n",
    "    key = int(round(model.predict(scaler.transform(chunks))[0][0]))\n",
    "    return key\n",
    "\n",
    "cipher_file_db = sid_to_c[list(sid_to_c.keys())[0]][0]\n",
    "ciphertext_path = cipher_file_db.path\n",
    "ciphertext = helpers.read_text_file(ciphertext_path)\n",
    "ciphertext = ciphertext[0:CHUNK_SIZE*2]\n",
    "    \n",
    "if INFER_TEXT:    \n",
    "    print(\"Decoded   : \", decode_text_with_model(ciphertext, nn, X_scaler))\n",
    "if INFER_KEY:\n",
    "    with db.get_session() as session:\n",
    "        correct_key = int(db.get_key_by_id(session, cipher_file_db.key_id).value)\n",
    "    print(\"Correct Key: \", correct_key)\n",
    "    \n",
    "    inferred_key = infer_key_with_model(ciphertext, nn, X_scaler)\n",
    "    print(\"Inferred Key: \", inferred_key)\n",
    "\n",
    "list(sid_to_c.keys())[0]"
   ]
  },
  {
   "cell_type": "code",
   "execution_count": null,
   "id": "eca1c384-8e11-4541-a33c-59f14cb7ecf2",
   "metadata": {},
   "outputs": [],
   "source": []
  }
 ],
 "metadata": {
  "kernelspec": {
   "display_name": "Python 3 (ipykernel)",
   "language": "python",
   "name": "python3"
  },
  "language_info": {
   "codemirror_mode": {
    "name": "ipython",
    "version": 3
   },
   "file_extension": ".py",
   "mimetype": "text/x-python",
   "name": "python",
   "nbconvert_exporter": "python",
   "pygments_lexer": "ipython3",
   "version": "3.12.7"
  }
 },
 "nbformat": 4,
 "nbformat_minor": 5
}
