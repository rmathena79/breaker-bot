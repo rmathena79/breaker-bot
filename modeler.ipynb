{
 "cells": [
  {
   "cell_type": "code",
   "execution_count": 88,
   "id": "bca2471e-572c-4233-b18c-e8e03e8cf40c",
   "metadata": {},
   "outputs": [],
   "source": [
    "# Import our dependencies\n",
    "from sklearn.model_selection import train_test_split\n",
    "from sklearn.preprocessing import StandardScaler\n",
    "import numpy as np\n",
    "import tensorflow as tf\n",
    "import keras_tuner as kt\n",
    "import pathlib\n",
    "import random\n",
    "\n",
    "from credentials import SAMPLE_DB, FULL_DB\n",
    "from librarian import SAMPLE_DATA_DIR\n",
    "\n",
    "import encoders\n",
    "import db_connect\n",
    "import helpers"
   ]
  },
  {
   "cell_type": "markdown",
   "id": "0088ab2d-0294-47b0-8528-98cbbbfb15bd",
   "metadata": {},
   "source": [
    "## Config\n",
    "This notebook has a lot of options to adjust, most of which are controlled here."
   ]
  },
  {
   "cell_type": "code",
   "execution_count": 89,
   "id": "f9bdcd65-ceca-4b1a-921a-4544e38b37b0",
   "metadata": {},
   "outputs": [],
   "source": [
    "DATA_DIR = SAMPLE_DATA_DIR\n",
    "CHUNK_SIZE = 512\n",
    "PROCESSING_UNITS = CHUNK_SIZE // 4\n",
    "LAYER_UNITS = max(1, CHUNK_SIZE // 10)\n",
    "\n",
    "INFER_TEXT = False\n",
    "INFER_KEY = not INFER_TEXT\n",
    "\n",
    "USE_CUSTOM_LOSS = True\n",
    "USE_CUSTOM_OUTPUT_ACTIVATION = True\n",
    "\n",
    "OUTPUT_MIN = 0\n",
    "OUTPUT_MAX = len(encoders.CHARSET)-1\n",
    "CUSTOM_LOSS_MODULO = OUTPUT_MAX+1\n",
    "\n",
    "if INFER_TEXT:\n",
    "    MAIN_ACCURACY_METRIC = \"mae\"\n",
    "    LOSS_METRIC = \"mean_squared_error\"\n",
    "    OUTPUT_SIZE = CHUNK_SIZE\n",
    "    OPTIMIZER = \"sgd\"\n",
    "else:\n",
    "    MAIN_ACCURACY_METRIC = \"mae\"\n",
    "    LOSS_METRIC = \"mae\"\n",
    "    OUTPUT_SIZE = 1 # actually depends on cipher\n",
    "    OPTIMIZER = \"adamax\"    \n",
    "\n",
    "ENCRYPTED_FILE_LIMIT = 10 # -1 to disable limit\n",
    "#ENCRYPTED_FILE_LIMIT = -1 # -1 to disable limit\n",
    "\n",
    "BASE_TRAIN_PCT = 0.75   # Start here. If train or test count would exceed the max, reduce it. Note 0.75 is the default.\n",
    "#MAX_TRAIN_COUNT = 100000 # -1 to disable\n",
    "#MAX_TEST_COUNT = 100000 # -1 to disable\n",
    "#MAX_TRAIN_COUNT = 1000 # -1 to disable\n",
    "#MAX_TEST_COUNT = 1000 # -1 to disable\n",
    "SPLIT_SEED = 42\n",
    "\n",
    "LOAD_BEST_MODEL = False # If False, a new model will be created from scratch\n",
    "SAVE_BEST_MODEL = True\n",
    "BEST_PATH = './saved_models/best.keras'\n",
    "\n",
    "# Whether to run the tuner or the hard-coded network build code\n",
    "TUNE_NETWORK = True\n",
    "BUILD_NETWORK = not TUNE_NETWORK\n",
    "TRAIN_MODEL = BUILD_NETWORK\n",
    "\n",
    "TUNER_DIRECTORY = \"tuner_projects\"\n",
    "TUNER_PROJECT_NAME = \"KT\"\n",
    "\n",
    "EPOCHS = 5\n",
    "BATCH_SIZE = 32 # Default is 32"
   ]
  },
  {
   "cell_type": "markdown",
   "id": "8b7ec896-6840-4696-bebd-c0419f8a1f69",
   "metadata": {},
   "source": [
    "# Data Retrieval and Structuring"
   ]
  },
  {
   "cell_type": "code",
   "execution_count": 90,
   "id": "789ab2e5-5e11-4812-91be-bb9a63acb6ca",
   "metadata": {},
   "outputs": [
    {
     "name": "stdout",
     "output_type": "stream",
     "text": [
      "Encoder IDs: {'None': 1, 'Simplifier': 2, 'Caesar Cipher': 3, 'Substitution Cipher': 4, 'Enigma Machine': 5}\n",
      "Key Type IDs: {'Character Offset': 1, 'Character Map': 2, 'Rotor Settings': 3}\n"
     ]
    }
   ],
   "source": [
    "# Get database IDs for encoders and key types\n",
    "\n",
    "encoder_ids= {}\n",
    "key_type_ids = {}\n",
    "\n",
    "db = db_connect.DB(SAMPLE_DB)\n",
    "with db.get_session() as session:\n",
    "    for encoder in encoders.ALL_ENCODER_NAMES:\n",
    "        id = db.get_encoder_id(session, encoder)\n",
    "        encoder_ids[encoder] = id\n",
    "\n",
    "    print(f\"Encoder IDs: {encoder_ids}\")\n",
    "\n",
    "    for key_type in encoders.KEY_NAMES:\n",
    "        id = db.get_key_type_id(session, key_type)\n",
    "        key_type_ids[key_type] = id\n",
    "\n",
    "    print(f\"Key Type IDs: {key_type_ids}\")"
   ]
  },
  {
   "cell_type": "code",
   "execution_count": 91,
   "id": "0fc8e5ca-4b37-4947-9e79-f061cc993a31",
   "metadata": {},
   "outputs": [
    {
     "data": {
      "text/plain": [
       "(4, 4)"
      ]
     },
     "execution_count": 91,
     "metadata": {},
     "output_type": "execute_result"
    }
   ],
   "source": [
    "# Map source ID to plaintext file (1) details, and source ID to corresponding ciphertext files (1+) details\n",
    "sid_to_p = {}\n",
    "sid_to_c = {}\n",
    "\n",
    "cipher_id = encoder_ids[encoders.ENCODER_CAESAR]\n",
    "with db.get_session() as session:\n",
    "    # Get all files encrypted with the cipher we care about\n",
    "    encrypted_files = db.get_files_by_source_and_encoder(session, -1, cipher_id)\n",
    "\n",
    "    if len(encrypted_files) > ENCRYPTED_FILE_LIMIT and ENCRYPTED_FILE_LIMIT > 0:\n",
    "        encrypted_files = random.sample(encrypted_files, ENCRYPTED_FILE_LIMIT)\n",
    "\n",
    "    for c in encrypted_files:\n",
    "        sid = c.source_id\n",
    "    \n",
    "        if sid not in sid_to_p:\n",
    "            plaintext_ids = db.get_files_by_source_and_encoder(session, sid, encoder_ids[encoders.ENCODER_SIMPLIFIER])\n",
    "            if len(plaintext_ids) != 1:\n",
    "                raise Exception(f\"Found {len(plaintext_ids)} plaintexts for source ID {sid}; should be exactly 1\")\n",
    "            sid_to_p[sid] = plaintext_ids[0]\n",
    "\n",
    "        if sid not in sid_to_c:\n",
    "            sid_to_c[sid] = []\n",
    "        sid_to_c[sid].append(c)\n",
    "\n",
    "len(sid_to_p), len(sid_to_c)"
   ]
  },
  {
   "cell_type": "code",
   "execution_count": 92,
   "id": "e3f6de1c-79f8-4637-8dec-ade266665517",
   "metadata": {},
   "outputs": [
    {
     "data": {
      "text/plain": [
       "((9707, 512),\n",
       " (9707,),\n",
       " (512,),\n",
       " (),\n",
       " array([47., 47.,  1.,  3.,  0., 51.,  6., 50., 52., 51., 46., 49., 10.,\n",
       "        46., 59., 48.,  3.,  3., 10., 46., 55., 48.,  3.,  3., 56.,  4.,\n",
       "         0., 61., 40., 46., 50., 56., 61., 51., 10., 46., 49., 52., 10.,\n",
       "        52.,  3., 40., 46., 48., 61., 51., 46.,  5., 55., 52., 46.,  0.,\n",
       "        61., 59., 56., 61., 52., 47., 51., 56.,  4.,  5.,  3., 56., 49.,\n",
       "         6.,  5., 52., 51., 46.,  1.,  3.,  0.,  0., 53.,  3., 52., 48.,\n",
       "        51., 52.,  3.,  4., 46., 50., 48., 61., 48., 51., 48., 46.,  5.,\n",
       "        52., 48., 60., 46., 48.,  5., 47., 55.,  5.,  5.,  1., 38., 42.,\n",
       "        42.,  8.,  8.,  8., 41.,  1., 54., 51.,  1., 50., 48., 61., 48.,\n",
       "        51., 48., 41., 61., 52.,  5., 46.,  8., 56.,  5., 55., 46., 56.,\n",
       "        60., 48., 54., 52.,  4., 46.,  1.,  3.,  0.,  7., 56., 51., 52.,\n",
       "        51., 46., 49., 10., 46.,  5., 56., 48., 22.,  6.,  4., 41., 47.,\n",
       "        47., 46., 34., 50.,  0.,  7., 52.,  3., 46., 56., 59., 59.,  6.,\n",
       "         4.,  5.,  3., 48.,  5., 56.,  0., 61., 35., 47., 47., 46.,  5.,\n",
       "         3., 56., 48., 59., 47., 46.,  0., 53., 47., 46.,  5., 55., 52.,\n",
       "        46., 60., 48., 57.,  0.,  3., 46.,  8., 48.,  3., 46., 50.,  3.,\n",
       "        56., 60., 56., 61., 48., 59.,  4., 47., 47., 46., 49., 52., 53.,\n",
       "         0.,  3., 52., 47., 47., 46.,  5., 55., 52., 46., 56., 61.,  5.,\n",
       "        52.,  3., 61., 48.,  5., 56.,  0., 61., 48., 59., 47., 46., 60.,\n",
       "        56., 59., 56.,  5., 48.,  3., 10., 46.,  5.,  3., 56., 49.,  6.,\n",
       "        61., 48., 59., 47., 47., 46., 61., 46.,  6., 46.,  3., 46., 52.,\n",
       "        46., 60., 46., 49., 46., 52., 46.,  3., 46., 54., 47., 46., 12.,\n",
       "        15., 46., 61.,  0.,  7., 52., 60., 49., 52.,  3., 46., 12., 20.,\n",
       "        15., 16., 22., 12., 46.,  0., 50.,  5.,  0., 49., 52.,  3., 46.,\n",
       "        12., 20., 15., 17., 47., 47., 34., 56., 59., 59.,  6.,  4.,  5.,\n",
       "         3., 48.,  5., 56.,  0., 61., 35., 47., 47., 46.,  1., 46.,  6.,\n",
       "        46., 49., 46., 59., 46., 56., 46.,  4., 46., 55., 46., 52., 46.,\n",
       "        51., 46., 48., 46.,  5., 46., 61., 46.,  6., 46.,  3., 46., 52.,\n",
       "        46., 60., 46., 49., 46., 52., 46.,  3., 46., 54., 46., 40., 46.,\n",
       "        54., 46., 52., 46.,  3., 46., 60., 46., 48., 46., 61., 46., 10.,\n",
       "        47., 46., 12., 46., 20., 46., 15., 46., 18., 47., 47., 46.,  5.,\n",
       "        55., 56.,  4., 46.,  7.,  0., 59.,  6., 60., 52., 46., 56.,  4.,\n",
       "        46.,  1.,  6., 49., 59., 56.,  4., 55., 52., 51., 46., 56., 61.,\n",
       "        46., 48., 50., 50.,  0.,  3., 51., 48., 61., 50., 52., 46.,  8.,\n",
       "        56.,  5., 55., 46.,  5., 55., 52., 47., 46., 51., 56.,  3., 52.,\n",
       "        50.,  5., 56.,  0., 61., 46.,  0., 53., 46.,  5., 55., 52., 46.,\n",
       "        56., 61.,  5., 52.,  3., 61., 48.,  5., 56.,  0., 61., 48., 59.,\n",
       "        46., 60., 56., 59., 56.,  5., 48.,  3., 10., 46.,  5.,  3., 56.,\n",
       "        49.,  6., 61., 48., 59., 46., 49., 10., 47., 46.,  5., 55., 52.,\n",
       "        46.,  4., 52., 50.,  3.]),\n",
       " 48.0)"
      ]
     },
     "execution_count": 92,
     "metadata": {},
     "output_type": "execute_result"
    }
   ],
   "source": [
    "# Build up the features (X, the cipher texts as offsets) and targets (y, either the plain texts as offsets OR the key).\n",
    "# Note targets are not necessarily unique.\n",
    "X = []\n",
    "y = []\n",
    "\n",
    "with db.get_session() as session:\n",
    "    for sid in sid_to_p:\n",
    "        if INFER_TEXT:\n",
    "            plaintext = encoders.string_to_offsets(helpers.read_text_file(sid_to_p[sid].path))\n",
    "            target_chunks = helpers.chunkify(plaintext, CHUNK_SIZE)    \n",
    "    \n",
    "        for c in sid_to_c[sid]:\n",
    "            ciphertext = encoders.string_to_offsets(helpers.read_text_file(c.path))\n",
    "            feature_chunks = helpers.chunkify(ciphertext, CHUNK_SIZE)\n",
    "\n",
    "            if INFER_KEY:\n",
    "                key_value = float(db.get_key_by_id(session, c.key_id).value)\n",
    "    \n",
    "            for i in range (len(feature_chunks)):\n",
    "                X.append(np.array(feature_chunks[i]).astype(float))\n",
    "\n",
    "                if INFER_TEXT:\n",
    "                    y.append(np.array(target_chunks[i]).astype(float))\n",
    "\n",
    "                if INFER_KEY:\n",
    "                    y.append(key_value)\n",
    "\n",
    "X = np.array(X)\n",
    "y = np.array(y)\n",
    "\n",
    "X.shape, y.shape, X[0].shape, y[0].shape, X[0], y[0]"
   ]
  },
  {
   "cell_type": "code",
   "execution_count": 93,
   "id": "e55451fa-ee72-4835-b18a-d03d44899412",
   "metadata": {},
   "outputs": [
    {
     "name": "stdout",
     "output_type": "stream",
     "text": [
      "Train count is 7280\n",
      "Test count is 2427\n",
      "Initial counts:  9707 9707 7280 2427 7280 2427\n"
     ]
    }
   ],
   "source": [
    "# Split the preprocessed data into a training and testing dataset\n",
    "train_count = int(round(len(y) * BASE_TRAIN_PCT))\n",
    "if train_count > MAX_TRAIN_COUNT and MAX_TRAIN_COUNT > -1:\n",
    "    print(f\"Train count would be {train_count}\")\n",
    "    train_count = int(MAX_TRAIN_COUNT)\n",
    "print(f\"Train count is {train_count}\")\n",
    "\n",
    "test_count = len(y) - train_count\n",
    "if test_count > MAX_TEST_COUNT and MAX_TEST_COUNT > -1:\n",
    "    print(f\"Test count would be {test_count}\")\n",
    "    test_count = int(MAX_TEST_COUNT)\n",
    "print(f\"Test count is {test_count}\")\n",
    "\n",
    "X_train, X_test, y_train, y_test = train_test_split(X, y, train_size=train_count, test_size=test_count, random_state=SPLIT_SEED)\n",
    "print( \"Initial counts: \", len(X), len(y), len(X_train), len(X_test), len(y_train), len(y_test) )"
   ]
  },
  {
   "cell_type": "code",
   "execution_count": 94,
   "id": "1d5fd198-2be6-4f66-91ff-0bbb1ccb819f",
   "metadata": {},
   "outputs": [
    {
     "data": {
      "text/plain": [
       "((7280, 512), (2427, 512))"
      ]
     },
     "execution_count": 94,
     "metadata": {},
     "output_type": "execute_result"
    }
   ],
   "source": [
    "# Create a StandardScaler instances\n",
    "scaler = StandardScaler()\n",
    "\n",
    "# Fit the StandardScaler\n",
    "X_scaler = scaler.fit(X_train)\n",
    "\n",
    "# Scale the data\n",
    "X_train_scaled = X_scaler.transform(X_train)\n",
    "X_test_scaled = X_scaler.transform(X_test)\n",
    "X_train_scaled.shape, X_test_scaled.shape"
   ]
  },
  {
   "cell_type": "markdown",
   "id": "bd3300c5-1772-41d7-b5e7-f790fceb6074",
   "metadata": {},
   "source": [
    "# Tensorflow Callbacks\n",
    "Custom layer activation function, loss and accuracy functions, and model save checkpoint."
   ]
  },
  {
   "cell_type": "code",
   "execution_count": 95,
   "id": "3b3de2a3-9271-49ab-ace6-c175d2e46720",
   "metadata": {},
   "outputs": [],
   "source": [
    "# Custom output activation, forcing output to be within range -- but not rounding it off\n",
    "def modulo_output(x):\n",
    "    return tf.math.mod(x, OUTPUT_MAX)\n",
    "\n",
    "# Training checkpoint to save after each epoch, if it is a new best model:\n",
    "model_checkpoint_callback = tf.keras.callbacks.ModelCheckpoint(\n",
    "    filepath=BEST_PATH,\n",
    "    monitor=\"loss\",\n",
    "    mode=\"min\",\n",
    "    save_best_only=True,\n",
    "    save_weights_only=False,\n",
    "    verbose=1)\n",
    "\n",
    "# Custom loss function, adapted from code generated by Copilot\n",
    "def modulo_distance_loss(y_true, y_pred):\n",
    "    \"\"\" Custom loss function to compute the modulo distance. \n",
    "    Args: \n",
    "        y_true: True values (ground truth). \n",
    "        y_pred: Predicted values. \n",
    "        modulo: The modulo value to apply -- hard coded.\n",
    "    Returns: \n",
    "        The computed loss. \n",
    "    \"\"\" \n",
    "    # Compute the raw difference\n",
    "    diff = tf.abs(y_true - y_pred)\n",
    "    # Apply modulo operation to handle wrap-around cases\n",
    "    mod_diff = tf.math.mod(diff, CUSTOM_LOSS_MODULO)\n",
    "    # Ensure the distance is within the range [0, CUSTOM_LOSS_MODULO/2]\n",
    "    loss = tf.minimum(mod_diff, CUSTOM_LOSS_MODULO - mod_diff) \n",
    "    return tf.reduce_mean(loss)\n",
    "\n",
    "# Custom accuracy function, counterpart to the loss function above.\n",
    "# Returns accuracy as 1 - (average percent distance from correct value)\n",
    "def modulo_distance_accuracy(y_true, y_pred):\n",
    "    diff = tf.abs(y_true - y_pred)\n",
    "    mod_diff = tf.math.mod(diff, CUSTOM_LOSS_MODULO)\n",
    "    loss = tf.minimum(mod_diff, CUSTOM_LOSS_MODULO - mod_diff)\n",
    "\n",
    "    good_part = tf.math.subtract(CUSTOM_LOSS_MODULO / 2, loss)\n",
    "    accuracy = tf.math.divide(good_part, CUSTOM_LOSS_MODULO / 2)\n",
    "\n",
    "    return tf.reduce_mean(accuracy)\n",
    "\n",
    "# Custom accuracy, percent of correct values after rounding and doing modulo division\n",
    "def modulo_rounded_accuracy(y_true, y_pred):\n",
    "    # y_true SHOULD all be round, in-bounds numbers but just in case...\n",
    "    true_rounded = tf.math.round(y_true)\n",
    "    true_mod = tf.math.mod(true_rounded, CUSTOM_LOSS_MODULO)\n",
    "\n",
    "    # y_pred came straight from the model, so it needs to be rounded and mod'ed\n",
    "    pred_rounded = tf.math.round(y_pred)\n",
    "    pred_mod = tf.math.mod(pred_rounded, CUSTOM_LOSS_MODULO)\n",
    "\n",
    "    # Count matches, as a percentage by averaging all the 0's and 1's\n",
    "    matches_bool = tf.math.equal(true_mod, pred_mod)\n",
    "    matches_float = tf.cast(matches_bool, tf.float64)\n",
    "    return tf.reduce_mean(matches_float)"
   ]
  },
  {
   "cell_type": "code",
   "execution_count": 96,
   "id": "c6fd9e25-9167-4ee5-85cd-b16e9c7a8c4b",
   "metadata": {},
   "outputs": [
    {
     "name": "stdout",
     "output_type": "stream",
     "text": [
      "true: tf.Tensor(\n",
      "[[  1.   2.   3. 310.]\n",
      " [  1.   2.   3. 310.]], shape=(2, 4), dtype=float64)\n",
      "pred: tf.Tensor(\n",
      "[[ 0.4  1.5  3.5 62.4]\n",
      " [ 0.4  1.5  3.5 62.4]], shape=(2, 4), dtype=float64)\n",
      "rond: tf.Tensor(\n",
      "[[ 0.  2.  4. 62.]\n",
      " [ 0.  2.  4. 62.]], shape=(2, 4), dtype=float64)\n",
      "diff tf.Tensor(\n",
      "[[  0.6   0.5   0.5 247.6]\n",
      " [  0.6   0.5   0.5 247.6]], shape=(2, 4), dtype=float64)\n",
      "loss: tf.Tensor(0.5000000000000014, shape=(), dtype=float64)\n",
      "accD: tf.Tensor(0.9838709677419354, shape=(), dtype=float64)\n",
      "accR: tf.Tensor(0.5, shape=(), dtype=float64)\n"
     ]
    }
   ],
   "source": [
    "#!!! Scratch for testing my loss and accuracy functions\n",
    "t_true = [[1.0, 2.0, 3.0, CUSTOM_LOSS_MODULO*5]]*2\n",
    "t_pred = [[0.4, 1.5, 3.5, CUSTOM_LOSS_MODULO + 0.4]]*2\n",
    "\n",
    "t_true_ts = tf.constant(np.array(t_true).astype(float))\n",
    "t_pred_ts = tf.constant(np.array(t_pred).astype(float))\n",
    "loss = modulo_distance_loss(t_true_ts, t_pred_ts)\n",
    "accD = modulo_distance_accuracy(t_true_ts, t_pred_ts)\n",
    "accR = modulo_rounded_accuracy(t_true_ts, t_pred_ts)\n",
    "print(\"true:\", t_true_ts)\n",
    "print(\"pred:\", t_pred_ts)\n",
    "print(\"rond:\", tf.math.round(t_pred_ts))\n",
    "print(\"diff\", abs(t_true_ts - t_pred_ts))\n",
    "print(\"loss:\", loss)\n",
    "print(\"accD:\", accD)\n",
    "print(\"accR:\", accR)\n"
   ]
  },
  {
   "cell_type": "markdown",
   "id": "c340dfc6-d8e6-461c-87af-f2627f638908",
   "metadata": {},
   "source": [
    "# Hyperband Tuning"
   ]
  },
  {
   "cell_type": "code",
   "execution_count": 102,
   "id": "13b11ccc-1c3b-4947-afb0-4872e4d5b409",
   "metadata": {},
   "outputs": [
    {
     "name": "stdout",
     "output_type": "stream",
     "text": [
      "Trial 2 Complete [00h 00m 17s]\n",
      "val_loss: 9.689452171325684\n",
      "\n",
      "Best val_loss So Far: 9.689452171325684\n",
      "Total elapsed time: 00h 00m 34s\n",
      "Best Hyper Values: {'Processing_Units': 8, 'Sigmoid': 0, 'Output_Limiter': 1, 'Optimizer': 'adamax', 'Scaler': 1, 'tuner/epochs': 2, 'tuner/initial_epoch': 0, 'tuner/bracket': 0, 'tuner/round': 0}\n"
     ]
    },
    {
     "name": "stderr",
     "output_type": "stream",
     "text": [
      "/home/roy/anaconda3/envs/dev_1102/lib/python3.12/site-packages/keras/src/saving/saving_lib.py:576: UserWarning: Skipping variable loading for optimizer 'adamax', because it has 2 variables whereas the saved optimizer has 14 variables. \n",
      "  saveable.load_own_variables(weights_store.get(inner_path))\n"
     ]
    },
    {
     "name": "stdout",
     "output_type": "stream",
     "text": [
      "76/76 - 1s - 17ms/step - loss: 9.6895 - modulo_distance_accuracy: 0.5856 - modulo_rounded_accuracy: 0.0000e+00\n",
      "Best Model Loss: 9.689452171325684, Accuracy: [0.5855628848075867, 0.0]\n"
     ]
    }
   ],
   "source": [
    "GO_FAST = True\n",
    "\n",
    "MAX_EPOCHS_PER_MODEL = 15 # Meant to get a decent idea of parameter, not create a final model\n",
    "HYPERBAND_ITERATIONS = 1  # \"Number of times to iterate over the full Hyperband algorithm\"\n",
    "EXECUTIONS_PER_TRIAL = 1  # Training from scratch\n",
    "SEARCH_FIT_EPOCHS = 7     # Epochs for each attempt to do a fit, I think. Not sure how this relates to MAX_EPOCHS_PER_MODEL.\n",
    "OVERWRITE = True         # I'm hoping to be able to interrupt a run and resume it later\n",
    "\n",
    "CHOICES_PROCESSING_UNITS = [1, CHUNK_SIZE // 4, CHUNK_SIZE, CHUNK_SIZE * 2]\n",
    "CHOICES_USE_SIGMOID = [True, False]\n",
    "CHOICES_USE_SCALER = [True, False] # Only relevant when using Sigmoid\n",
    "CHOICES_USE_OUTPUT_LIMITER = [True, False]\n",
    "CHOICES_OPTIMIZER = [\"adamax\", \"sgd\", \"RMSProp\"]\n",
    "\n",
    "if GO_FAST:\n",
    "    MAX_EPOCHS_PER_MODEL = 2\n",
    "    SEARCH_FIT_EPOCHS = 2\n",
    "    CHOICES_PROCESSING_UNITS = [1, 8]\n",
    "    CHOICES_OPTIMIZER = [\"adamax\"]\n",
    "\n",
    "# Create a method that creates a new Sequential model with hyperparameter options\n",
    "def create_model(hp):\n",
    "    processing_units = hp.Choice(\"Processing_Units\", CHOICES_PROCESSING_UNITS)\n",
    "    use_sigmoid = hp.Choice(\"Sigmoid\", CHOICES_USE_SIGMOID)    \n",
    "    use_output_limiter = hp.Choice(\"Output_Limiter\", CHOICES_USE_OUTPUT_LIMITER)\n",
    "    optimizer = hp.Choice(\"Optimizer\", CHOICES_OPTIMIZER)\n",
    "\n",
    "    model = tf.keras.models.Sequential()\n",
    "    model.add(tf.keras.layers.Embedding(input_dim=CHUNK_SIZE, output_dim=processing_units, name=\"Embedding_Input\"))\n",
    "    \n",
    "    model.add(tf.keras.layers.LSTM(processing_units, name=\"LSTM\"))\n",
    "\n",
    "    if use_sigmoid:\n",
    "        model.add(tf.keras.layers.Dense(units=processing_units, activation=\"sigmoid\", name=\"Sigmoid\"))\n",
    "        use_scaler = hp.Choice(\"Scaler\", CHOICES_USE_SCALER)\n",
    "        if use_scaler:\n",
    "            model.add(tf.keras.layers.Rescaling(scale=OUTPUT_MAX, offset=0, name=\"Rescaler\")) # Input is 0-1\n",
    "    \n",
    "    if use_output_limiter:\n",
    "        model.add(tf.keras.layers.Dense(OUTPUT_SIZE, activation=modulo_output, name=\"Output_Limiter\"))\n",
    "    else:\n",
    "        model.add(tf.keras.layers.Dense(OUTPUT_SIZE, name=\"Linear_Output\"))\n",
    "\n",
    "    # Compile the model\n",
    "    if USE_CUSTOM_LOSS:\n",
    "        loss = modulo_distance_loss\n",
    "        metrics = [modulo_distance_accuracy, modulo_rounded_accuracy]\n",
    "    else:\n",
    "        loss = LOSS_METRIC\n",
    "        metrics = [MAIN_ACCURACY_METRIC]\n",
    "    model.compile(loss=loss, optimizer=optimizer, metrics=metrics)\n",
    "    \n",
    "    return model\n",
    "\n",
    "\n",
    "# Run the kerastuner search for best hyperparameters\n",
    "if TUNE_NETWORK:\n",
    "\n",
    "    if USE_CUSTOM_LOSS:\n",
    "        objective = kt.Objective(\"val_loss\", direction=\"min\")\n",
    "    else:\n",
    "        objective = kt.Objective(f\"val_{MAIN_ACCURACY_METRIC}\", direction=\"max\")\n",
    "\n",
    "    tuner = kt.Hyperband(\n",
    "        create_model,\n",
    "        objective=objective,\n",
    "        max_epochs=MAX_EPOCHS_PER_MODEL,\n",
    "        hyperband_iterations=HYPERBAND_ITERATIONS,\n",
    "        executions_per_trial=EXECUTIONS_PER_TRIAL,\n",
    "        overwrite=OVERWRITE,\n",
    "        directory=TUNER_DIRECTORY,\n",
    "        project_name=TUNER_PROJECT_NAME)\n",
    "    tuner.search(X_train_scaled,y_train,epochs=SEARCH_FIT_EPOCHS,validation_data=(X_test_scaled,y_test))\n",
    "    \n",
    "    best_hyper = tuner.get_best_hyperparameters(1)[0]\n",
    "    print(f\"Best Hyper Values: {best_hyper.values}\")\n",
    "    \n",
    "    nn = tuner.get_best_models(1)[0]\n",
    "    eval_results = nn.evaluate(X_test_scaled,y_test,verbose=2)\n",
    "    print(f\"Best Model Loss: {eval_results[0]}, Accuracy: {eval_results[1:]}\")\n"
   ]
  },
  {
   "cell_type": "markdown",
   "id": "0a71ca9b-9cc3-4c85-9dab-e4b7d969ca52",
   "metadata": {},
   "source": [
    "# Model Reload /Creation"
   ]
  },
  {
   "cell_type": "code",
   "execution_count": 98,
   "id": "e0fdee2d-2e95-4fb1-96e9-c428546102cc",
   "metadata": {},
   "outputs": [
    {
     "name": "stdout",
     "output_type": "stream",
     "text": [
      "Nothing to do here. Hopefully you got a model somewhere above...\n"
     ]
    },
    {
     "data": {
      "text/html": [
       "<pre style=\"white-space:pre;overflow-x:auto;line-height:normal;font-family:Menlo,'DejaVu Sans Mono',consolas,'Courier New',monospace\"><span style=\"font-weight: bold\">Model: \"sequential\"</span>\n",
       "</pre>\n"
      ],
      "text/plain": [
       "\u001b[1mModel: \"sequential\"\u001b[0m\n"
      ]
     },
     "metadata": {},
     "output_type": "display_data"
    },
    {
     "data": {
      "text/html": [
       "<pre style=\"white-space:pre;overflow-x:auto;line-height:normal;font-family:Menlo,'DejaVu Sans Mono',consolas,'Courier New',monospace\">┏━━━━━━━━━━━━━━━━━━━━━━━━━━━━━━━━━┳━━━━━━━━━━━━━━━━━━━━━━━━┳━━━━━━━━━━━━━━━┓\n",
       "┃<span style=\"font-weight: bold\"> Layer (type)                    </span>┃<span style=\"font-weight: bold\"> Output Shape           </span>┃<span style=\"font-weight: bold\">       Param # </span>┃\n",
       "┡━━━━━━━━━━━━━━━━━━━━━━━━━━━━━━━━━╇━━━━━━━━━━━━━━━━━━━━━━━━╇━━━━━━━━━━━━━━━┩\n",
       "│ Embedding_Input (<span style=\"color: #0087ff; text-decoration-color: #0087ff\">Embedding</span>)     │ (<span style=\"color: #00d7ff; text-decoration-color: #00d7ff\">None</span>, <span style=\"color: #00af00; text-decoration-color: #00af00\">512</span>, <span style=\"color: #00af00; text-decoration-color: #00af00\">8</span>)         │         <span style=\"color: #00af00; text-decoration-color: #00af00\">4,096</span> │\n",
       "├─────────────────────────────────┼────────────────────────┼───────────────┤\n",
       "│ LSTM (<span style=\"color: #0087ff; text-decoration-color: #0087ff\">LSTM</span>)                     │ (<span style=\"color: #00d7ff; text-decoration-color: #00d7ff\">None</span>, <span style=\"color: #00af00; text-decoration-color: #00af00\">8</span>)              │           <span style=\"color: #00af00; text-decoration-color: #00af00\">544</span> │\n",
       "├─────────────────────────────────┼────────────────────────┼───────────────┤\n",
       "│ Linear_Output (<span style=\"color: #0087ff; text-decoration-color: #0087ff\">Dense</span>)           │ (<span style=\"color: #00d7ff; text-decoration-color: #00d7ff\">None</span>, <span style=\"color: #00af00; text-decoration-color: #00af00\">1</span>)              │             <span style=\"color: #00af00; text-decoration-color: #00af00\">9</span> │\n",
       "└─────────────────────────────────┴────────────────────────┴───────────────┘\n",
       "</pre>\n"
      ],
      "text/plain": [
       "┏━━━━━━━━━━━━━━━━━━━━━━━━━━━━━━━━━┳━━━━━━━━━━━━━━━━━━━━━━━━┳━━━━━━━━━━━━━━━┓\n",
       "┃\u001b[1m \u001b[0m\u001b[1mLayer (type)                   \u001b[0m\u001b[1m \u001b[0m┃\u001b[1m \u001b[0m\u001b[1mOutput Shape          \u001b[0m\u001b[1m \u001b[0m┃\u001b[1m \u001b[0m\u001b[1m      Param #\u001b[0m\u001b[1m \u001b[0m┃\n",
       "┡━━━━━━━━━━━━━━━━━━━━━━━━━━━━━━━━━╇━━━━━━━━━━━━━━━━━━━━━━━━╇━━━━━━━━━━━━━━━┩\n",
       "│ Embedding_Input (\u001b[38;5;33mEmbedding\u001b[0m)     │ (\u001b[38;5;45mNone\u001b[0m, \u001b[38;5;34m512\u001b[0m, \u001b[38;5;34m8\u001b[0m)         │         \u001b[38;5;34m4,096\u001b[0m │\n",
       "├─────────────────────────────────┼────────────────────────┼───────────────┤\n",
       "│ LSTM (\u001b[38;5;33mLSTM\u001b[0m)                     │ (\u001b[38;5;45mNone\u001b[0m, \u001b[38;5;34m8\u001b[0m)              │           \u001b[38;5;34m544\u001b[0m │\n",
       "├─────────────────────────────────┼────────────────────────┼───────────────┤\n",
       "│ Linear_Output (\u001b[38;5;33mDense\u001b[0m)           │ (\u001b[38;5;45mNone\u001b[0m, \u001b[38;5;34m1\u001b[0m)              │             \u001b[38;5;34m9\u001b[0m │\n",
       "└─────────────────────────────────┴────────────────────────┴───────────────┘\n"
      ]
     },
     "metadata": {},
     "output_type": "display_data"
    },
    {
     "data": {
      "text/html": [
       "<pre style=\"white-space:pre;overflow-x:auto;line-height:normal;font-family:Menlo,'DejaVu Sans Mono',consolas,'Courier New',monospace\"><span style=\"font-weight: bold\"> Total params: </span><span style=\"color: #00af00; text-decoration-color: #00af00\">4,649</span> (18.16 KB)\n",
       "</pre>\n"
      ],
      "text/plain": [
       "\u001b[1m Total params: \u001b[0m\u001b[38;5;34m4,649\u001b[0m (18.16 KB)\n"
      ]
     },
     "metadata": {},
     "output_type": "display_data"
    },
    {
     "data": {
      "text/html": [
       "<pre style=\"white-space:pre;overflow-x:auto;line-height:normal;font-family:Menlo,'DejaVu Sans Mono',consolas,'Courier New',monospace\"><span style=\"font-weight: bold\"> Trainable params: </span><span style=\"color: #00af00; text-decoration-color: #00af00\">4,649</span> (18.16 KB)\n",
       "</pre>\n"
      ],
      "text/plain": [
       "\u001b[1m Trainable params: \u001b[0m\u001b[38;5;34m4,649\u001b[0m (18.16 KB)\n"
      ]
     },
     "metadata": {},
     "output_type": "display_data"
    },
    {
     "data": {
      "text/html": [
       "<pre style=\"white-space:pre;overflow-x:auto;line-height:normal;font-family:Menlo,'DejaVu Sans Mono',consolas,'Courier New',monospace\"><span style=\"font-weight: bold\"> Non-trainable params: </span><span style=\"color: #00af00; text-decoration-color: #00af00\">0</span> (0.00 B)\n",
       "</pre>\n"
      ],
      "text/plain": [
       "\u001b[1m Non-trainable params: \u001b[0m\u001b[38;5;34m0\u001b[0m (0.00 B)\n"
      ]
     },
     "metadata": {},
     "output_type": "display_data"
    }
   ],
   "source": [
    "if LOAD_BEST_MODEL:\n",
    "    print(f\"Loading model from {BEST_PATH}\")\n",
    "    nn = tf.keras.models.load_model(BEST_PATH)\n",
    "elif BUILD_NETWORK:\n",
    "    print(\"Building new model\")\n",
    "    in_shape = (CHUNK_SIZE,)\n",
    "    nn = tf.keras.models.Sequential()\n",
    "\n",
    "    nn.add(tf.keras.layers.Embedding(input_dim=CHUNK_SIZE, output_dim=PROCESSING_UNITS, name=\"Embedding_Input\"))\n",
    "    nn.add(tf.keras.layers.LSTM(PROCESSING_UNITS, name=\"LSTM\"))\n",
    "    #nn.add(tf.keras.layers.Dense(units=PROCESSING_UNITS, activation=\"sigmoid\", name=\"Sigmoid\"))\n",
    "    #nn.add(tf.keras.layers.Rescaling(scale=OUTPUT_MAX, offset=0, name=\"Rescaler\")) # Input is 0-1\n",
    "    \n",
    "    if USE_CUSTOM_OUTPUT_ACTIVATION:\n",
    "        nn.add(tf.keras.layers.Dense(OUTPUT_SIZE, activation=modulo_output, name=\"Output_Limiter\"))\n",
    "    else:\n",
    "        nn.add(tf.keras.layers.Dense(OUTPUT_SIZE, name=\"Linear_Output\"))\n",
    "else:\n",
    "    print(\"Nothing to do here. Hopefully you got a model somewhere above...\")\n",
    "        \n",
    "# Check the structure of the model\n",
    "nn.summary()"
   ]
  },
  {
   "cell_type": "markdown",
   "id": "701c6ff4-2ca0-4ac0-af80-7d48b157675a",
   "metadata": {},
   "source": [
    "# Model Training"
   ]
  },
  {
   "cell_type": "code",
   "execution_count": 99,
   "id": "08319c4f-7080-477b-93b8-eca4791c449a",
   "metadata": {},
   "outputs": [
    {
     "data": {
      "text/html": [
       "<pre style=\"white-space:pre;overflow-x:auto;line-height:normal;font-family:Menlo,'DejaVu Sans Mono',consolas,'Courier New',monospace\"><span style=\"font-weight: bold\">Model: \"sequential\"</span>\n",
       "</pre>\n"
      ],
      "text/plain": [
       "\u001b[1mModel: \"sequential\"\u001b[0m\n"
      ]
     },
     "metadata": {},
     "output_type": "display_data"
    },
    {
     "data": {
      "text/html": [
       "<pre style=\"white-space:pre;overflow-x:auto;line-height:normal;font-family:Menlo,'DejaVu Sans Mono',consolas,'Courier New',monospace\">┏━━━━━━━━━━━━━━━━━━━━━━━━━━━━━━━━━┳━━━━━━━━━━━━━━━━━━━━━━━━┳━━━━━━━━━━━━━━━┓\n",
       "┃<span style=\"font-weight: bold\"> Layer (type)                    </span>┃<span style=\"font-weight: bold\"> Output Shape           </span>┃<span style=\"font-weight: bold\">       Param # </span>┃\n",
       "┡━━━━━━━━━━━━━━━━━━━━━━━━━━━━━━━━━╇━━━━━━━━━━━━━━━━━━━━━━━━╇━━━━━━━━━━━━━━━┩\n",
       "│ Embedding_Input (<span style=\"color: #0087ff; text-decoration-color: #0087ff\">Embedding</span>)     │ (<span style=\"color: #00d7ff; text-decoration-color: #00d7ff\">None</span>, <span style=\"color: #00af00; text-decoration-color: #00af00\">512</span>, <span style=\"color: #00af00; text-decoration-color: #00af00\">8</span>)         │         <span style=\"color: #00af00; text-decoration-color: #00af00\">4,096</span> │\n",
       "├─────────────────────────────────┼────────────────────────┼───────────────┤\n",
       "│ LSTM (<span style=\"color: #0087ff; text-decoration-color: #0087ff\">LSTM</span>)                     │ (<span style=\"color: #00d7ff; text-decoration-color: #00d7ff\">None</span>, <span style=\"color: #00af00; text-decoration-color: #00af00\">8</span>)              │           <span style=\"color: #00af00; text-decoration-color: #00af00\">544</span> │\n",
       "├─────────────────────────────────┼────────────────────────┼───────────────┤\n",
       "│ Linear_Output (<span style=\"color: #0087ff; text-decoration-color: #0087ff\">Dense</span>)           │ (<span style=\"color: #00d7ff; text-decoration-color: #00d7ff\">None</span>, <span style=\"color: #00af00; text-decoration-color: #00af00\">1</span>)              │             <span style=\"color: #00af00; text-decoration-color: #00af00\">9</span> │\n",
       "└─────────────────────────────────┴────────────────────────┴───────────────┘\n",
       "</pre>\n"
      ],
      "text/plain": [
       "┏━━━━━━━━━━━━━━━━━━━━━━━━━━━━━━━━━┳━━━━━━━━━━━━━━━━━━━━━━━━┳━━━━━━━━━━━━━━━┓\n",
       "┃\u001b[1m \u001b[0m\u001b[1mLayer (type)                   \u001b[0m\u001b[1m \u001b[0m┃\u001b[1m \u001b[0m\u001b[1mOutput Shape          \u001b[0m\u001b[1m \u001b[0m┃\u001b[1m \u001b[0m\u001b[1m      Param #\u001b[0m\u001b[1m \u001b[0m┃\n",
       "┡━━━━━━━━━━━━━━━━━━━━━━━━━━━━━━━━━╇━━━━━━━━━━━━━━━━━━━━━━━━╇━━━━━━━━━━━━━━━┩\n",
       "│ Embedding_Input (\u001b[38;5;33mEmbedding\u001b[0m)     │ (\u001b[38;5;45mNone\u001b[0m, \u001b[38;5;34m512\u001b[0m, \u001b[38;5;34m8\u001b[0m)         │         \u001b[38;5;34m4,096\u001b[0m │\n",
       "├─────────────────────────────────┼────────────────────────┼───────────────┤\n",
       "│ LSTM (\u001b[38;5;33mLSTM\u001b[0m)                     │ (\u001b[38;5;45mNone\u001b[0m, \u001b[38;5;34m8\u001b[0m)              │           \u001b[38;5;34m544\u001b[0m │\n",
       "├─────────────────────────────────┼────────────────────────┼───────────────┤\n",
       "│ Linear_Output (\u001b[38;5;33mDense\u001b[0m)           │ (\u001b[38;5;45mNone\u001b[0m, \u001b[38;5;34m1\u001b[0m)              │             \u001b[38;5;34m9\u001b[0m │\n",
       "└─────────────────────────────────┴────────────────────────┴───────────────┘\n"
      ]
     },
     "metadata": {},
     "output_type": "display_data"
    },
    {
     "data": {
      "text/html": [
       "<pre style=\"white-space:pre;overflow-x:auto;line-height:normal;font-family:Menlo,'DejaVu Sans Mono',consolas,'Courier New',monospace\"><span style=\"font-weight: bold\"> Total params: </span><span style=\"color: #00af00; text-decoration-color: #00af00\">4,649</span> (18.16 KB)\n",
       "</pre>\n"
      ],
      "text/plain": [
       "\u001b[1m Total params: \u001b[0m\u001b[38;5;34m4,649\u001b[0m (18.16 KB)\n"
      ]
     },
     "metadata": {},
     "output_type": "display_data"
    },
    {
     "data": {
      "text/html": [
       "<pre style=\"white-space:pre;overflow-x:auto;line-height:normal;font-family:Menlo,'DejaVu Sans Mono',consolas,'Courier New',monospace\"><span style=\"font-weight: bold\"> Trainable params: </span><span style=\"color: #00af00; text-decoration-color: #00af00\">4,649</span> (18.16 KB)\n",
       "</pre>\n"
      ],
      "text/plain": [
       "\u001b[1m Trainable params: \u001b[0m\u001b[38;5;34m4,649\u001b[0m (18.16 KB)\n"
      ]
     },
     "metadata": {},
     "output_type": "display_data"
    },
    {
     "data": {
      "text/html": [
       "<pre style=\"white-space:pre;overflow-x:auto;line-height:normal;font-family:Menlo,'DejaVu Sans Mono',consolas,'Courier New',monospace\"><span style=\"font-weight: bold\"> Non-trainable params: </span><span style=\"color: #00af00; text-decoration-color: #00af00\">0</span> (0.00 B)\n",
       "</pre>\n"
      ],
      "text/plain": [
       "\u001b[1m Non-trainable params: \u001b[0m\u001b[38;5;34m0\u001b[0m (0.00 B)\n"
      ]
     },
     "metadata": {},
     "output_type": "display_data"
    }
   ],
   "source": [
    "if TRAIN_MODEL:\n",
    "    print(f\"Training model\")\n",
    "\n",
    "    if USE_CUSTOM_LOSS:\n",
    "        loss = modulo_distance_loss\n",
    "        metrics = [modulo_distance_accuracy, modulo_rounded_accuracy]\n",
    "    else:\n",
    "        loss = LOSS_METRIC\n",
    "        metrics = [MAIN_ACCURACY_METRIC]\n",
    "    \n",
    "    if SAVE_BEST_MODEL:\n",
    "        callbacks = [model_checkpoint_callback]\n",
    "    else:\n",
    "        callbacks = None\n",
    "    \n",
    "    # Compile the Sequential model together and customize metrics\n",
    "    nn.compile(loss=loss, optimizer=OPTIMIZER, metrics=metrics)\n",
    "    \n",
    "    # Fit the model to the training data\n",
    "    fit_model = nn.fit(X_train_scaled, y_train, epochs=EPOCHS, callbacks=callbacks, batch_size=BATCH_SIZE)\n",
    "\n",
    "nn.summary()"
   ]
  },
  {
   "cell_type": "code",
   "execution_count": 100,
   "id": "347990dc-230b-460f-852d-c2e0e81cef26",
   "metadata": {},
   "outputs": [
    {
     "name": "stdout",
     "output_type": "stream",
     "text": [
      "Evaluating...\n",
      "76/76 - 1s - 13ms/step - loss: 10.1836 - modulo_distance_accuracy: 0.5765 - modulo_rounded_accuracy: 0.0000e+00\n",
      "Loss: 10.183621406555176, Accuracy: [0.5765225291252136, 0.0]\n"
     ]
    }
   ],
   "source": [
    "# Evaluate the model using the test data\n",
    "print(\"Evaluating...\")\n",
    "eval_results = nn.evaluate(X_test_scaled,y_test,verbose=2)\n",
    "print(f\"Loss: {eval_results[0]}, Accuracy: {eval_results[1:]}\")\n"
   ]
  },
  {
   "cell_type": "markdown",
   "id": "e488ae3d-b10f-40d7-826a-61fedba4cb2b",
   "metadata": {},
   "source": [
    "# Model Usefulness Spot-Check"
   ]
  },
  {
   "cell_type": "code",
   "execution_count": 101,
   "id": "4abd4fd4-831e-43a5-9351-c0c2cfa1be2c",
   "metadata": {},
   "outputs": [
    {
     "name": "stdout",
     "output_type": "stream",
     "text": [
      "Correct Key:  48\n",
      "\u001b[1m1/1\u001b[0m \u001b[32m━━━━━━━━━━━━━━━━━━━━\u001b[0m\u001b[37m\u001b[0m \u001b[1m0s\u001b[0m 71ms/step\n",
      "Inferred Key:  -5\n",
      "\u001b[1m1/1\u001b[0m \u001b[32m━━━━━━━━━━━━━━━━━━━━\u001b[0m\u001b[37m\u001b[0m \u001b[1m0s\u001b[0m 25ms/step\n",
      "[[-4.7991223]\n",
      " [-4.7154155]\n",
      " [ 1.471448 ]\n",
      " [-4.7332764]\n",
      " [-4.8082204]\n",
      " [-4.8082433]\n",
      " [-4.78891  ]\n",
      " [ 1.9539466]\n",
      " [-4.830942 ]\n",
      " [-4.8075128]\n",
      " [-4.7155805]\n",
      " [-4.7248297]\n",
      " [-4.8282046]\n",
      " [-4.8207784]\n",
      " [-4.8388405]\n",
      " [-4.799944 ]\n",
      " [-4.8206353]\n",
      " [-4.833974 ]\n",
      " [-4.82815  ]\n",
      " [-4.8339534]]\n"
     ]
    }
   ],
   "source": [
    "def decode_chunks_with_model(chunks: list[list], model, scaler, input_already_scaled = True) -> list[list]:\n",
    "    if input_already_scaled:\n",
    "        return model.predict(chunks)\n",
    "    else:\n",
    "        return model.predict(scaler.transform(chunks))\n",
    "\n",
    "def decode_text_with_model(ciphertext: str, model, scaler) -> str:\n",
    "    offset_chunks = helpers.chunkify(encoders.string_to_offsets(ciphertext), CHUNK_SIZE)\n",
    "    decoded_chunks = decode_chunks_with_model(offset_chunks, model, scaler, input_already_scaled = False)\n",
    "    rounded = np.rint(decoded_chunks.flatten()).astype(int)\n",
    "    return encoders.offsets_to_string(rounded)\n",
    "\n",
    "def infer_key_with_model(ciphertext: str, model, scaler) -> int:\n",
    "    chunks = helpers.string_to_bytes(ciphertext, CHUNK_SIZE)\n",
    "    keys = model.predict(scaler.transform(chunks))\n",
    "    key = int(round(np.median(keys)))\n",
    "    return key\n",
    "\n",
    "if INFER_TEXT:    \n",
    "    CHUNKS_TO_CHECK = 2\n",
    "else:\n",
    "    CHUNKS_TO_CHECK = 20\n",
    "\n",
    "cipher_file_db = sid_to_c[list(sid_to_c.keys())[0]][0]\n",
    "ciphertext_path = cipher_file_db.path\n",
    "ciphertext = helpers.read_text_file(ciphertext_path)\n",
    "ciphertext = ciphertext[0:CHUNK_SIZE * CHUNKS_TO_CHECK]\n",
    "    \n",
    "if INFER_TEXT:    \n",
    "    print(\"Decoded   : \", decode_text_with_model(ciphertext, nn, X_scaler))\n",
    "if INFER_KEY:\n",
    "    with db.get_session() as session:\n",
    "        correct_key = int(db.get_key_by_id(session, cipher_file_db.key_id).value)\n",
    "    print(\"Correct Key: \", correct_key)\n",
    "    \n",
    "    inferred_key = infer_key_with_model(ciphertext, nn, X_scaler)\n",
    "    print(\"Inferred Key: \", inferred_key)\n",
    "\n",
    "chunks = helpers.string_to_bytes(ciphertext, CHUNK_SIZE)\n",
    "print(nn.predict(scaler.transform(chunks)))"
   ]
  },
  {
   "cell_type": "code",
   "execution_count": null,
   "id": "eca1c384-8e11-4541-a33c-59f14cb7ecf2",
   "metadata": {},
   "outputs": [],
   "source": []
  }
 ],
 "metadata": {
  "kernelspec": {
   "display_name": "Python 3 (ipykernel)",
   "language": "python",
   "name": "python3"
  },
  "language_info": {
   "codemirror_mode": {
    "name": "ipython",
    "version": 3
   },
   "file_extension": ".py",
   "mimetype": "text/x-python",
   "name": "python",
   "nbconvert_exporter": "python",
   "pygments_lexer": "ipython3",
   "version": "3.12.7"
  }
 },
 "nbformat": 4,
 "nbformat_minor": 5
}
