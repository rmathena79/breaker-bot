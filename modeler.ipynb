{
 "cells": [
  {
   "cell_type": "code",
   "execution_count": 1,
   "id": "bca2471e-572c-4233-b18c-e8e03e8cf40c",
   "metadata": {},
   "outputs": [
    {
     "name": "stderr",
     "output_type": "stream",
     "text": [
      "2024-11-30 20:28:04.677164: I tensorflow/core/util/port.cc:153] oneDNN custom operations are on. You may see slightly different numerical results due to floating-point round-off errors from different computation orders. To turn them off, set the environment variable `TF_ENABLE_ONEDNN_OPTS=0`.\n",
      "2024-11-30 20:28:04.691641: E external/local_xla/xla/stream_executor/cuda/cuda_fft.cc:485] Unable to register cuFFT factory: Attempting to register factory for plugin cuFFT when one has already been registered\n",
      "2024-11-30 20:28:04.705906: E external/local_xla/xla/stream_executor/cuda/cuda_dnn.cc:8454] Unable to register cuDNN factory: Attempting to register factory for plugin cuDNN when one has already been registered\n",
      "2024-11-30 20:28:04.709548: E external/local_xla/xla/stream_executor/cuda/cuda_blas.cc:1452] Unable to register cuBLAS factory: Attempting to register factory for plugin cuBLAS when one has already been registered\n",
      "2024-11-30 20:28:04.720988: I tensorflow/core/platform/cpu_feature_guard.cc:210] This TensorFlow binary is optimized to use available CPU instructions in performance-critical operations.\n",
      "To enable the following instructions: SSE4.1 SSE4.2 AVX AVX2 AVX_VNNI FMA, in other operations, rebuild TensorFlow with the appropriate compiler flags.\n"
     ]
    }
   ],
   "source": [
    "# Import our dependencies\n",
    "from sklearn.model_selection import train_test_split\n",
    "from sklearn.preprocessing import StandardScaler\n",
    "import numpy as np\n",
    "import tensorflow as tf\n",
    "import keras_tuner as kt\n",
    "import pathlib\n",
    "import random\n",
    "import pandas as pd\n",
    "import sys\n",
    "\n",
    "from credentials import CONNECTION_INFO\n",
    "from constants import *\n",
    "\n",
    "import encoders\n",
    "import db_connect\n",
    "import helpers\n",
    "\n",
    "# Callbacks for use with TensorFlow\n",
    "from tf_helpers import modulo_output, modulo_distance_loss, modulo_distance_accuracy, modulo_rounded_accuracy, initialize_save_best"
   ]
  },
  {
   "cell_type": "markdown",
   "id": "0088ab2d-0294-47b0-8528-98cbbbfb15bd",
   "metadata": {},
   "source": [
    "## Config\n",
    "This notebook has a lot of options to adjust, most of which are controlled here."
   ]
  },
  {
   "cell_type": "code",
   "execution_count": 2,
   "id": "f9bdcd65-ceca-4b1a-921a-4544e38b37b0",
   "metadata": {},
   "outputs": [
    {
     "data": {
      "text/plain": [
       "(128, 32, 1024, 1)"
      ]
     },
     "execution_count": 2,
     "metadata": {},
     "output_type": "execute_result"
    }
   ],
   "source": [
    "ENCODER = encoders.ENCODER_CAESAR\n",
    "CHUNK_SIZE = 128 # Was 512\n",
    "PROCESSING_UNITS = CHUNK_SIZE // 4\n",
    "\n",
    "EXTRA_CHECKS = True # Whether to run some (potentially slow) debug checks\n",
    "\n",
    "INFER_TEXT = False\n",
    "INFER_KEY = not INFER_TEXT\n",
    "\n",
    "USE_CUSTOM_METRICS = True\n",
    "USE_CUSTOM_OUTPUT_ACTIVATION = True\n",
    "\n",
    "if INFER_TEXT:\n",
    "    MAIN_ACCURACY_METRIC = \"mae\"\n",
    "    LOSS_METRIC = \"mean_squared_error\"\n",
    "    OUTPUT_SIZE = CHUNK_SIZE\n",
    "    OPTIMIZER = \"sgd\"\n",
    "else:\n",
    "    MAIN_ACCURACY_METRIC = \"mae\"\n",
    "    LOSS_METRIC = \"mae\"\n",
    "    OPTIMIZER = \"adamax\"    \n",
    "\n",
    "    if ENCODER == encoders.ENCODER_CAESAR:\n",
    "        OUTPUT_SIZE = 1\n",
    "    elif ENCODER == encoders.ENCODER_SUBST:\n",
    "        OUTPUT_SIZE = len(encoders.CHARSET)\n",
    "    else:\n",
    "        raise Exception(f\"Unsupported encoder {ENCODER}\")\n",
    "\n",
    "ENCRYPTED_FILE_LIMIT = -1 # -1 to disable limit\n",
    "\n",
    "BASE_TRAIN_PCT = 0.75   # Start here. If train or test count would exceed the max, reduce it. Note 0.75 is the default.\n",
    "MAX_TRAIN_COUNT = 100000 # -1 to disable; some setups start running out of memory around 100K\n",
    "MAX_TEST_COUNT =  100000 # -1 to disable\n",
    "SPLIT_SEED = 42\n",
    "\n",
    "LOAD_BEST_MODEL = False # If False, a new model will be created from scratch\n",
    "SAVE_BEST_MODEL = True\n",
    "BEST_PATH = './saved_models/best.keras'\n",
    "\n",
    "# Whether to run the tuner or the hard-coded network build code\n",
    "TUNE_NETWORK = False\n",
    "TUNE_QUICKLY = False # Set True to sanity check the model builder\n",
    "BUILD_NETWORK = not TUNE_NETWORK\n",
    "TRAIN_MODEL = BUILD_NETWORK\n",
    "\n",
    "TUNER_DIRECTORY = \"tuner_projects\"\n",
    "TUNER_PROJECT_NAME = \"KT\"\n",
    "\n",
    "EPOCHS = 100\n",
    "BATCH_SIZE = int(max(32, round(256 * (512/CHUNK_SIZE)))) # Default is 32 -- going higher speeds things up a LOT, but may cause memory problems\n",
    "SCALE = True\n",
    "\n",
    "CHUNK_SIZE, PROCESSING_UNITS, BATCH_SIZE, OUTPUT_SIZE"
   ]
  },
  {
   "cell_type": "markdown",
   "id": "8b7ec896-6840-4696-bebd-c0419f8a1f69",
   "metadata": {},
   "source": [
    "# Data Retrieval and Structuring"
   ]
  },
  {
   "cell_type": "code",
   "execution_count": 3,
   "id": "789ab2e5-5e11-4812-91be-bb9a63acb6ca",
   "metadata": {},
   "outputs": [
    {
     "data": {
      "text/plain": [
       "(35, 35)"
      ]
     },
     "execution_count": 3,
     "metadata": {},
     "output_type": "execute_result"
    }
   ],
   "source": [
    "db = db_connect.DB(CONNECTION_INFO)\n",
    "\n",
    "with db.get_session() as session:\n",
    "    # Get database IDs for encoders and key types\n",
    "    (encoder_ids, key_type_id) = db.get_id_maps(session)\n",
    "\n",
    "    # Map source ID to plaintext file (1) details, and source ID to corresponding ciphertext files (1+) details\n",
    "    (sid_to_p, sid_to_c) = db.get_source_maps(session, ENCRYPTED_FILE_LIMIT, encoder_ids[ENCODER], test_only=False)\n",
    "\n",
    "len(sid_to_p), len(sid_to_c)"
   ]
  },
  {
   "cell_type": "code",
   "execution_count": 4,
   "id": "e3f6de1c-79f8-4637-8dec-ade266665517",
   "metadata": {},
   "outputs": [
    {
     "data": {
      "text/plain": [
       "((383568, 128), (383568,), 392773760, 3068656)"
      ]
     },
     "execution_count": 4,
     "metadata": {},
     "output_type": "execute_result"
    }
   ],
   "source": [
    "# Build up the features (X, the cipher texts as offsets) and targets (y, either the plain texts as offsets OR the key).\n",
    "# Note targets are not necessarily unique.\n",
    "X = []\n",
    "y = []\n",
    "\n",
    "with db.get_session() as session:\n",
    "    for sid in sid_to_p:\n",
    "        if INFER_TEXT:\n",
    "            plaintext = encoders.string_to_offsets(helpers.read_text_file(sid_to_p[sid].path))\n",
    "            target_chunks = helpers.chunkify(plaintext, CHUNK_SIZE)    \n",
    "    \n",
    "        for c in sid_to_c[sid]:\n",
    "            ciphertext = encoders.string_to_offsets(helpers.read_text_file(c.path))\n",
    "            feature_chunks = helpers.chunkify(ciphertext, CHUNK_SIZE)\n",
    "\n",
    "            if INFER_KEY:                \n",
    "                if ENCODER == encoders.ENCODER_CAESAR:\n",
    "                    key_value = float(db.get_key_by_id(session, c.key_id).value)\n",
    "\n",
    "                    if EXTRA_CHECKS:\n",
    "                        # Decode with the key we got from the DB, make sure it actually works\n",
    "                        CHECK_CHANCE = 0.1\n",
    "                        if random.random() < CHECK_CHANCE:\n",
    "                            plaintext = encoders.string_to_offsets(helpers.read_text_file(sid_to_p[sid].path))\n",
    "                            plainttext_str = encoders.offsets_to_string(plaintext)\n",
    "                            ciphertext_str = encoders.offsets_to_string(ciphertext)\n",
    "                            decoded_str = encoders.decode_caesar(ciphertext_str, int(key_value))\n",
    "                            if decoded_str != plainttext_str:                                                    \n",
    "                                print(decoded_str == plainttext_str)\n",
    "                                print(decoded_str[0:128], plainttext_str[0:128])\n",
    "                                raise Exception(\"Decode error\")\n",
    "                    \n",
    "                elif ENCODER == encoders.ENCODER_SUBST:\n",
    "                    key_str = db.get_key_by_id(session, c.key_id).value\n",
    "                    key_value_ints = encoders.string_to_offsets(key_str)\n",
    "                    key_value = np.array(key_value_ints).astype(float)\n",
    "\n",
    "                else:\n",
    "                    raise Exception(f\"Unsupported encoder {ENCODER}\")\n",
    "        \n",
    "            for i in range (len(feature_chunks)):\n",
    "                X.append(np.array(feature_chunks[i]).astype(float))\n",
    "\n",
    "                if INFER_TEXT:\n",
    "                    y.append(np.array(target_chunks[i]).astype(float))\n",
    "\n",
    "                if INFER_KEY:\n",
    "                    y.append(key_value)\n",
    "\n",
    "X = np.array(X)\n",
    "y = np.array(y)\n",
    "\n",
    "X.shape, y.shape, sys.getsizeof(X), sys.getsizeof(y)"
   ]
  },
  {
   "cell_type": "code",
   "execution_count": 5,
   "id": "e55451fa-ee72-4835-b18a-d03d44899412",
   "metadata": {},
   "outputs": [
    {
     "name": "stdout",
     "output_type": "stream",
     "text": [
      "Train count would be 287676\n",
      "Train count is 100000\n",
      "Test count would be 283568\n",
      "Test count is 100000\n",
      "Initial counts:  383568 383568 100000 100000 100000 100000\n"
     ]
    }
   ],
   "source": [
    "# Split the preprocessed data into a training and testing dataset\n",
    "# Note we have excluded \"test_only\" files above, they will be used for later validation.\n",
    "\n",
    "train_count = int(round(len(y) * BASE_TRAIN_PCT))\n",
    "if train_count > MAX_TRAIN_COUNT and MAX_TRAIN_COUNT > -1:\n",
    "    print(f\"Train count would be {train_count}\")\n",
    "    train_count = int(MAX_TRAIN_COUNT)\n",
    "print(f\"Train count is {train_count}\")\n",
    "\n",
    "test_count = len(y) - train_count\n",
    "if test_count > MAX_TEST_COUNT and MAX_TEST_COUNT > -1:\n",
    "    print(f\"Test count would be {test_count}\")\n",
    "    test_count = int(MAX_TEST_COUNT)\n",
    "print(f\"Test count is {test_count}\")\n",
    "\n",
    "X_train, X_test, y_train, y_test = train_test_split(X, y, train_size=train_count, test_size=test_count, random_state=SPLIT_SEED)\n",
    "print( \"Initial counts: \", len(X), len(y), len(X_train), len(X_test), len(y_train), len(y_test) )\n",
    "\n",
    "# The pre-split data sets are no longer needed, and take up a lot of memory, so get rid of them\n",
    "del X\n",
    "del y"
   ]
  },
  {
   "cell_type": "code",
   "execution_count": 6,
   "id": "1d5fd198-2be6-4f66-91ff-0bbb1ccb819f",
   "metadata": {},
   "outputs": [
    {
     "data": {
      "text/plain": [
       "((100000, 128),\n",
       " (100000, 128),\n",
       " array([-1.62550526, -1.62427011, -0.20888303,  0.84840755, -1.62518328,\n",
       "         1.5517651 , -0.56233216, -1.62134237,  1.55200644, -1.26825244,\n",
       "        -0.56097728,  1.55136447, -1.61839792, -1.62033258, -1.27146587,\n",
       "         1.5453671 ]),\n",
       " array([-0.21232657,  0.49642689,  0.14329365, -0.91822486,  0.4949298 ,\n",
       "         1.19911045, -0.91467281,  0.14143082,  0.49329087, -1.62174667,\n",
       "         0.85047274, -0.91853411,  1.20365493, -1.62033258,  0.49254304,\n",
       "         0.13569825]))"
      ]
     },
     "execution_count": 6,
     "metadata": {},
     "output_type": "execute_result"
    }
   ],
   "source": [
    "if SCALE:\n",
    "    # Create a StandardScaler instances\n",
    "    scaler = StandardScaler()\n",
    "    \n",
    "    # Fit the StandardScaler\n",
    "    X_scaler = scaler.fit(X_train)\n",
    "    \n",
    "    # Scale the data\n",
    "    X_train_scaled = X_scaler.transform(X_train)\n",
    "    X_test_scaled = X_scaler.transform(X_test)    \n",
    "else:\n",
    "    # Leave the inputs unscaled\n",
    "    X_train_scaled = X_train\n",
    "    X_test_scaled = X_test\n",
    "\n",
    "to_show = min(16, CHUNK_SIZE)\n",
    "X_train_scaled.shape, X_test_scaled.shape, X_train_scaled[0][0:to_show], X_test_scaled[0][0:to_show]"
   ]
  },
  {
   "cell_type": "markdown",
   "id": "c340dfc6-d8e6-461c-87af-f2627f638908",
   "metadata": {},
   "source": [
    "# Hyperband Tuning"
   ]
  },
  {
   "cell_type": "code",
   "execution_count": 7,
   "id": "13ab864b-b88b-4dac-b504-c58c4fbdc37a",
   "metadata": {},
   "outputs": [],
   "source": [
    "import model_tuner\n",
    "\n",
    "MAX_EPOCHS_PER_MODEL = 20 # Meant to get a decent idea of parameter, not create a final model. Behaves oddly below 3.\n",
    "HYPERBAND_ITERATIONS = 2  # \"Number of times to iterate over the full Hyperband algorithm\"\n",
    "EXECUTIONS_PER_TRIAL = 2  # Training from scratch\n",
    "SEARCH_FIT_EPOCHS = 20    # Epochs for each attempt to do a fit, I think. Not sure how this relates to MAX_EPOCHS_PER_MODEL.\n",
    "OVERWRITE = True          # I'm hoping to be able to interrupt a run and resume it later\n",
    "\n",
    "input_shape = (CHUNK_SIZE,1)\n",
    "mr_t = model_tuner.ModelTuner(input_shape, OUTPUT_SIZE, CHUNK_SIZE, BATCH_SIZE)\n",
    "\n",
    "# All-encompassing optimization parameter choices. Do not try to use all of them at once...\n",
    "mr_t.CHOICES_PROCESSING_UNITS = [1, CHUNK_SIZE // 16, CHUNK_SIZE // 4, CHUNK_SIZE, CHUNK_SIZE * 2]\n",
    "mr_t.CHOICES_ACTIVATIONS = [\"elu\", \"gelu\", \"hard_sigmoid\", \"hard_silu\", \"hard_swish\", \"leaky_relu\", \"linear\", \"log_softmax\", \"mish\",\n",
    "        \"relu\", \"relu6\", \"selu\", \"sigmoid\", \"silu\", \"softmax\", \"softplus\", \"softsign\", \"swish\", \"tanh\"]\n",
    "mr_t.CHOICES_FANCY_TOPO = [\"GRU\", \"RNN\", \"LSTM\", \"GRU-RNN\", \"GRU-LSTM\", \"GRU-RNN-LSTM\"]\n",
    "mr_t.CHOICES_USE_OUTPUT_LIMITER = [True, False] # Prefers True\n",
    "mr_t.CHOICES_OPTIMIZER = [\"adamax\", \"sgd\", \"RMSProp\"]\n",
    "\n",
    "# Narrow down the choices as needed.\n",
    "mr_t.CHOICES_PROCESSING_UNITS = [CHUNK_SIZE]\n",
    "mr_t.CHOICES_FANCY_TOPO = [\"NONE\"]\n",
    "mr_t.CHOICES_USE_OUTPUT_LIMITER = [True]\n",
    "mr_t.CHOICES_OPTIMIZER = [\"adamax\"]\n",
    "\n",
    "if TUNE_QUICKLY:\n",
    "    MAX_EPOCHS_PER_MODEL = 3\n",
    "    HYPERBAND_ITERATIONS = 1\n",
    "    EXECUTIONS_PER_TRIAL = 1\n",
    "    SEARCH_FIT_EPOCHS = 4\n",
    "\n",
    "# Create a method that creates a new Sequential model with hyperparameter options\n",
    "def create_model(hp):\n",
    "    return mr_t.CreateModel(hp)\n",
    "\n",
    "# Run the kerastuner search for best hyperparameters\n",
    "if TUNE_NETWORK:\n",
    "    if USE_CUSTOM_METRICS:\n",
    "        objective = kt.Objective(\"val_modulo_distance_accuracy\", direction=\"max\")\n",
    "    else:\n",
    "        objective = kt.Objective(f\"val_{MAIN_ACCURACY_METRIC}\", direction=\"max\")\n",
    "\n",
    "    tuner = kt.Hyperband(\n",
    "        create_model,\n",
    "        objective=objective,\n",
    "        max_epochs=MAX_EPOCHS_PER_MODEL,\n",
    "        hyperband_iterations=HYPERBAND_ITERATIONS,\n",
    "        executions_per_trial=EXECUTIONS_PER_TRIAL,\n",
    "        overwrite=OVERWRITE,\n",
    "        directory=TUNER_DIRECTORY,\n",
    "        project_name=TUNER_PROJECT_NAME)\n",
    "    tuner.search(X_train_scaled, y_train, epochs=SEARCH_FIT_EPOCHS, batch_size=BATCH_SIZE, validation_data=(X_test_scaled,y_test))\n",
    "    \n",
    "    best_hyper = tuner.get_best_hyperparameters(1)[0]\n",
    "    print(f\"Best Hyper Values: {best_hyper.values}\")\n",
    "    \n",
    "    nn = tuner.get_best_models(1)[0]\n",
    "    eval_results = nn.evaluate(X_test_scaled, y_test, verbose=2, batch_size=BATCH_SIZE )\n",
    "    print(f\"Best Model Loss: {eval_results[0]}, Accuracy: {eval_results[1:]}\")\n",
    "\n",
    "    nn.save(\"./saved_models/tuned.keras\")"
   ]
  },
  {
   "cell_type": "markdown",
   "id": "0a71ca9b-9cc3-4c85-9dab-e4b7d969ca52",
   "metadata": {},
   "source": [
    "# Model Reload /Creation"
   ]
  },
  {
   "cell_type": "code",
   "execution_count": 8,
   "id": "e0fdee2d-2e95-4fb1-96e9-c428546102cc",
   "metadata": {},
   "outputs": [
    {
     "name": "stdout",
     "output_type": "stream",
     "text": [
      "Building new model\n",
      "Input shape: (None, 1, 128)\n"
     ]
    },
    {
     "name": "stderr",
     "output_type": "stream",
     "text": [
      "WARNING: All log messages before absl::InitializeLog() is called are written to STDERR\n",
      "I0000 00:00:1733027296.853842   21131 cuda_executor.cc:1001] could not open file to read NUMA node: /sys/bus/pci/devices/0000:01:00.0/numa_node\n",
      "Your kernel may have been built without NUMA support.\n",
      "I0000 00:00:1733027296.965129   21131 cuda_executor.cc:1001] could not open file to read NUMA node: /sys/bus/pci/devices/0000:01:00.0/numa_node\n",
      "Your kernel may have been built without NUMA support.\n",
      "I0000 00:00:1733027296.965178   21131 cuda_executor.cc:1001] could not open file to read NUMA node: /sys/bus/pci/devices/0000:01:00.0/numa_node\n",
      "Your kernel may have been built without NUMA support.\n",
      "I0000 00:00:1733027296.967766   21131 cuda_executor.cc:1001] could not open file to read NUMA node: /sys/bus/pci/devices/0000:01:00.0/numa_node\n",
      "Your kernel may have been built without NUMA support.\n",
      "I0000 00:00:1733027296.967823   21131 cuda_executor.cc:1001] could not open file to read NUMA node: /sys/bus/pci/devices/0000:01:00.0/numa_node\n",
      "Your kernel may have been built without NUMA support.\n",
      "I0000 00:00:1733027296.967840   21131 cuda_executor.cc:1001] could not open file to read NUMA node: /sys/bus/pci/devices/0000:01:00.0/numa_node\n",
      "Your kernel may have been built without NUMA support.\n",
      "I0000 00:00:1733027297.784755   21131 cuda_executor.cc:1001] could not open file to read NUMA node: /sys/bus/pci/devices/0000:01:00.0/numa_node\n",
      "Your kernel may have been built without NUMA support.\n",
      "I0000 00:00:1733027297.784879   21131 cuda_executor.cc:1001] could not open file to read NUMA node: /sys/bus/pci/devices/0000:01:00.0/numa_node\n",
      "Your kernel may have been built without NUMA support.\n",
      "2024-11-30 20:28:17.784894: I tensorflow/core/common_runtime/gpu/gpu_device.cc:2112] Could not identify NUMA node of platform GPU id 0, defaulting to 0.  Your kernel may not have been built with NUMA support.\n",
      "I0000 00:00:1733027297.784935   21131 cuda_executor.cc:1001] could not open file to read NUMA node: /sys/bus/pci/devices/0000:01:00.0/numa_node\n",
      "Your kernel may have been built without NUMA support.\n",
      "2024-11-30 20:28:17.784973: I tensorflow/core/common_runtime/gpu/gpu_device.cc:2021] Created device /job:localhost/replica:0/task:0/device:GPU:0 with 5363 MB memory:  -> device: 0, name: NVIDIA RTX 2000 Ada Generation Laptop GPU, pci bus id: 0000:01:00.0, compute capability: 8.9\n"
     ]
    },
    {
     "data": {
      "text/html": [
       "<pre style=\"white-space:pre;overflow-x:auto;line-height:normal;font-family:Menlo,'DejaVu Sans Mono',consolas,'Courier New',monospace\"><span style=\"font-weight: bold\">Model: \"sequential\"</span>\n",
       "</pre>\n"
      ],
      "text/plain": [
       "\u001b[1mModel: \"sequential\"\u001b[0m\n"
      ]
     },
     "metadata": {},
     "output_type": "display_data"
    },
    {
     "data": {
      "text/html": [
       "<pre style=\"white-space:pre;overflow-x:auto;line-height:normal;font-family:Menlo,'DejaVu Sans Mono',consolas,'Courier New',monospace\">┏━━━━━━━━━━━━━━━━━━━━━━━━━━━━━━━━━┳━━━━━━━━━━━━━━━━━━━━━━━━┳━━━━━━━━━━━━━━━┓\n",
       "┃<span style=\"font-weight: bold\"> Layer (type)                    </span>┃<span style=\"font-weight: bold\"> Output Shape           </span>┃<span style=\"font-weight: bold\">       Param # </span>┃\n",
       "┡━━━━━━━━━━━━━━━━━━━━━━━━━━━━━━━━━╇━━━━━━━━━━━━━━━━━━━━━━━━╇━━━━━━━━━━━━━━━┩\n",
       "│ A_LSTM_tanh_sigmoid (<span style=\"color: #0087ff; text-decoration-color: #0087ff\">LSTM</span>)      │ (<span style=\"color: #00d7ff; text-decoration-color: #00d7ff\">None</span>, <span style=\"color: #00af00; text-decoration-color: #00af00\">1</span>, <span style=\"color: #00af00; text-decoration-color: #00af00\">32</span>)          │        <span style=\"color: #00af00; text-decoration-color: #00af00\">20,608</span> │\n",
       "├─────────────────────────────────┼────────────────────────┼───────────────┤\n",
       "│ Modulo_Layer (<span style=\"color: #0087ff; text-decoration-color: #0087ff\">Dense</span>)            │ (<span style=\"color: #00d7ff; text-decoration-color: #00d7ff\">None</span>, <span style=\"color: #00af00; text-decoration-color: #00af00\">1</span>, <span style=\"color: #00af00; text-decoration-color: #00af00\">1</span>)           │            <span style=\"color: #00af00; text-decoration-color: #00af00\">33</span> │\n",
       "└─────────────────────────────────┴────────────────────────┴───────────────┘\n",
       "</pre>\n"
      ],
      "text/plain": [
       "┏━━━━━━━━━━━━━━━━━━━━━━━━━━━━━━━━━┳━━━━━━━━━━━━━━━━━━━━━━━━┳━━━━━━━━━━━━━━━┓\n",
       "┃\u001b[1m \u001b[0m\u001b[1mLayer (type)                   \u001b[0m\u001b[1m \u001b[0m┃\u001b[1m \u001b[0m\u001b[1mOutput Shape          \u001b[0m\u001b[1m \u001b[0m┃\u001b[1m \u001b[0m\u001b[1m      Param #\u001b[0m\u001b[1m \u001b[0m┃\n",
       "┡━━━━━━━━━━━━━━━━━━━━━━━━━━━━━━━━━╇━━━━━━━━━━━━━━━━━━━━━━━━╇━━━━━━━━━━━━━━━┩\n",
       "│ A_LSTM_tanh_sigmoid (\u001b[38;5;33mLSTM\u001b[0m)      │ (\u001b[38;5;45mNone\u001b[0m, \u001b[38;5;34m1\u001b[0m, \u001b[38;5;34m32\u001b[0m)          │        \u001b[38;5;34m20,608\u001b[0m │\n",
       "├─────────────────────────────────┼────────────────────────┼───────────────┤\n",
       "│ Modulo_Layer (\u001b[38;5;33mDense\u001b[0m)            │ (\u001b[38;5;45mNone\u001b[0m, \u001b[38;5;34m1\u001b[0m, \u001b[38;5;34m1\u001b[0m)           │            \u001b[38;5;34m33\u001b[0m │\n",
       "└─────────────────────────────────┴────────────────────────┴───────────────┘\n"
      ]
     },
     "metadata": {},
     "output_type": "display_data"
    },
    {
     "data": {
      "text/html": [
       "<pre style=\"white-space:pre;overflow-x:auto;line-height:normal;font-family:Menlo,'DejaVu Sans Mono',consolas,'Courier New',monospace\"><span style=\"font-weight: bold\"> Total params: </span><span style=\"color: #00af00; text-decoration-color: #00af00\">20,641</span> (80.63 KB)\n",
       "</pre>\n"
      ],
      "text/plain": [
       "\u001b[1m Total params: \u001b[0m\u001b[38;5;34m20,641\u001b[0m (80.63 KB)\n"
      ]
     },
     "metadata": {},
     "output_type": "display_data"
    },
    {
     "data": {
      "text/html": [
       "<pre style=\"white-space:pre;overflow-x:auto;line-height:normal;font-family:Menlo,'DejaVu Sans Mono',consolas,'Courier New',monospace\"><span style=\"font-weight: bold\"> Trainable params: </span><span style=\"color: #00af00; text-decoration-color: #00af00\">20,641</span> (80.63 KB)\n",
       "</pre>\n"
      ],
      "text/plain": [
       "\u001b[1m Trainable params: \u001b[0m\u001b[38;5;34m20,641\u001b[0m (80.63 KB)\n"
      ]
     },
     "metadata": {},
     "output_type": "display_data"
    },
    {
     "data": {
      "text/html": [
       "<pre style=\"white-space:pre;overflow-x:auto;line-height:normal;font-family:Menlo,'DejaVu Sans Mono',consolas,'Courier New',monospace\"><span style=\"font-weight: bold\"> Non-trainable params: </span><span style=\"color: #00af00; text-decoration-color: #00af00\">0</span> (0.00 B)\n",
       "</pre>\n"
      ],
      "text/plain": [
       "\u001b[1m Non-trainable params: \u001b[0m\u001b[38;5;34m0\u001b[0m (0.00 B)\n"
      ]
     },
     "metadata": {},
     "output_type": "display_data"
    },
    {
     "name": "stdout",
     "output_type": "stream",
     "text": [
      "None\n"
     ]
    }
   ],
   "source": [
    "if BUILD_NETWORK:\n",
    "    print(\"Building new model\")\n",
    "    nn = tf.keras.models.Sequential()\n",
    "\n",
    "    NEW_ONE = True\n",
    "    if NEW_ONE:\n",
    "\n",
    "        if False:\n",
    "            input_shape = (1,1, CHUNK_SIZE)\n",
    "            foo = tf.keras.layers.Input(shape=input_shape[1:], name =\"InputLayer\")\n",
    "            seq = tf.keras.layers.LSTM(units= 64, return_sequences = True, name='Layer1')(foo)  # output must be batchsize x timesteps x units\n",
    "    \n",
    "            plaintext_vocab_size = OUTPUT_MAX\n",
    "            output = tf.keras.layers.TimeDistributed(tf.keras.layers.Dense(units = plaintext_vocab_size, activation='softmax', name='Layer2'))(seq)\n",
    "            \n",
    "            nn = tf.keras.Model(inputs = foo, outputs = output)\n",
    "\n",
    "        if True:\n",
    "            #input_shape = (CHUNK_SIZE,1)\n",
    "            #input_shape = (None, CHUNK_SIZE, 1)\n",
    "            input_shape = (None, 1, CHUNK_SIZE)\n",
    "            input_layer = tf.keras.Input(shape=input_shape[1:], name=\"Input_Layer\")\n",
    "            nn.add(input_layer)\n",
    "    \n",
    "            activation_A = \"tanh\"\n",
    "            recurrent_activation_A = \"sigmoid\"\n",
    "            lstm_layer = tf.keras.layers.LSTM(PROCESSING_UNITS, return_sequences=True, activation=activation_A, recurrent_activation=recurrent_activation_A,\n",
    "                name=f\"A_LSTM_{activation_A}_{recurrent_activation_A}\")\n",
    "            nn.add(lstm_layer)\n",
    "    \n",
    "            # Rescale that 0-1 value from Sigmoid to the correct output range\n",
    "            #nn.add(tf.keras.layers.Rescaling(scale=OUTPUT_MAX, offset=0, name=\"Rescaler\"))\n",
    "            #nn.add(tf.keras.layers.Dense(OUTPUT_SIZE, activation=modulo_output, name=\"Output_Limiter\"))\n",
    "            #nn.add(tf.keras.layers.Dense(OUTPUT_SIZE, activation=\"linear\", name=\"Nothing\"))\n",
    "\n",
    "            #plaintext_vocab_size = OUTPUT_MAX\n",
    "            #output_layer = tf.keras.layers.TimeDistributed(tf.keras.layers.Dense(units = plaintext_vocab_size, activation='softmax', name='TD_Layer'), input_shape=(1,2,3))\n",
    "            #output_layer = tf.keras.layers.TimeDistributed(tf.keras.layers.Dense(units = OUTPUT_SIZE, activation=modulo_output, name='TD_Layer'), input_shape=(1, 1, PROCESSING_UNITS))\n",
    "            output_layer = tf.keras.layers.Dense(units = OUTPUT_SIZE, activation=modulo_output, name='Modulo_Layer')\n",
    "            nn.add(output_layer)\n",
    "\n",
    "    else:\n",
    "        # This was looking promising for a while...\n",
    "\n",
    "        # Input layer\n",
    "        nn.add(tf.keras.layers.Embedding(input_dim=CHUNK_SIZE, output_dim=PROCESSING_UNITS, name=\"Embedding_Input\"))\n",
    "    \n",
    "        # This LSTM layer seems to do most of the real work\n",
    "        nn.add(tf.keras.layers.LSTM(1, name=\"LSTM\"))\n",
    "    \n",
    "        # Sigmoid layer produces an output between 0 and 1\n",
    "        #nn.add(tf.keras.layers.Dense(units=PROCESSING_UNITS, activation=\"sigmoid\", name=\"Sigmoid\"))\n",
    "    \n",
    "        # Rescale that 0-1 value from Sigmoid to the correct output range\n",
    "        nn.add(tf.keras.layers.Rescaling(scale=OUTPUT_MAX, offset=0, name=\"Rescaler\")) # Input is 0-1\n",
    "    \n",
    "        # Do modulo division to enforce output range limit\n",
    "        # Note this seems like it should be totally redundant. But the Tuner results suggest that including both\n",
    "        # mechanisms (Sigmoid + Rescaling, and Modulo Division) produces better results. I don't know why.\n",
    "        nn.add(tf.keras.layers.Dense(OUTPUT_SIZE, activation=modulo_output, name=\"Output_Limiter\"))\n",
    "\n",
    "    # Check the structure of the model\n",
    "    print(f\"Input shape: {nn.input_shape}\")\n",
    "    print(nn.summary())"
   ]
  },
  {
   "cell_type": "markdown",
   "id": "701c6ff4-2ca0-4ac0-af80-7d48b157675a",
   "metadata": {},
   "source": [
    "# Model Training"
   ]
  },
  {
   "cell_type": "code",
   "execution_count": 9,
   "id": "08319c4f-7080-477b-93b8-eca4791c449a",
   "metadata": {},
   "outputs": [
    {
     "data": {
      "text/html": [
       "<pre style=\"white-space:pre;overflow-x:auto;line-height:normal;font-family:Menlo,'DejaVu Sans Mono',consolas,'Courier New',monospace\"><span style=\"font-weight: bold\">Model: \"sequential\"</span>\n",
       "</pre>\n"
      ],
      "text/plain": [
       "\u001b[1mModel: \"sequential\"\u001b[0m\n"
      ]
     },
     "metadata": {},
     "output_type": "display_data"
    },
    {
     "data": {
      "text/html": [
       "<pre style=\"white-space:pre;overflow-x:auto;line-height:normal;font-family:Menlo,'DejaVu Sans Mono',consolas,'Courier New',monospace\">┏━━━━━━━━━━━━━━━━━━━━━━━━━━━━━━━━━┳━━━━━━━━━━━━━━━━━━━━━━━━┳━━━━━━━━━━━━━━━┓\n",
       "┃<span style=\"font-weight: bold\"> Layer (type)                    </span>┃<span style=\"font-weight: bold\"> Output Shape           </span>┃<span style=\"font-weight: bold\">       Param # </span>┃\n",
       "┡━━━━━━━━━━━━━━━━━━━━━━━━━━━━━━━━━╇━━━━━━━━━━━━━━━━━━━━━━━━╇━━━━━━━━━━━━━━━┩\n",
       "│ A_LSTM_tanh_sigmoid (<span style=\"color: #0087ff; text-decoration-color: #0087ff\">LSTM</span>)      │ (<span style=\"color: #00d7ff; text-decoration-color: #00d7ff\">None</span>, <span style=\"color: #00af00; text-decoration-color: #00af00\">1</span>, <span style=\"color: #00af00; text-decoration-color: #00af00\">32</span>)          │        <span style=\"color: #00af00; text-decoration-color: #00af00\">20,608</span> │\n",
       "├─────────────────────────────────┼────────────────────────┼───────────────┤\n",
       "│ Modulo_Layer (<span style=\"color: #0087ff; text-decoration-color: #0087ff\">Dense</span>)            │ (<span style=\"color: #00d7ff; text-decoration-color: #00d7ff\">None</span>, <span style=\"color: #00af00; text-decoration-color: #00af00\">1</span>, <span style=\"color: #00af00; text-decoration-color: #00af00\">1</span>)           │            <span style=\"color: #00af00; text-decoration-color: #00af00\">33</span> │\n",
       "└─────────────────────────────────┴────────────────────────┴───────────────┘\n",
       "</pre>\n"
      ],
      "text/plain": [
       "┏━━━━━━━━━━━━━━━━━━━━━━━━━━━━━━━━━┳━━━━━━━━━━━━━━━━━━━━━━━━┳━━━━━━━━━━━━━━━┓\n",
       "┃\u001b[1m \u001b[0m\u001b[1mLayer (type)                   \u001b[0m\u001b[1m \u001b[0m┃\u001b[1m \u001b[0m\u001b[1mOutput Shape          \u001b[0m\u001b[1m \u001b[0m┃\u001b[1m \u001b[0m\u001b[1m      Param #\u001b[0m\u001b[1m \u001b[0m┃\n",
       "┡━━━━━━━━━━━━━━━━━━━━━━━━━━━━━━━━━╇━━━━━━━━━━━━━━━━━━━━━━━━╇━━━━━━━━━━━━━━━┩\n",
       "│ A_LSTM_tanh_sigmoid (\u001b[38;5;33mLSTM\u001b[0m)      │ (\u001b[38;5;45mNone\u001b[0m, \u001b[38;5;34m1\u001b[0m, \u001b[38;5;34m32\u001b[0m)          │        \u001b[38;5;34m20,608\u001b[0m │\n",
       "├─────────────────────────────────┼────────────────────────┼───────────────┤\n",
       "│ Modulo_Layer (\u001b[38;5;33mDense\u001b[0m)            │ (\u001b[38;5;45mNone\u001b[0m, \u001b[38;5;34m1\u001b[0m, \u001b[38;5;34m1\u001b[0m)           │            \u001b[38;5;34m33\u001b[0m │\n",
       "└─────────────────────────────────┴────────────────────────┴───────────────┘\n"
      ]
     },
     "metadata": {},
     "output_type": "display_data"
    },
    {
     "data": {
      "text/html": [
       "<pre style=\"white-space:pre;overflow-x:auto;line-height:normal;font-family:Menlo,'DejaVu Sans Mono',consolas,'Courier New',monospace\"><span style=\"font-weight: bold\"> Total params: </span><span style=\"color: #00af00; text-decoration-color: #00af00\">20,641</span> (80.63 KB)\n",
       "</pre>\n"
      ],
      "text/plain": [
       "\u001b[1m Total params: \u001b[0m\u001b[38;5;34m20,641\u001b[0m (80.63 KB)\n"
      ]
     },
     "metadata": {},
     "output_type": "display_data"
    },
    {
     "data": {
      "text/html": [
       "<pre style=\"white-space:pre;overflow-x:auto;line-height:normal;font-family:Menlo,'DejaVu Sans Mono',consolas,'Courier New',monospace\"><span style=\"font-weight: bold\"> Trainable params: </span><span style=\"color: #00af00; text-decoration-color: #00af00\">20,641</span> (80.63 KB)\n",
       "</pre>\n"
      ],
      "text/plain": [
       "\u001b[1m Trainable params: \u001b[0m\u001b[38;5;34m20,641\u001b[0m (80.63 KB)\n"
      ]
     },
     "metadata": {},
     "output_type": "display_data"
    },
    {
     "data": {
      "text/html": [
       "<pre style=\"white-space:pre;overflow-x:auto;line-height:normal;font-family:Menlo,'DejaVu Sans Mono',consolas,'Courier New',monospace\"><span style=\"font-weight: bold\"> Non-trainable params: </span><span style=\"color: #00af00; text-decoration-color: #00af00\">0</span> (0.00 B)\n",
       "</pre>\n"
      ],
      "text/plain": [
       "\u001b[1m Non-trainable params: \u001b[0m\u001b[38;5;34m0\u001b[0m (0.00 B)\n"
      ]
     },
     "metadata": {},
     "output_type": "display_data"
    },
    {
     "name": "stdout",
     "output_type": "stream",
     "text": [
      "None\n",
      "Training model\n",
      "(100000, 128) (100000,) (100000, 128, 1) (100000, 1, 1)\n",
      "Epoch 1/100\n"
     ]
    },
    {
     "name": "stderr",
     "output_type": "stream",
     "text": [
      "2024-11-30 20:28:18.958807: I external/local_xla/xla/stream_executor/cuda/cuda_dnn.cc:531] Loaded cuDNN version 90101\n"
     ]
    },
    {
     "name": "stdout",
     "output_type": "stream",
     "text": [
      "\u001b[1m94/98\u001b[0m \u001b[32m━━━━━━━━━━━━━━━━━━━\u001b[0m\u001b[37m━\u001b[0m \u001b[1m0s\u001b[0m 12ms/step - loss: 2.6941 - modulo_distance_accuracy: 0.4612 - modulo_rounded_accuracy: 0.0304\n",
      "Epoch 1: modulo_distance_accuracy improved from -inf to 0.47998, saving model to ./saved_models/best.keras\n",
      "\u001b[1m98/98\u001b[0m \u001b[32m━━━━━━━━━━━━━━━━━━━━\u001b[0m\u001b[37m\u001b[0m \u001b[1m4s\u001b[0m 13ms/step - loss: 2.6895 - modulo_distance_accuracy: 0.4621 - modulo_rounded_accuracy: 0.0323\n",
      "Epoch 2/100\n",
      "\u001b[1m96/98\u001b[0m \u001b[32m━━━━━━━━━━━━━━━━━━━\u001b[0m\u001b[37m━\u001b[0m \u001b[1m0s\u001b[0m 13ms/step - loss: 2.2886 - modulo_distance_accuracy: 0.5423 - modulo_rounded_accuracy: 0.1086\n",
      "Epoch 2: modulo_distance_accuracy improved from 0.47998 to 0.54757, saving model to ./saved_models/best.keras\n",
      "\u001b[1m98/98\u001b[0m \u001b[32m━━━━━━━━━━━━━━━━━━━━\u001b[0m\u001b[37m\u001b[0m \u001b[1m1s\u001b[0m 13ms/step - loss: 2.2878 - modulo_distance_accuracy: 0.5424 - modulo_rounded_accuracy: 0.1084\n",
      "Epoch 3/100\n",
      "\u001b[1m97/98\u001b[0m \u001b[32m━━━━━━━━━━━━━━━━━━━\u001b[0m\u001b[37m━\u001b[0m \u001b[1m0s\u001b[0m 12ms/step - loss: 2.2221 - modulo_distance_accuracy: 0.5556 - modulo_rounded_accuracy: 0.0996\n",
      "Epoch 3: modulo_distance_accuracy improved from 0.54757 to 0.56601, saving model to ./saved_models/best.keras\n",
      "\u001b[1m98/98\u001b[0m \u001b[32m━━━━━━━━━━━━━━━━━━━━\u001b[0m\u001b[37m\u001b[0m \u001b[1m1s\u001b[0m 13ms/step - loss: 2.2211 - modulo_distance_accuracy: 0.5558 - modulo_rounded_accuracy: 0.0998\n",
      "Epoch 4/100\n",
      "\u001b[1m95/98\u001b[0m \u001b[32m━━━━━━━━━━━━━━━━━━━\u001b[0m\u001b[37m━\u001b[0m \u001b[1m0s\u001b[0m 20ms/step - loss: 1.7919 - modulo_distance_accuracy: 0.6416 - modulo_rounded_accuracy: 0.1635\n",
      "Epoch 4: modulo_distance_accuracy improved from 0.56601 to 0.65351, saving model to ./saved_models/best.keras\n",
      "\u001b[1m98/98\u001b[0m \u001b[32m━━━━━━━━━━━━━━━━━━━━\u001b[0m\u001b[37m\u001b[0m \u001b[1m2s\u001b[0m 20ms/step - loss: 1.7895 - modulo_distance_accuracy: 0.6421 - modulo_rounded_accuracy: 0.1638\n",
      "Epoch 5/100\n",
      "\u001b[1m96/98\u001b[0m \u001b[32m━━━━━━━━━━━━━━━━━━━\u001b[0m\u001b[37m━\u001b[0m \u001b[1m0s\u001b[0m 13ms/step - loss: 1.6568 - modulo_distance_accuracy: 0.6686 - modulo_rounded_accuracy: 0.1938\n",
      "Epoch 5: modulo_distance_accuracy improved from 0.65351 to 0.67526, saving model to ./saved_models/best.keras\n",
      "\u001b[1m98/98\u001b[0m \u001b[32m━━━━━━━━━━━━━━━━━━━━\u001b[0m\u001b[37m\u001b[0m \u001b[1m1s\u001b[0m 13ms/step - loss: 1.6558 - modulo_distance_accuracy: 0.6688 - modulo_rounded_accuracy: 0.1940\n",
      "Epoch 6/100\n",
      "\u001b[1m97/98\u001b[0m \u001b[32m━━━━━━━━━━━━━━━━━━━\u001b[0m\u001b[37m━\u001b[0m \u001b[1m0s\u001b[0m 12ms/step - loss: 1.5598 - modulo_distance_accuracy: 0.6880 - modulo_rounded_accuracy: 0.2235\n",
      "Epoch 6: modulo_distance_accuracy improved from 0.67526 to 0.69124, saving model to ./saved_models/best.keras\n",
      "\u001b[1m98/98\u001b[0m \u001b[32m━━━━━━━━━━━━━━━━━━━━\u001b[0m\u001b[37m\u001b[0m \u001b[1m1s\u001b[0m 13ms/step - loss: 1.5595 - modulo_distance_accuracy: 0.6881 - modulo_rounded_accuracy: 0.2236\n",
      "Epoch 7/100\n",
      "\u001b[1m98/98\u001b[0m \u001b[32m━━━━━━━━━━━━━━━━━━━━\u001b[0m\u001b[37m\u001b[0m \u001b[1m0s\u001b[0m 13ms/step - loss: 1.5076 - modulo_distance_accuracy: 0.6985 - modulo_rounded_accuracy: 0.2424\n",
      "Epoch 7: modulo_distance_accuracy improved from 0.69124 to 0.70105, saving model to ./saved_models/best.keras\n",
      "\u001b[1m98/98\u001b[0m \u001b[32m━━━━━━━━━━━━━━━━━━━━\u001b[0m\u001b[37m\u001b[0m \u001b[1m1s\u001b[0m 13ms/step - loss: 1.5074 - modulo_distance_accuracy: 0.6985 - modulo_rounded_accuracy: 0.2424\n",
      "Epoch 8/100\n",
      "\u001b[1m96/98\u001b[0m \u001b[32m━━━━━━━━━━━━━━━━━━━\u001b[0m\u001b[37m━\u001b[0m \u001b[1m0s\u001b[0m 12ms/step - loss: 1.4197 - modulo_distance_accuracy: 0.7161 - modulo_rounded_accuracy: 0.2605\n",
      "Epoch 8: modulo_distance_accuracy improved from 0.70105 to 0.72437, saving model to ./saved_models/best.keras\n",
      "\u001b[1m98/98\u001b[0m \u001b[32m━━━━━━━━━━━━━━━━━━━━\u001b[0m\u001b[37m\u001b[0m \u001b[1m1s\u001b[0m 13ms/step - loss: 1.4185 - modulo_distance_accuracy: 0.7163 - modulo_rounded_accuracy: 0.2608\n",
      "Epoch 9/100\n",
      "\u001b[1m98/98\u001b[0m \u001b[32m━━━━━━━━━━━━━━━━━━━━\u001b[0m\u001b[37m\u001b[0m \u001b[1m0s\u001b[0m 12ms/step - loss: 1.2827 - modulo_distance_accuracy: 0.7435 - modulo_rounded_accuracy: 0.2827\n",
      "Epoch 9: modulo_distance_accuracy improved from 0.72437 to 0.74728, saving model to ./saved_models/best.keras\n",
      "\u001b[1m98/98\u001b[0m \u001b[32m━━━━━━━━━━━━━━━━━━━━\u001b[0m\u001b[37m\u001b[0m \u001b[1m1s\u001b[0m 12ms/step - loss: 1.2825 - modulo_distance_accuracy: 0.7435 - modulo_rounded_accuracy: 0.2827\n",
      "Epoch 10/100\n",
      "\u001b[1m96/98\u001b[0m \u001b[32m━━━━━━━━━━━━━━━━━━━\u001b[0m\u001b[37m━\u001b[0m \u001b[1m0s\u001b[0m 12ms/step - loss: 1.2074 - modulo_distance_accuracy: 0.7585 - modulo_rounded_accuracy: 0.2910\n",
      "Epoch 10: modulo_distance_accuracy improved from 0.74728 to 0.76077, saving model to ./saved_models/best.keras\n",
      "\u001b[1m98/98\u001b[0m \u001b[32m━━━━━━━━━━━━━━━━━━━━\u001b[0m\u001b[37m\u001b[0m \u001b[1m1s\u001b[0m 13ms/step - loss: 1.2071 - modulo_distance_accuracy: 0.7586 - modulo_rounded_accuracy: 0.2911\n",
      "Epoch 11/100\n",
      "\u001b[1m95/98\u001b[0m \u001b[32m━━━━━━━━━━━━━━━━━━━\u001b[0m\u001b[37m━\u001b[0m \u001b[1m0s\u001b[0m 12ms/step - loss: 1.1711 - modulo_distance_accuracy: 0.7658 - modulo_rounded_accuracy: 0.3029\n",
      "Epoch 11: modulo_distance_accuracy improved from 0.76077 to 0.76757, saving model to ./saved_models/best.keras\n",
      "\u001b[1m98/98\u001b[0m \u001b[32m━━━━━━━━━━━━━━━━━━━━\u001b[0m\u001b[37m\u001b[0m \u001b[1m1s\u001b[0m 13ms/step - loss: 1.1707 - modulo_distance_accuracy: 0.7659 - modulo_rounded_accuracy: 0.3031\n",
      "Epoch 12/100\n",
      "\u001b[1m97/98\u001b[0m \u001b[32m━━━━━━━━━━━━━━━━━━━\u001b[0m\u001b[37m━\u001b[0m \u001b[1m0s\u001b[0m 12ms/step - loss: 1.1384 - modulo_distance_accuracy: 0.7723 - modulo_rounded_accuracy: 0.3200\n",
      "Epoch 12: modulo_distance_accuracy improved from 0.76757 to 0.77534, saving model to ./saved_models/best.keras\n",
      "\u001b[1m98/98\u001b[0m \u001b[32m━━━━━━━━━━━━━━━━━━━━\u001b[0m\u001b[37m\u001b[0m \u001b[1m1s\u001b[0m 12ms/step - loss: 1.1381 - modulo_distance_accuracy: 0.7724 - modulo_rounded_accuracy: 0.3202\n",
      "Epoch 13/100\n",
      "\u001b[1m97/98\u001b[0m \u001b[32m━━━━━━━━━━━━━━━━━━━\u001b[0m\u001b[37m━\u001b[0m \u001b[1m0s\u001b[0m 12ms/step - loss: 1.1042 - modulo_distance_accuracy: 0.7792 - modulo_rounded_accuracy: 0.3443\n",
      "Epoch 13: modulo_distance_accuracy improved from 0.77534 to 0.77986, saving model to ./saved_models/best.keras\n",
      "\u001b[1m98/98\u001b[0m \u001b[32m━━━━━━━━━━━━━━━━━━━━\u001b[0m\u001b[37m\u001b[0m \u001b[1m1s\u001b[0m 12ms/step - loss: 1.1041 - modulo_distance_accuracy: 0.7792 - modulo_rounded_accuracy: 0.3443\n",
      "Epoch 14/100\n",
      "\u001b[1m94/98\u001b[0m \u001b[32m━━━━━━━━━━━━━━━━━━━\u001b[0m\u001b[37m━\u001b[0m \u001b[1m0s\u001b[0m 12ms/step - loss: 1.0910 - modulo_distance_accuracy: 0.7818 - modulo_rounded_accuracy: 0.3471\n",
      "Epoch 14: modulo_distance_accuracy improved from 0.77986 to 0.78215, saving model to ./saved_models/best.keras\n",
      "\u001b[1m98/98\u001b[0m \u001b[32m━━━━━━━━━━━━━━━━━━━━\u001b[0m\u001b[37m\u001b[0m \u001b[1m1s\u001b[0m 13ms/step - loss: 1.0909 - modulo_distance_accuracy: 0.7818 - modulo_rounded_accuracy: 0.3472\n",
      "Epoch 15/100\n",
      "\u001b[1m97/98\u001b[0m \u001b[32m━━━━━━━━━━━━━━━━━━━\u001b[0m\u001b[37m━\u001b[0m \u001b[1m0s\u001b[0m 12ms/step - loss: 1.0806 - modulo_distance_accuracy: 0.7839 - modulo_rounded_accuracy: 0.3521\n",
      "Epoch 15: modulo_distance_accuracy improved from 0.78215 to 0.78375, saving model to ./saved_models/best.keras\n",
      "\u001b[1m98/98\u001b[0m \u001b[32m━━━━━━━━━━━━━━━━━━━━\u001b[0m\u001b[37m\u001b[0m \u001b[1m1s\u001b[0m 12ms/step - loss: 1.0806 - modulo_distance_accuracy: 0.7839 - modulo_rounded_accuracy: 0.3521\n",
      "Epoch 16/100\n",
      "\u001b[1m96/98\u001b[0m \u001b[32m━━━━━━━━━━━━━━━━━━━\u001b[0m\u001b[37m━\u001b[0m \u001b[1m0s\u001b[0m 12ms/step - loss: 1.0777 - modulo_distance_accuracy: 0.7845 - modulo_rounded_accuracy: 0.3549\n",
      "Epoch 16: modulo_distance_accuracy improved from 0.78375 to 0.78532, saving model to ./saved_models/best.keras\n",
      "\u001b[1m98/98\u001b[0m \u001b[32m━━━━━━━━━━━━━━━━━━━━\u001b[0m\u001b[37m\u001b[0m \u001b[1m1s\u001b[0m 13ms/step - loss: 1.0775 - modulo_distance_accuracy: 0.7845 - modulo_rounded_accuracy: 0.3549\n",
      "Epoch 17/100\n",
      "\u001b[1m97/98\u001b[0m \u001b[32m━━━━━━━━━━━━━━━━━━━\u001b[0m\u001b[37m━\u001b[0m \u001b[1m0s\u001b[0m 12ms/step - loss: 1.0642 - modulo_distance_accuracy: 0.7872 - modulo_rounded_accuracy: 0.3597\n",
      "Epoch 17: modulo_distance_accuracy improved from 0.78532 to 0.78721, saving model to ./saved_models/best.keras\n",
      "\u001b[1m98/98\u001b[0m \u001b[32m━━━━━━━━━━━━━━━━━━━━\u001b[0m\u001b[37m\u001b[0m \u001b[1m1s\u001b[0m 13ms/step - loss: 1.0642 - modulo_distance_accuracy: 0.7872 - modulo_rounded_accuracy: 0.3597\n",
      "Epoch 18/100\n",
      "\u001b[1m94/98\u001b[0m \u001b[32m━━━━━━━━━━━━━━━━━━━\u001b[0m\u001b[37m━\u001b[0m \u001b[1m0s\u001b[0m 12ms/step - loss: 1.0590 - modulo_distance_accuracy: 0.7882 - modulo_rounded_accuracy: 0.3626\n",
      "Epoch 18: modulo_distance_accuracy improved from 0.78721 to 0.78859, saving model to ./saved_models/best.keras\n",
      "\u001b[1m98/98\u001b[0m \u001b[32m━━━━━━━━━━━━━━━━━━━━\u001b[0m\u001b[37m\u001b[0m \u001b[1m1s\u001b[0m 12ms/step - loss: 1.0589 - modulo_distance_accuracy: 0.7882 - modulo_rounded_accuracy: 0.3626\n",
      "Epoch 19/100\n",
      "\u001b[1m96/98\u001b[0m \u001b[32m━━━━━━━━━━━━━━━━━━━\u001b[0m\u001b[37m━\u001b[0m \u001b[1m0s\u001b[0m 12ms/step - loss: 1.0489 - modulo_distance_accuracy: 0.7902 - modulo_rounded_accuracy: 0.3657\n",
      "Epoch 19: modulo_distance_accuracy improved from 0.78859 to 0.79026, saving model to ./saved_models/best.keras\n",
      "\u001b[1m98/98\u001b[0m \u001b[32m━━━━━━━━━━━━━━━━━━━━\u001b[0m\u001b[37m\u001b[0m \u001b[1m1s\u001b[0m 14ms/step - loss: 1.0489 - modulo_distance_accuracy: 0.7902 - modulo_rounded_accuracy: 0.3657\n",
      "Epoch 20/100\n",
      "\u001b[1m96/98\u001b[0m \u001b[32m━━━━━━━━━━━━━━━━━━━\u001b[0m\u001b[37m━\u001b[0m \u001b[1m0s\u001b[0m 12ms/step - loss: 1.0427 - modulo_distance_accuracy: 0.7915 - modulo_rounded_accuracy: 0.3705\n",
      "Epoch 20: modulo_distance_accuracy improved from 0.79026 to 0.79149, saving model to ./saved_models/best.keras\n",
      "\u001b[1m98/98\u001b[0m \u001b[32m━━━━━━━━━━━━━━━━━━━━\u001b[0m\u001b[37m\u001b[0m \u001b[1m1s\u001b[0m 14ms/step - loss: 1.0427 - modulo_distance_accuracy: 0.7915 - modulo_rounded_accuracy: 0.3705\n",
      "Epoch 21/100\n",
      "\u001b[1m96/98\u001b[0m \u001b[32m━━━━━━━━━━━━━━━━━━━\u001b[0m\u001b[37m━\u001b[0m \u001b[1m0s\u001b[0m 12ms/step - loss: 1.0339 - modulo_distance_accuracy: 0.7932 - modulo_rounded_accuracy: 0.3739\n",
      "Epoch 21: modulo_distance_accuracy improved from 0.79149 to 0.79304, saving model to ./saved_models/best.keras\n",
      "\u001b[1m98/98\u001b[0m \u001b[32m━━━━━━━━━━━━━━━━━━━━\u001b[0m\u001b[37m\u001b[0m \u001b[1m1s\u001b[0m 13ms/step - loss: 1.0339 - modulo_distance_accuracy: 0.7932 - modulo_rounded_accuracy: 0.3739\n",
      "Epoch 22/100\n",
      "\u001b[1m95/98\u001b[0m \u001b[32m━━━━━━━━━━━━━━━━━━━\u001b[0m\u001b[37m━\u001b[0m \u001b[1m0s\u001b[0m 12ms/step - loss: 1.0322 - modulo_distance_accuracy: 0.7936 - modulo_rounded_accuracy: 0.3732\n",
      "Epoch 22: modulo_distance_accuracy improved from 0.79304 to 0.79407, saving model to ./saved_models/best.keras\n",
      "\u001b[1m98/98\u001b[0m \u001b[32m━━━━━━━━━━━━━━━━━━━━\u001b[0m\u001b[37m\u001b[0m \u001b[1m1s\u001b[0m 13ms/step - loss: 1.0321 - modulo_distance_accuracy: 0.7936 - modulo_rounded_accuracy: 0.3733\n",
      "Epoch 23/100\n",
      "\u001b[1m97/98\u001b[0m \u001b[32m━━━━━━━━━━━━━━━━━━━\u001b[0m\u001b[37m━\u001b[0m \u001b[1m0s\u001b[0m 12ms/step - loss: 1.0197 - modulo_distance_accuracy: 0.7961 - modulo_rounded_accuracy: 0.3783\n",
      "Epoch 23: modulo_distance_accuracy improved from 0.79407 to 0.79583, saving model to ./saved_models/best.keras\n",
      "\u001b[1m98/98\u001b[0m \u001b[32m━━━━━━━━━━━━━━━━━━━━\u001b[0m\u001b[37m\u001b[0m \u001b[1m1s\u001b[0m 12ms/step - loss: 1.0197 - modulo_distance_accuracy: 0.7961 - modulo_rounded_accuracy: 0.3783\n",
      "Epoch 24/100\n",
      "\u001b[1m94/98\u001b[0m \u001b[32m━━━━━━━━━━━━━━━━━━━\u001b[0m\u001b[37m━\u001b[0m \u001b[1m0s\u001b[0m 12ms/step - loss: 1.0202 - modulo_distance_accuracy: 0.7960 - modulo_rounded_accuracy: 0.3783\n",
      "Epoch 24: modulo_distance_accuracy improved from 0.79583 to 0.79678, saving model to ./saved_models/best.keras\n",
      "\u001b[1m98/98\u001b[0m \u001b[32m━━━━━━━━━━━━━━━━━━━━\u001b[0m\u001b[37m\u001b[0m \u001b[1m1s\u001b[0m 12ms/step - loss: 1.0200 - modulo_distance_accuracy: 0.7960 - modulo_rounded_accuracy: 0.3784\n",
      "Epoch 25/100\n",
      "\u001b[1m98/98\u001b[0m \u001b[32m━━━━━━━━━━━━━━━━━━━━\u001b[0m\u001b[37m\u001b[0m \u001b[1m0s\u001b[0m 12ms/step - loss: 1.0119 - modulo_distance_accuracy: 0.7976 - modulo_rounded_accuracy: 0.3829\n",
      "Epoch 25: modulo_distance_accuracy improved from 0.79678 to 0.79768, saving model to ./saved_models/best.keras\n",
      "\u001b[1m98/98\u001b[0m \u001b[32m━━━━━━━━━━━━━━━━━━━━\u001b[0m\u001b[37m\u001b[0m \u001b[1m1s\u001b[0m 13ms/step - loss: 1.0119 - modulo_distance_accuracy: 0.7976 - modulo_rounded_accuracy: 0.3829\n",
      "Epoch 26/100\n",
      "\u001b[1m95/98\u001b[0m \u001b[32m━━━━━━━━━━━━━━━━━━━\u001b[0m\u001b[37m━\u001b[0m \u001b[1m0s\u001b[0m 12ms/step - loss: 1.0090 - modulo_distance_accuracy: 0.7982 - modulo_rounded_accuracy: 0.3824\n",
      "Epoch 26: modulo_distance_accuracy improved from 0.79768 to 0.79835, saving model to ./saved_models/best.keras\n",
      "\u001b[1m98/98\u001b[0m \u001b[32m━━━━━━━━━━━━━━━━━━━━\u001b[0m\u001b[37m\u001b[0m \u001b[1m2s\u001b[0m 16ms/step - loss: 1.0090 - modulo_distance_accuracy: 0.7982 - modulo_rounded_accuracy: 0.3824\n",
      "Epoch 27/100\n",
      "\u001b[1m95/98\u001b[0m \u001b[32m━━━━━━━━━━━━━━━━━━━\u001b[0m\u001b[37m━\u001b[0m \u001b[1m0s\u001b[0m 12ms/step - loss: 1.0030 - modulo_distance_accuracy: 0.7994 - modulo_rounded_accuracy: 0.3858\n",
      "Epoch 27: modulo_distance_accuracy improved from 0.79835 to 0.79940, saving model to ./saved_models/best.keras\n",
      "\u001b[1m98/98\u001b[0m \u001b[32m━━━━━━━━━━━━━━━━━━━━\u001b[0m\u001b[37m\u001b[0m \u001b[1m1s\u001b[0m 12ms/step - loss: 1.0030 - modulo_distance_accuracy: 0.7994 - modulo_rounded_accuracy: 0.3857\n",
      "Epoch 28/100\n",
      "\u001b[1m94/98\u001b[0m \u001b[32m━━━━━━━━━━━━━━━━━━━\u001b[0m\u001b[37m━\u001b[0m \u001b[1m0s\u001b[0m 12ms/step - loss: 1.0007 - modulo_distance_accuracy: 0.7999 - modulo_rounded_accuracy: 0.3870\n",
      "Epoch 28: modulo_distance_accuracy improved from 0.79940 to 0.80016, saving model to ./saved_models/best.keras\n",
      "\u001b[1m98/98\u001b[0m \u001b[32m━━━━━━━━━━━━━━━━━━━━\u001b[0m\u001b[37m\u001b[0m \u001b[1m1s\u001b[0m 13ms/step - loss: 1.0006 - modulo_distance_accuracy: 0.7999 - modulo_rounded_accuracy: 0.3870\n",
      "Epoch 29/100\n",
      "\u001b[1m96/98\u001b[0m \u001b[32m━━━━━━━━━━━━━━━━━━━\u001b[0m\u001b[37m━\u001b[0m \u001b[1m0s\u001b[0m 20ms/step - loss: 0.9974 - modulo_distance_accuracy: 0.8005 - modulo_rounded_accuracy: 0.3880\n",
      "Epoch 29: modulo_distance_accuracy improved from 0.80016 to 0.80080, saving model to ./saved_models/best.keras\n",
      "\u001b[1m98/98\u001b[0m \u001b[32m━━━━━━━━━━━━━━━━━━━━\u001b[0m\u001b[37m\u001b[0m \u001b[1m2s\u001b[0m 20ms/step - loss: 0.9974 - modulo_distance_accuracy: 0.8005 - modulo_rounded_accuracy: 0.3880\n",
      "Epoch 30/100\n",
      "\u001b[1m94/98\u001b[0m \u001b[32m━━━━━━━━━━━━━━━━━━━\u001b[0m\u001b[37m━\u001b[0m \u001b[1m0s\u001b[0m 13ms/step - loss: 0.9952 - modulo_distance_accuracy: 0.8010 - modulo_rounded_accuracy: 0.3878\n",
      "Epoch 30: modulo_distance_accuracy improved from 0.80080 to 0.80197, saving model to ./saved_models/best.keras\n",
      "\u001b[1m98/98\u001b[0m \u001b[32m━━━━━━━━━━━━━━━━━━━━\u001b[0m\u001b[37m\u001b[0m \u001b[1m1s\u001b[0m 13ms/step - loss: 0.9949 - modulo_distance_accuracy: 0.8010 - modulo_rounded_accuracy: 0.3880\n",
      "Epoch 31/100\n",
      "\u001b[1m96/98\u001b[0m \u001b[32m━━━━━━━━━━━━━━━━━━━\u001b[0m\u001b[37m━\u001b[0m \u001b[1m0s\u001b[0m 12ms/step - loss: 0.9902 - modulo_distance_accuracy: 0.8020 - modulo_rounded_accuracy: 0.3911\n",
      "Epoch 31: modulo_distance_accuracy improved from 0.80197 to 0.80221, saving model to ./saved_models/best.keras\n",
      "\u001b[1m98/98\u001b[0m \u001b[32m━━━━━━━━━━━━━━━━━━━━\u001b[0m\u001b[37m\u001b[0m \u001b[1m1s\u001b[0m 13ms/step - loss: 0.9902 - modulo_distance_accuracy: 0.8020 - modulo_rounded_accuracy: 0.3911\n",
      "Epoch 32/100\n",
      "\u001b[1m98/98\u001b[0m \u001b[32m━━━━━━━━━━━━━━━━━━━━\u001b[0m\u001b[37m\u001b[0m \u001b[1m0s\u001b[0m 12ms/step - loss: 0.9821 - modulo_distance_accuracy: 0.8036 - modulo_rounded_accuracy: 0.3933\n",
      "Epoch 32: modulo_distance_accuracy improved from 0.80221 to 0.80335, saving model to ./saved_models/best.keras\n",
      "\u001b[1m98/98\u001b[0m \u001b[32m━━━━━━━━━━━━━━━━━━━━\u001b[0m\u001b[37m\u001b[0m \u001b[1m1s\u001b[0m 13ms/step - loss: 0.9821 - modulo_distance_accuracy: 0.8036 - modulo_rounded_accuracy: 0.3933\n",
      "Epoch 33/100\n",
      "\u001b[1m97/98\u001b[0m \u001b[32m━━━━━━━━━━━━━━━━━━━\u001b[0m\u001b[37m━\u001b[0m \u001b[1m0s\u001b[0m 12ms/step - loss: 0.9784 - modulo_distance_accuracy: 0.8043 - modulo_rounded_accuracy: 0.3944\n",
      "Epoch 33: modulo_distance_accuracy improved from 0.80335 to 0.80406, saving model to ./saved_models/best.keras\n",
      "\u001b[1m98/98\u001b[0m \u001b[32m━━━━━━━━━━━━━━━━━━━━\u001b[0m\u001b[37m\u001b[0m \u001b[1m1s\u001b[0m 13ms/step - loss: 0.9785 - modulo_distance_accuracy: 0.8043 - modulo_rounded_accuracy: 0.3944\n",
      "Epoch 34/100\n",
      "\u001b[1m94/98\u001b[0m \u001b[32m━━━━━━━━━━━━━━━━━━━\u001b[0m\u001b[37m━\u001b[0m \u001b[1m0s\u001b[0m 12ms/step - loss: 0.9786 - modulo_distance_accuracy: 0.8043 - modulo_rounded_accuracy: 0.3953\n",
      "Epoch 34: modulo_distance_accuracy improved from 0.80406 to 0.80438, saving model to ./saved_models/best.keras\n",
      "\u001b[1m98/98\u001b[0m \u001b[32m━━━━━━━━━━━━━━━━━━━━\u001b[0m\u001b[37m\u001b[0m \u001b[1m1s\u001b[0m 13ms/step - loss: 0.9786 - modulo_distance_accuracy: 0.8043 - modulo_rounded_accuracy: 0.3954\n",
      "Epoch 35/100\n",
      "\u001b[1m94/98\u001b[0m \u001b[32m━━━━━━━━━━━━━━━━━━━\u001b[0m\u001b[37m━\u001b[0m \u001b[1m0s\u001b[0m 12ms/step - loss: 0.9730 - modulo_distance_accuracy: 0.8054 - modulo_rounded_accuracy: 0.3988\n",
      "Epoch 35: modulo_distance_accuracy improved from 0.80438 to 0.80531, saving model to ./saved_models/best.keras\n",
      "\u001b[1m98/98\u001b[0m \u001b[32m━━━━━━━━━━━━━━━━━━━━\u001b[0m\u001b[37m\u001b[0m \u001b[1m1s\u001b[0m 13ms/step - loss: 0.9731 - modulo_distance_accuracy: 0.8054 - modulo_rounded_accuracy: 0.3988\n",
      "Epoch 36/100\n",
      "\u001b[1m98/98\u001b[0m \u001b[32m━━━━━━━━━━━━━━━━━━━━\u001b[0m\u001b[37m\u001b[0m \u001b[1m0s\u001b[0m 12ms/step - loss: 0.9715 - modulo_distance_accuracy: 0.8057 - modulo_rounded_accuracy: 0.3986\n",
      "Epoch 36: modulo_distance_accuracy improved from 0.80531 to 0.80598, saving model to ./saved_models/best.keras\n",
      "\u001b[1m98/98\u001b[0m \u001b[32m━━━━━━━━━━━━━━━━━━━━\u001b[0m\u001b[37m\u001b[0m \u001b[1m1s\u001b[0m 13ms/step - loss: 0.9715 - modulo_distance_accuracy: 0.8057 - modulo_rounded_accuracy: 0.3986\n",
      "Epoch 37/100\n",
      "\u001b[1m97/98\u001b[0m \u001b[32m━━━━━━━━━━━━━━━━━━━\u001b[0m\u001b[37m━\u001b[0m \u001b[1m0s\u001b[0m 12ms/step - loss: 0.9644 - modulo_distance_accuracy: 0.8071 - modulo_rounded_accuracy: 0.4024\n",
      "Epoch 37: modulo_distance_accuracy improved from 0.80598 to 0.80717, saving model to ./saved_models/best.keras\n",
      "\u001b[1m98/98\u001b[0m \u001b[32m━━━━━━━━━━━━━━━━━━━━\u001b[0m\u001b[37m\u001b[0m \u001b[1m1s\u001b[0m 13ms/step - loss: 0.9644 - modulo_distance_accuracy: 0.8071 - modulo_rounded_accuracy: 0.4024\n",
      "Epoch 38/100\n",
      "\u001b[1m96/98\u001b[0m \u001b[32m━━━━━━━━━━━━━━━━━━━\u001b[0m\u001b[37m━\u001b[0m \u001b[1m0s\u001b[0m 12ms/step - loss: 0.9585 - modulo_distance_accuracy: 0.8083 - modulo_rounded_accuracy: 0.4067\n",
      "Epoch 38: modulo_distance_accuracy improved from 0.80717 to 0.80789, saving model to ./saved_models/best.keras\n",
      "\u001b[1m98/98\u001b[0m \u001b[32m━━━━━━━━━━━━━━━━━━━━\u001b[0m\u001b[37m\u001b[0m \u001b[1m1s\u001b[0m 14ms/step - loss: 0.9586 - modulo_distance_accuracy: 0.8083 - modulo_rounded_accuracy: 0.4066\n",
      "Epoch 39/100\n",
      "\u001b[1m96/98\u001b[0m \u001b[32m━━━━━━━━━━━━━━━━━━━\u001b[0m\u001b[37m━\u001b[0m \u001b[1m0s\u001b[0m 12ms/step - loss: 0.9588 - modulo_distance_accuracy: 0.8082 - modulo_rounded_accuracy: 0.4052\n",
      "Epoch 39: modulo_distance_accuracy improved from 0.80789 to 0.80875, saving model to ./saved_models/best.keras\n",
      "\u001b[1m98/98\u001b[0m \u001b[32m━━━━━━━━━━━━━━━━━━━━\u001b[0m\u001b[37m\u001b[0m \u001b[1m1s\u001b[0m 13ms/step - loss: 0.9587 - modulo_distance_accuracy: 0.8083 - modulo_rounded_accuracy: 0.4052\n",
      "Epoch 40/100\n",
      "\u001b[1m97/98\u001b[0m \u001b[32m━━━━━━━━━━━━━━━━━━━\u001b[0m\u001b[37m━\u001b[0m \u001b[1m0s\u001b[0m 12ms/step - loss: 0.9495 - modulo_distance_accuracy: 0.8101 - modulo_rounded_accuracy: 0.4103\n",
      "Epoch 40: modulo_distance_accuracy improved from 0.80875 to 0.80991, saving model to ./saved_models/best.keras\n",
      "\u001b[1m98/98\u001b[0m \u001b[32m━━━━━━━━━━━━━━━━━━━━\u001b[0m\u001b[37m\u001b[0m \u001b[1m1s\u001b[0m 12ms/step - loss: 0.9496 - modulo_distance_accuracy: 0.8101 - modulo_rounded_accuracy: 0.4103\n",
      "Epoch 41/100\n",
      "\u001b[1m98/98\u001b[0m \u001b[32m━━━━━━━━━━━━━━━━━━━━\u001b[0m\u001b[37m\u001b[0m \u001b[1m0s\u001b[0m 12ms/step - loss: 0.9468 - modulo_distance_accuracy: 0.8106 - modulo_rounded_accuracy: 0.4134\n",
      "Epoch 41: modulo_distance_accuracy improved from 0.80991 to 0.81089, saving model to ./saved_models/best.keras\n",
      "\u001b[1m98/98\u001b[0m \u001b[32m━━━━━━━━━━━━━━━━━━━━\u001b[0m\u001b[37m\u001b[0m \u001b[1m1s\u001b[0m 13ms/step - loss: 0.9468 - modulo_distance_accuracy: 0.8106 - modulo_rounded_accuracy: 0.4134\n",
      "Epoch 42/100\n",
      "\u001b[1m94/98\u001b[0m \u001b[32m━━━━━━━━━━━━━━━━━━━\u001b[0m\u001b[37m━\u001b[0m \u001b[1m0s\u001b[0m 12ms/step - loss: 0.9408 - modulo_distance_accuracy: 0.8118 - modulo_rounded_accuracy: 0.4164\n",
      "Epoch 42: modulo_distance_accuracy improved from 0.81089 to 0.81157, saving model to ./saved_models/best.keras\n",
      "\u001b[1m98/98\u001b[0m \u001b[32m━━━━━━━━━━━━━━━━━━━━\u001b[0m\u001b[37m\u001b[0m \u001b[1m1s\u001b[0m 13ms/step - loss: 0.9409 - modulo_distance_accuracy: 0.8118 - modulo_rounded_accuracy: 0.4163\n",
      "Epoch 43/100\n",
      "\u001b[1m95/98\u001b[0m \u001b[32m━━━━━━━━━━━━━━━━━━━\u001b[0m\u001b[37m━\u001b[0m \u001b[1m0s\u001b[0m 12ms/step - loss: 0.9326 - modulo_distance_accuracy: 0.8135 - modulo_rounded_accuracy: 0.4209\n",
      "Epoch 43: modulo_distance_accuracy improved from 0.81157 to 0.81266, saving model to ./saved_models/best.keras\n",
      "\u001b[1m98/98\u001b[0m \u001b[32m━━━━━━━━━━━━━━━━━━━━\u001b[0m\u001b[37m\u001b[0m \u001b[1m1s\u001b[0m 13ms/step - loss: 0.9328 - modulo_distance_accuracy: 0.8134 - modulo_rounded_accuracy: 0.4208\n",
      "Epoch 44/100\n",
      "\u001b[1m96/98\u001b[0m \u001b[32m━━━━━━━━━━━━━━━━━━━\u001b[0m\u001b[37m━\u001b[0m \u001b[1m0s\u001b[0m 12ms/step - loss: 0.9300 - modulo_distance_accuracy: 0.8140 - modulo_rounded_accuracy: 0.4224\n",
      "Epoch 44: modulo_distance_accuracy improved from 0.81266 to 0.81408, saving model to ./saved_models/best.keras\n",
      "\u001b[1m98/98\u001b[0m \u001b[32m━━━━━━━━━━━━━━━━━━━━\u001b[0m\u001b[37m\u001b[0m \u001b[1m1s\u001b[0m 13ms/step - loss: 0.9300 - modulo_distance_accuracy: 0.8140 - modulo_rounded_accuracy: 0.4224\n",
      "Epoch 45/100\n",
      "\u001b[1m96/98\u001b[0m \u001b[32m━━━━━━━━━━━━━━━━━━━\u001b[0m\u001b[37m━\u001b[0m \u001b[1m0s\u001b[0m 12ms/step - loss: 0.9272 - modulo_distance_accuracy: 0.8146 - modulo_rounded_accuracy: 0.4253\n",
      "Epoch 45: modulo_distance_accuracy improved from 0.81408 to 0.81509, saving model to ./saved_models/best.keras\n",
      "\u001b[1m98/98\u001b[0m \u001b[32m━━━━━━━━━━━━━━━━━━━━\u001b[0m\u001b[37m\u001b[0m \u001b[1m1s\u001b[0m 13ms/step - loss: 0.9271 - modulo_distance_accuracy: 0.8146 - modulo_rounded_accuracy: 0.4253\n",
      "Epoch 46/100\n",
      "\u001b[1m97/98\u001b[0m \u001b[32m━━━━━━━━━━━━━━━━━━━\u001b[0m\u001b[37m━\u001b[0m \u001b[1m0s\u001b[0m 12ms/step - loss: 0.9187 - modulo_distance_accuracy: 0.8163 - modulo_rounded_accuracy: 0.4288\n",
      "Epoch 46: modulo_distance_accuracy improved from 0.81509 to 0.81672, saving model to ./saved_models/best.keras\n",
      "\u001b[1m98/98\u001b[0m \u001b[32m━━━━━━━━━━━━━━━━━━━━\u001b[0m\u001b[37m\u001b[0m \u001b[1m1s\u001b[0m 13ms/step - loss: 0.9186 - modulo_distance_accuracy: 0.8163 - modulo_rounded_accuracy: 0.4289\n",
      "Epoch 47/100\n",
      "\u001b[1m95/98\u001b[0m \u001b[32m━━━━━━━━━━━━━━━━━━━\u001b[0m\u001b[37m━\u001b[0m \u001b[1m0s\u001b[0m 12ms/step - loss: 0.9147 - modulo_distance_accuracy: 0.8171 - modulo_rounded_accuracy: 0.4332\n",
      "Epoch 47: modulo_distance_accuracy improved from 0.81672 to 0.81679, saving model to ./saved_models/best.keras\n",
      "\u001b[1m98/98\u001b[0m \u001b[32m━━━━━━━━━━━━━━━━━━━━\u001b[0m\u001b[37m\u001b[0m \u001b[1m1s\u001b[0m 13ms/step - loss: 0.9148 - modulo_distance_accuracy: 0.8170 - modulo_rounded_accuracy: 0.4332\n",
      "Epoch 48/100\n",
      "\u001b[1m96/98\u001b[0m \u001b[32m━━━━━━━━━━━━━━━━━━━\u001b[0m\u001b[37m━\u001b[0m \u001b[1m0s\u001b[0m 13ms/step - loss: 0.9093 - modulo_distance_accuracy: 0.8181 - modulo_rounded_accuracy: 0.4384\n",
      "Epoch 48: modulo_distance_accuracy improved from 0.81679 to 0.81871, saving model to ./saved_models/best.keras\n",
      "\u001b[1m98/98\u001b[0m \u001b[32m━━━━━━━━━━━━━━━━━━━━\u001b[0m\u001b[37m\u001b[0m \u001b[1m1s\u001b[0m 14ms/step - loss: 0.9092 - modulo_distance_accuracy: 0.8182 - modulo_rounded_accuracy: 0.4384\n",
      "Epoch 49/100\n",
      "\u001b[1m97/98\u001b[0m \u001b[32m━━━━━━━━━━━━━━━━━━━\u001b[0m\u001b[37m━\u001b[0m \u001b[1m0s\u001b[0m 12ms/step - loss: 0.9016 - modulo_distance_accuracy: 0.8197 - modulo_rounded_accuracy: 0.4426\n",
      "Epoch 49: modulo_distance_accuracy improved from 0.81871 to 0.82009, saving model to ./saved_models/best.keras\n",
      "\u001b[1m98/98\u001b[0m \u001b[32m━━━━━━━━━━━━━━━━━━━━\u001b[0m\u001b[37m\u001b[0m \u001b[1m1s\u001b[0m 13ms/step - loss: 0.9016 - modulo_distance_accuracy: 0.8197 - modulo_rounded_accuracy: 0.4426\n",
      "Epoch 50/100\n",
      "\u001b[1m98/98\u001b[0m \u001b[32m━━━━━━━━━━━━━━━━━━━━\u001b[0m\u001b[37m\u001b[0m \u001b[1m0s\u001b[0m 12ms/step - loss: 0.8962 - modulo_distance_accuracy: 0.8208 - modulo_rounded_accuracy: 0.4453\n",
      "Epoch 50: modulo_distance_accuracy improved from 0.82009 to 0.82054, saving model to ./saved_models/best.keras\n",
      "\u001b[1m98/98\u001b[0m \u001b[32m━━━━━━━━━━━━━━━━━━━━\u001b[0m\u001b[37m\u001b[0m \u001b[1m1s\u001b[0m 14ms/step - loss: 0.8962 - modulo_distance_accuracy: 0.8208 - modulo_rounded_accuracy: 0.4453\n",
      "Epoch 51/100\n",
      "\u001b[1m96/98\u001b[0m \u001b[32m━━━━━━━━━━━━━━━━━━━\u001b[0m\u001b[37m━\u001b[0m \u001b[1m0s\u001b[0m 12ms/step - loss: 0.8938 - modulo_distance_accuracy: 0.8212 - modulo_rounded_accuracy: 0.4480\n",
      "Epoch 51: modulo_distance_accuracy improved from 0.82054 to 0.82172, saving model to ./saved_models/best.keras\n",
      "\u001b[1m98/98\u001b[0m \u001b[32m━━━━━━━━━━━━━━━━━━━━\u001b[0m\u001b[37m\u001b[0m \u001b[1m1s\u001b[0m 13ms/step - loss: 0.8937 - modulo_distance_accuracy: 0.8213 - modulo_rounded_accuracy: 0.4480\n",
      "Epoch 52/100\n",
      "\u001b[1m95/98\u001b[0m \u001b[32m━━━━━━━━━━━━━━━━━━━\u001b[0m\u001b[37m━\u001b[0m \u001b[1m0s\u001b[0m 12ms/step - loss: 0.8915 - modulo_distance_accuracy: 0.8217 - modulo_rounded_accuracy: 0.4482\n",
      "Epoch 52: modulo_distance_accuracy improved from 0.82172 to 0.82207, saving model to ./saved_models/best.keras\n",
      "\u001b[1m98/98\u001b[0m \u001b[32m━━━━━━━━━━━━━━━━━━━━\u001b[0m\u001b[37m\u001b[0m \u001b[1m1s\u001b[0m 13ms/step - loss: 0.8915 - modulo_distance_accuracy: 0.8217 - modulo_rounded_accuracy: 0.4483\n",
      "Epoch 53/100\n",
      "\u001b[1m97/98\u001b[0m \u001b[32m━━━━━━━━━━━━━━━━━━━\u001b[0m\u001b[37m━\u001b[0m \u001b[1m0s\u001b[0m 12ms/step - loss: 0.8856 - modulo_distance_accuracy: 0.8229 - modulo_rounded_accuracy: 0.4557\n",
      "Epoch 53: modulo_distance_accuracy improved from 0.82207 to 0.82336, saving model to ./saved_models/best.keras\n",
      "\u001b[1m98/98\u001b[0m \u001b[32m━━━━━━━━━━━━━━━━━━━━\u001b[0m\u001b[37m\u001b[0m \u001b[1m1s\u001b[0m 13ms/step - loss: 0.8856 - modulo_distance_accuracy: 0.8229 - modulo_rounded_accuracy: 0.4557\n",
      "Epoch 54/100\n",
      "\u001b[1m96/98\u001b[0m \u001b[32m━━━━━━━━━━━━━━━━━━━\u001b[0m\u001b[37m━\u001b[0m \u001b[1m0s\u001b[0m 20ms/step - loss: 0.8777 - modulo_distance_accuracy: 0.8245 - modulo_rounded_accuracy: 0.4589\n",
      "Epoch 54: modulo_distance_accuracy improved from 0.82336 to 0.82398, saving model to ./saved_models/best.keras\n",
      "\u001b[1m98/98\u001b[0m \u001b[32m━━━━━━━━━━━━━━━━━━━━\u001b[0m\u001b[37m\u001b[0m \u001b[1m2s\u001b[0m 20ms/step - loss: 0.8777 - modulo_distance_accuracy: 0.8245 - modulo_rounded_accuracy: 0.4589\n",
      "Epoch 55/100\n",
      "\u001b[1m98/98\u001b[0m \u001b[32m━━━━━━━━━━━━━━━━━━━━\u001b[0m\u001b[37m\u001b[0m \u001b[1m0s\u001b[0m 13ms/step - loss: 0.8730 - modulo_distance_accuracy: 0.8254 - modulo_rounded_accuracy: 0.4614\n",
      "Epoch 55: modulo_distance_accuracy improved from 0.82398 to 0.82472, saving model to ./saved_models/best.keras\n",
      "\u001b[1m98/98\u001b[0m \u001b[32m━━━━━━━━━━━━━━━━━━━━\u001b[0m\u001b[37m\u001b[0m \u001b[1m1s\u001b[0m 14ms/step - loss: 0.8730 - modulo_distance_accuracy: 0.8254 - modulo_rounded_accuracy: 0.4614\n",
      "Epoch 56/100\n",
      "\u001b[1m96/98\u001b[0m \u001b[32m━━━━━━━━━━━━━━━━━━━\u001b[0m\u001b[37m━\u001b[0m \u001b[1m0s\u001b[0m 12ms/step - loss: 0.8768 - modulo_distance_accuracy: 0.8246 - modulo_rounded_accuracy: 0.4602\n",
      "Epoch 56: modulo_distance_accuracy improved from 0.82472 to 0.82521, saving model to ./saved_models/best.keras\n",
      "\u001b[1m98/98\u001b[0m \u001b[32m━━━━━━━━━━━━━━━━━━━━\u001b[0m\u001b[37m\u001b[0m \u001b[1m1s\u001b[0m 14ms/step - loss: 0.8767 - modulo_distance_accuracy: 0.8247 - modulo_rounded_accuracy: 0.4602\n",
      "Epoch 57/100\n",
      "\u001b[1m97/98\u001b[0m \u001b[32m━━━━━━━━━━━━━━━━━━━\u001b[0m\u001b[37m━\u001b[0m \u001b[1m0s\u001b[0m 12ms/step - loss: 0.8712 - modulo_distance_accuracy: 0.8258 - modulo_rounded_accuracy: 0.4634\n",
      "Epoch 57: modulo_distance_accuracy improved from 0.82521 to 0.82611, saving model to ./saved_models/best.keras\n",
      "\u001b[1m98/98\u001b[0m \u001b[32m━━━━━━━━━━━━━━━━━━━━\u001b[0m\u001b[37m\u001b[0m \u001b[1m1s\u001b[0m 14ms/step - loss: 0.8712 - modulo_distance_accuracy: 0.8258 - modulo_rounded_accuracy: 0.4634\n",
      "Epoch 58/100\n",
      "\u001b[1m94/98\u001b[0m \u001b[32m━━━━━━━━━━━━━━━━━━━\u001b[0m\u001b[37m━\u001b[0m \u001b[1m0s\u001b[0m 12ms/step - loss: 0.8660 - modulo_distance_accuracy: 0.8268 - modulo_rounded_accuracy: 0.4664\n",
      "Epoch 58: modulo_distance_accuracy improved from 0.82611 to 0.82661, saving model to ./saved_models/best.keras\n",
      "\u001b[1m98/98\u001b[0m \u001b[32m━━━━━━━━━━━━━━━━━━━━\u001b[0m\u001b[37m\u001b[0m \u001b[1m1s\u001b[0m 14ms/step - loss: 0.8660 - modulo_distance_accuracy: 0.8268 - modulo_rounded_accuracy: 0.4664\n",
      "Epoch 59/100\n",
      "\u001b[1m98/98\u001b[0m \u001b[32m━━━━━━━━━━━━━━━━━━━━\u001b[0m\u001b[37m\u001b[0m \u001b[1m0s\u001b[0m 12ms/step - loss: 0.8670 - modulo_distance_accuracy: 0.8266 - modulo_rounded_accuracy: 0.4677\n",
      "Epoch 59: modulo_distance_accuracy improved from 0.82661 to 0.82718, saving model to ./saved_models/best.keras\n",
      "\u001b[1m98/98\u001b[0m \u001b[32m━━━━━━━━━━━━━━━━━━━━\u001b[0m\u001b[37m\u001b[0m \u001b[1m1s\u001b[0m 13ms/step - loss: 0.8670 - modulo_distance_accuracy: 0.8266 - modulo_rounded_accuracy: 0.4677\n",
      "Epoch 60/100\n",
      "\u001b[1m98/98\u001b[0m \u001b[32m━━━━━━━━━━━━━━━━━━━━\u001b[0m\u001b[37m\u001b[0m \u001b[1m0s\u001b[0m 12ms/step - loss: 0.8638 - modulo_distance_accuracy: 0.8272 - modulo_rounded_accuracy: 0.4692\n",
      "Epoch 60: modulo_distance_accuracy improved from 0.82718 to 0.82785, saving model to ./saved_models/best.keras\n",
      "\u001b[1m98/98\u001b[0m \u001b[32m━━━━━━━━━━━━━━━━━━━━\u001b[0m\u001b[37m\u001b[0m \u001b[1m1s\u001b[0m 13ms/step - loss: 0.8638 - modulo_distance_accuracy: 0.8272 - modulo_rounded_accuracy: 0.4692\n",
      "Epoch 61/100\n",
      "\u001b[1m96/98\u001b[0m \u001b[32m━━━━━━━━━━━━━━━━━━━\u001b[0m\u001b[37m━\u001b[0m \u001b[1m0s\u001b[0m 12ms/step - loss: 0.8602 - modulo_distance_accuracy: 0.8280 - modulo_rounded_accuracy: 0.4721\n",
      "Epoch 61: modulo_distance_accuracy improved from 0.82785 to 0.82858, saving model to ./saved_models/best.keras\n",
      "\u001b[1m98/98\u001b[0m \u001b[32m━━━━━━━━━━━━━━━━━━━━\u001b[0m\u001b[37m\u001b[0m \u001b[1m1s\u001b[0m 13ms/step - loss: 0.8601 - modulo_distance_accuracy: 0.8280 - modulo_rounded_accuracy: 0.4721\n",
      "Epoch 62/100\n",
      "\u001b[1m97/98\u001b[0m \u001b[32m━━━━━━━━━━━━━━━━━━━\u001b[0m\u001b[37m━\u001b[0m \u001b[1m0s\u001b[0m 12ms/step - loss: 0.8554 - modulo_distance_accuracy: 0.8289 - modulo_rounded_accuracy: 0.4737\n",
      "Epoch 62: modulo_distance_accuracy improved from 0.82858 to 0.82879, saving model to ./saved_models/best.keras\n",
      "\u001b[1m98/98\u001b[0m \u001b[32m━━━━━━━━━━━━━━━━━━━━\u001b[0m\u001b[37m\u001b[0m \u001b[1m1s\u001b[0m 13ms/step - loss: 0.8554 - modulo_distance_accuracy: 0.8289 - modulo_rounded_accuracy: 0.4737\n",
      "Epoch 63/100\n",
      "\u001b[1m97/98\u001b[0m \u001b[32m━━━━━━━━━━━━━━━━━━━\u001b[0m\u001b[37m━\u001b[0m \u001b[1m0s\u001b[0m 12ms/step - loss: 0.8529 - modulo_distance_accuracy: 0.8294 - modulo_rounded_accuracy: 0.4765\n",
      "Epoch 63: modulo_distance_accuracy improved from 0.82879 to 0.82965, saving model to ./saved_models/best.keras\n",
      "\u001b[1m98/98\u001b[0m \u001b[32m━━━━━━━━━━━━━━━━━━━━\u001b[0m\u001b[37m\u001b[0m \u001b[1m1s\u001b[0m 13ms/step - loss: 0.8529 - modulo_distance_accuracy: 0.8294 - modulo_rounded_accuracy: 0.4765\n",
      "Epoch 64/100\n",
      "\u001b[1m96/98\u001b[0m \u001b[32m━━━━━━━━━━━━━━━━━━━\u001b[0m\u001b[37m━\u001b[0m \u001b[1m0s\u001b[0m 12ms/step - loss: 0.8496 - modulo_distance_accuracy: 0.8301 - modulo_rounded_accuracy: 0.4771\n",
      "Epoch 64: modulo_distance_accuracy improved from 0.82965 to 0.83017, saving model to ./saved_models/best.keras\n",
      "\u001b[1m98/98\u001b[0m \u001b[32m━━━━━━━━━━━━━━━━━━━━\u001b[0m\u001b[37m\u001b[0m \u001b[1m1s\u001b[0m 13ms/step - loss: 0.8496 - modulo_distance_accuracy: 0.8301 - modulo_rounded_accuracy: 0.4772\n",
      "Epoch 65/100\n",
      "\u001b[1m94/98\u001b[0m \u001b[32m━━━━━━━━━━━━━━━━━━━\u001b[0m\u001b[37m━\u001b[0m \u001b[1m0s\u001b[0m 12ms/step - loss: 0.8469 - modulo_distance_accuracy: 0.8306 - modulo_rounded_accuracy: 0.4795\n",
      "Epoch 65: modulo_distance_accuracy improved from 0.83017 to 0.83091, saving model to ./saved_models/best.keras\n",
      "\u001b[1m98/98\u001b[0m \u001b[32m━━━━━━━━━━━━━━━━━━━━\u001b[0m\u001b[37m\u001b[0m \u001b[1m1s\u001b[0m 13ms/step - loss: 0.8468 - modulo_distance_accuracy: 0.8306 - modulo_rounded_accuracy: 0.4795\n",
      "Epoch 66/100\n",
      "\u001b[1m96/98\u001b[0m \u001b[32m━━━━━━━━━━━━━━━━━━━\u001b[0m\u001b[37m━\u001b[0m \u001b[1m0s\u001b[0m 12ms/step - loss: 0.8443 - modulo_distance_accuracy: 0.8311 - modulo_rounded_accuracy: 0.4806\n",
      "Epoch 66: modulo_distance_accuracy improved from 0.83091 to 0.83131, saving model to ./saved_models/best.keras\n",
      "\u001b[1m98/98\u001b[0m \u001b[32m━━━━━━━━━━━━━━━━━━━━\u001b[0m\u001b[37m\u001b[0m \u001b[1m1s\u001b[0m 14ms/step - loss: 0.8443 - modulo_distance_accuracy: 0.8311 - modulo_rounded_accuracy: 0.4806\n",
      "Epoch 67/100\n",
      "\u001b[1m94/98\u001b[0m \u001b[32m━━━━━━━━━━━━━━━━━━━\u001b[0m\u001b[37m━\u001b[0m \u001b[1m0s\u001b[0m 12ms/step - loss: 0.8432 - modulo_distance_accuracy: 0.8314 - modulo_rounded_accuracy: 0.4815\n",
      "Epoch 67: modulo_distance_accuracy improved from 0.83131 to 0.83156, saving model to ./saved_models/best.keras\n",
      "\u001b[1m98/98\u001b[0m \u001b[32m━━━━━━━━━━━━━━━━━━━━\u001b[0m\u001b[37m\u001b[0m \u001b[1m1s\u001b[0m 13ms/step - loss: 0.8431 - modulo_distance_accuracy: 0.8314 - modulo_rounded_accuracy: 0.4815\n",
      "Epoch 68/100\n",
      "\u001b[1m95/98\u001b[0m \u001b[32m━━━━━━━━━━━━━━━━━━━\u001b[0m\u001b[37m━\u001b[0m \u001b[1m0s\u001b[0m 12ms/step - loss: 0.8373 - modulo_distance_accuracy: 0.8325 - modulo_rounded_accuracy: 0.4847\n",
      "Epoch 68: modulo_distance_accuracy improved from 0.83156 to 0.83247, saving model to ./saved_models/best.keras\n",
      "\u001b[1m98/98\u001b[0m \u001b[32m━━━━━━━━━━━━━━━━━━━━\u001b[0m\u001b[37m\u001b[0m \u001b[1m1s\u001b[0m 13ms/step - loss: 0.8373 - modulo_distance_accuracy: 0.8325 - modulo_rounded_accuracy: 0.4847\n",
      "Epoch 69/100\n",
      "\u001b[1m95/98\u001b[0m \u001b[32m━━━━━━━━━━━━━━━━━━━\u001b[0m\u001b[37m━\u001b[0m \u001b[1m0s\u001b[0m 12ms/step - loss: 0.8351 - modulo_distance_accuracy: 0.8330 - modulo_rounded_accuracy: 0.4864\n",
      "Epoch 69: modulo_distance_accuracy improved from 0.83247 to 0.83276, saving model to ./saved_models/best.keras\n",
      "\u001b[1m98/98\u001b[0m \u001b[32m━━━━━━━━━━━━━━━━━━━━\u001b[0m\u001b[37m\u001b[0m \u001b[1m1s\u001b[0m 13ms/step - loss: 0.8351 - modulo_distance_accuracy: 0.8330 - modulo_rounded_accuracy: 0.4864\n",
      "Epoch 70/100\n",
      "\u001b[1m95/98\u001b[0m \u001b[32m━━━━━━━━━━━━━━━━━━━\u001b[0m\u001b[37m━\u001b[0m \u001b[1m0s\u001b[0m 12ms/step - loss: 0.8363 - modulo_distance_accuracy: 0.8327 - modulo_rounded_accuracy: 0.4855\n",
      "Epoch 70: modulo_distance_accuracy improved from 0.83276 to 0.83279, saving model to ./saved_models/best.keras\n",
      "\u001b[1m98/98\u001b[0m \u001b[32m━━━━━━━━━━━━━━━━━━━━\u001b[0m\u001b[37m\u001b[0m \u001b[1m1s\u001b[0m 13ms/step - loss: 0.8363 - modulo_distance_accuracy: 0.8327 - modulo_rounded_accuracy: 0.4856\n",
      "Epoch 71/100\n",
      "\u001b[1m98/98\u001b[0m \u001b[32m━━━━━━━━━━━━━━━━━━━━\u001b[0m\u001b[37m\u001b[0m \u001b[1m0s\u001b[0m 12ms/step - loss: 0.8288 - modulo_distance_accuracy: 0.8342 - modulo_rounded_accuracy: 0.4897\n",
      "Epoch 71: modulo_distance_accuracy improved from 0.83279 to 0.83361, saving model to ./saved_models/best.keras\n",
      "\u001b[1m98/98\u001b[0m \u001b[32m━━━━━━━━━━━━━━━━━━━━\u001b[0m\u001b[37m\u001b[0m \u001b[1m1s\u001b[0m 13ms/step - loss: 0.8288 - modulo_distance_accuracy: 0.8342 - modulo_rounded_accuracy: 0.4897\n",
      "Epoch 72/100\n",
      "\u001b[1m95/98\u001b[0m \u001b[32m━━━━━━━━━━━━━━━━━━━\u001b[0m\u001b[37m━\u001b[0m \u001b[1m0s\u001b[0m 12ms/step - loss: 0.8344 - modulo_distance_accuracy: 0.8331 - modulo_rounded_accuracy: 0.4876\n",
      "Epoch 72: modulo_distance_accuracy improved from 0.83361 to 0.83386, saving model to ./saved_models/best.keras\n",
      "\u001b[1m98/98\u001b[0m \u001b[32m━━━━━━━━━━━━━━━━━━━━\u001b[0m\u001b[37m\u001b[0m \u001b[1m1s\u001b[0m 13ms/step - loss: 0.8343 - modulo_distance_accuracy: 0.8331 - modulo_rounded_accuracy: 0.4877\n",
      "Epoch 73/100\n",
      "\u001b[1m94/98\u001b[0m \u001b[32m━━━━━━━━━━━━━━━━━━━\u001b[0m\u001b[37m━\u001b[0m \u001b[1m0s\u001b[0m 12ms/step - loss: 0.8267 - modulo_distance_accuracy: 0.8347 - modulo_rounded_accuracy: 0.4926\n",
      "Epoch 73: modulo_distance_accuracy improved from 0.83386 to 0.83460, saving model to ./saved_models/best.keras\n",
      "\u001b[1m98/98\u001b[0m \u001b[32m━━━━━━━━━━━━━━━━━━━━\u001b[0m\u001b[37m\u001b[0m \u001b[1m1s\u001b[0m 14ms/step - loss: 0.8267 - modulo_distance_accuracy: 0.8347 - modulo_rounded_accuracy: 0.4925\n",
      "Epoch 74/100\n",
      "\u001b[1m98/98\u001b[0m \u001b[32m━━━━━━━━━━━━━━━━━━━━\u001b[0m\u001b[37m\u001b[0m \u001b[1m0s\u001b[0m 12ms/step - loss: 0.8273 - modulo_distance_accuracy: 0.8345 - modulo_rounded_accuracy: 0.4912\n",
      "Epoch 74: modulo_distance_accuracy improved from 0.83460 to 0.83480, saving model to ./saved_models/best.keras\n",
      "\u001b[1m98/98\u001b[0m \u001b[32m━━━━━━━━━━━━━━━━━━━━\u001b[0m\u001b[37m\u001b[0m \u001b[1m1s\u001b[0m 13ms/step - loss: 0.8273 - modulo_distance_accuracy: 0.8345 - modulo_rounded_accuracy: 0.4913\n",
      "Epoch 75/100\n",
      "\u001b[1m98/98\u001b[0m \u001b[32m━━━━━━━━━━━━━━━━━━━━\u001b[0m\u001b[37m\u001b[0m \u001b[1m0s\u001b[0m 12ms/step - loss: 0.8252 - modulo_distance_accuracy: 0.8350 - modulo_rounded_accuracy: 0.4931\n",
      "Epoch 75: modulo_distance_accuracy improved from 0.83480 to 0.83522, saving model to ./saved_models/best.keras\n",
      "\u001b[1m98/98\u001b[0m \u001b[32m━━━━━━━━━━━━━━━━━━━━\u001b[0m\u001b[37m\u001b[0m \u001b[1m1s\u001b[0m 13ms/step - loss: 0.8252 - modulo_distance_accuracy: 0.8350 - modulo_rounded_accuracy: 0.4931\n",
      "Epoch 76/100\n",
      "\u001b[1m96/98\u001b[0m \u001b[32m━━━━━━━━━━━━━━━━━━━\u001b[0m\u001b[37m━\u001b[0m \u001b[1m0s\u001b[0m 12ms/step - loss: 0.8213 - modulo_distance_accuracy: 0.8357 - modulo_rounded_accuracy: 0.4967\n",
      "Epoch 76: modulo_distance_accuracy improved from 0.83522 to 0.83541, saving model to ./saved_models/best.keras\n",
      "\u001b[1m98/98\u001b[0m \u001b[32m━━━━━━━━━━━━━━━━━━━━\u001b[0m\u001b[37m\u001b[0m \u001b[1m1s\u001b[0m 13ms/step - loss: 0.8213 - modulo_distance_accuracy: 0.8357 - modulo_rounded_accuracy: 0.4966\n",
      "Epoch 77/100\n",
      "\u001b[1m96/98\u001b[0m \u001b[32m━━━━━━━━━━━━━━━━━━━\u001b[0m\u001b[37m━\u001b[0m \u001b[1m0s\u001b[0m 12ms/step - loss: 0.8261 - modulo_distance_accuracy: 0.8348 - modulo_rounded_accuracy: 0.4929\n",
      "Epoch 77: modulo_distance_accuracy did not improve from 0.83541\n",
      "\u001b[1m98/98\u001b[0m \u001b[32m━━━━━━━━━━━━━━━━━━━━\u001b[0m\u001b[37m\u001b[0m \u001b[1m1s\u001b[0m 12ms/step - loss: 0.8261 - modulo_distance_accuracy: 0.8348 - modulo_rounded_accuracy: 0.4929\n",
      "Epoch 78/100\n",
      "\u001b[1m97/98\u001b[0m \u001b[32m━━━━━━━━━━━━━━━━━━━\u001b[0m\u001b[37m━\u001b[0m \u001b[1m0s\u001b[0m 13ms/step - loss: 0.8230 - modulo_distance_accuracy: 0.8354 - modulo_rounded_accuracy: 0.4951\n",
      "Epoch 78: modulo_distance_accuracy improved from 0.83541 to 0.83558, saving model to ./saved_models/best.keras\n",
      "\u001b[1m98/98\u001b[0m \u001b[32m━━━━━━━━━━━━━━━━━━━━\u001b[0m\u001b[37m\u001b[0m \u001b[1m1s\u001b[0m 14ms/step - loss: 0.8230 - modulo_distance_accuracy: 0.8354 - modulo_rounded_accuracy: 0.4951\n",
      "Epoch 79/100\n",
      "\u001b[1m94/98\u001b[0m \u001b[32m━━━━━━━━━━━━━━━━━━━\u001b[0m\u001b[37m━\u001b[0m \u001b[1m0s\u001b[0m 20ms/step - loss: 0.8187 - modulo_distance_accuracy: 0.8363 - modulo_rounded_accuracy: 0.4984\n",
      "Epoch 79: modulo_distance_accuracy improved from 0.83558 to 0.83606, saving model to ./saved_models/best.keras\n",
      "\u001b[1m98/98\u001b[0m \u001b[32m━━━━━━━━━━━━━━━━━━━━\u001b[0m\u001b[37m\u001b[0m \u001b[1m2s\u001b[0m 21ms/step - loss: 0.8188 - modulo_distance_accuracy: 0.8362 - modulo_rounded_accuracy: 0.4984\n",
      "Epoch 80/100\n",
      "\u001b[1m94/98\u001b[0m \u001b[32m━━━━━━━━━━━━━━━━━━━\u001b[0m\u001b[37m━\u001b[0m \u001b[1m0s\u001b[0m 13ms/step - loss: 0.8172 - modulo_distance_accuracy: 0.8366 - modulo_rounded_accuracy: 0.4978\n",
      "Epoch 80: modulo_distance_accuracy improved from 0.83606 to 0.83664, saving model to ./saved_models/best.keras\n",
      "\u001b[1m98/98\u001b[0m \u001b[32m━━━━━━━━━━━━━━━━━━━━\u001b[0m\u001b[37m\u001b[0m \u001b[1m1s\u001b[0m 13ms/step - loss: 0.8172 - modulo_distance_accuracy: 0.8366 - modulo_rounded_accuracy: 0.4979\n",
      "Epoch 81/100\n",
      "\u001b[1m94/98\u001b[0m \u001b[32m━━━━━━━━━━━━━━━━━━━\u001b[0m\u001b[37m━\u001b[0m \u001b[1m0s\u001b[0m 13ms/step - loss: 0.8147 - modulo_distance_accuracy: 0.8371 - modulo_rounded_accuracy: 0.5006\n",
      "Epoch 81: modulo_distance_accuracy improved from 0.83664 to 0.83721, saving model to ./saved_models/best.keras\n",
      "\u001b[1m98/98\u001b[0m \u001b[32m━━━━━━━━━━━━━━━━━━━━\u001b[0m\u001b[37m\u001b[0m \u001b[1m1s\u001b[0m 13ms/step - loss: 0.8146 - modulo_distance_accuracy: 0.8371 - modulo_rounded_accuracy: 0.5006\n",
      "Epoch 82/100\n",
      "\u001b[1m97/98\u001b[0m \u001b[32m━━━━━━━━━━━━━━━━━━━\u001b[0m\u001b[37m━\u001b[0m \u001b[1m0s\u001b[0m 12ms/step - loss: 0.8146 - modulo_distance_accuracy: 0.8371 - modulo_rounded_accuracy: 0.5013\n",
      "Epoch 82: modulo_distance_accuracy improved from 0.83721 to 0.83741, saving model to ./saved_models/best.keras\n",
      "\u001b[1m98/98\u001b[0m \u001b[32m━━━━━━━━━━━━━━━━━━━━\u001b[0m\u001b[37m\u001b[0m \u001b[1m1s\u001b[0m 13ms/step - loss: 0.8146 - modulo_distance_accuracy: 0.8371 - modulo_rounded_accuracy: 0.5013\n",
      "Epoch 83/100\n",
      "\u001b[1m97/98\u001b[0m \u001b[32m━━━━━━━━━━━━━━━━━━━\u001b[0m\u001b[37m━\u001b[0m \u001b[1m0s\u001b[0m 12ms/step - loss: 0.8113 - modulo_distance_accuracy: 0.8377 - modulo_rounded_accuracy: 0.5022\n",
      "Epoch 83: modulo_distance_accuracy did not improve from 0.83741\n",
      "\u001b[1m98/98\u001b[0m \u001b[32m━━━━━━━━━━━━━━━━━━━━\u001b[0m\u001b[37m\u001b[0m \u001b[1m1s\u001b[0m 13ms/step - loss: 0.8114 - modulo_distance_accuracy: 0.8377 - modulo_rounded_accuracy: 0.5021\n",
      "Epoch 84/100\n",
      "\u001b[1m97/98\u001b[0m \u001b[32m━━━━━━━━━━━━━━━━━━━\u001b[0m\u001b[37m━\u001b[0m \u001b[1m0s\u001b[0m 12ms/step - loss: 0.8139 - modulo_distance_accuracy: 0.8372 - modulo_rounded_accuracy: 0.5014\n",
      "Epoch 84: modulo_distance_accuracy improved from 0.83741 to 0.83767, saving model to ./saved_models/best.keras\n",
      "\u001b[1m98/98\u001b[0m \u001b[32m━━━━━━━━━━━━━━━━━━━━\u001b[0m\u001b[37m\u001b[0m \u001b[1m1s\u001b[0m 14ms/step - loss: 0.8139 - modulo_distance_accuracy: 0.8372 - modulo_rounded_accuracy: 0.5014\n",
      "Epoch 85/100\n",
      "\u001b[1m95/98\u001b[0m \u001b[32m━━━━━━━━━━━━━━━━━━━\u001b[0m\u001b[37m━\u001b[0m \u001b[1m0s\u001b[0m 12ms/step - loss: 0.8099 - modulo_distance_accuracy: 0.8380 - modulo_rounded_accuracy: 0.5025\n",
      "Epoch 85: modulo_distance_accuracy improved from 0.83767 to 0.83812, saving model to ./saved_models/best.keras\n",
      "\u001b[1m98/98\u001b[0m \u001b[32m━━━━━━━━━━━━━━━━━━━━\u001b[0m\u001b[37m\u001b[0m \u001b[1m1s\u001b[0m 13ms/step - loss: 0.8099 - modulo_distance_accuracy: 0.8380 - modulo_rounded_accuracy: 0.5026\n",
      "Epoch 86/100\n",
      "\u001b[1m96/98\u001b[0m \u001b[32m━━━━━━━━━━━━━━━━━━━\u001b[0m\u001b[37m━\u001b[0m \u001b[1m0s\u001b[0m 12ms/step - loss: 0.8153 - modulo_distance_accuracy: 0.8369 - modulo_rounded_accuracy: 0.5018\n",
      "Epoch 86: modulo_distance_accuracy improved from 0.83812 to 0.83814, saving model to ./saved_models/best.keras\n",
      "\u001b[1m98/98\u001b[0m \u001b[32m━━━━━━━━━━━━━━━━━━━━\u001b[0m\u001b[37m\u001b[0m \u001b[1m1s\u001b[0m 13ms/step - loss: 0.8151 - modulo_distance_accuracy: 0.8370 - modulo_rounded_accuracy: 0.5019\n",
      "Epoch 87/100\n",
      "\u001b[1m97/98\u001b[0m \u001b[32m━━━━━━━━━━━━━━━━━━━\u001b[0m\u001b[37m━\u001b[0m \u001b[1m0s\u001b[0m 12ms/step - loss: 0.8040 - modulo_distance_accuracy: 0.8392 - modulo_rounded_accuracy: 0.5068\n",
      "Epoch 87: modulo_distance_accuracy improved from 0.83814 to 0.83863, saving model to ./saved_models/best.keras\n",
      "\u001b[1m98/98\u001b[0m \u001b[32m━━━━━━━━━━━━━━━━━━━━\u001b[0m\u001b[37m\u001b[0m \u001b[1m1s\u001b[0m 13ms/step - loss: 0.8041 - modulo_distance_accuracy: 0.8392 - modulo_rounded_accuracy: 0.5067\n",
      "Epoch 88/100\n",
      "\u001b[1m96/98\u001b[0m \u001b[32m━━━━━━━━━━━━━━━━━━━\u001b[0m\u001b[37m━\u001b[0m \u001b[1m0s\u001b[0m 12ms/step - loss: 0.8091 - modulo_distance_accuracy: 0.8382 - modulo_rounded_accuracy: 0.5025\n",
      "Epoch 88: modulo_distance_accuracy did not improve from 0.83863\n",
      "\u001b[1m98/98\u001b[0m \u001b[32m━━━━━━━━━━━━━━━━━━━━\u001b[0m\u001b[37m\u001b[0m \u001b[1m1s\u001b[0m 12ms/step - loss: 0.8090 - modulo_distance_accuracy: 0.8382 - modulo_rounded_accuracy: 0.5026\n",
      "Epoch 89/100\n",
      "\u001b[1m94/98\u001b[0m \u001b[32m━━━━━━━━━━━━━━━━━━━\u001b[0m\u001b[37m━\u001b[0m \u001b[1m0s\u001b[0m 13ms/step - loss: 0.8038 - modulo_distance_accuracy: 0.8392 - modulo_rounded_accuracy: 0.5072\n",
      "Epoch 89: modulo_distance_accuracy improved from 0.83863 to 0.83924, saving model to ./saved_models/best.keras\n",
      "\u001b[1m98/98\u001b[0m \u001b[32m━━━━━━━━━━━━━━━━━━━━\u001b[0m\u001b[37m\u001b[0m \u001b[1m1s\u001b[0m 14ms/step - loss: 0.8038 - modulo_distance_accuracy: 0.8392 - modulo_rounded_accuracy: 0.5072\n",
      "Epoch 90/100\n",
      "\u001b[1m97/98\u001b[0m \u001b[32m━━━━━━━━━━━━━━━━━━━\u001b[0m\u001b[37m━\u001b[0m \u001b[1m0s\u001b[0m 12ms/step - loss: 0.8057 - modulo_distance_accuracy: 0.8389 - modulo_rounded_accuracy: 0.5078\n",
      "Epoch 90: modulo_distance_accuracy improved from 0.83924 to 0.83957, saving model to ./saved_models/best.keras\n",
      "\u001b[1m98/98\u001b[0m \u001b[32m━━━━━━━━━━━━━━━━━━━━\u001b[0m\u001b[37m\u001b[0m \u001b[1m1s\u001b[0m 13ms/step - loss: 0.8056 - modulo_distance_accuracy: 0.8389 - modulo_rounded_accuracy: 0.5078\n",
      "Epoch 91/100\n",
      "\u001b[1m97/98\u001b[0m \u001b[32m━━━━━━━━━━━━━━━━━━━\u001b[0m\u001b[37m━\u001b[0m \u001b[1m0s\u001b[0m 12ms/step - loss: 0.8010 - modulo_distance_accuracy: 0.8398 - modulo_rounded_accuracy: 0.5095\n",
      "Epoch 91: modulo_distance_accuracy did not improve from 0.83957\n",
      "\u001b[1m98/98\u001b[0m \u001b[32m━━━━━━━━━━━━━━━━━━━━\u001b[0m\u001b[37m\u001b[0m \u001b[1m1s\u001b[0m 12ms/step - loss: 0.8011 - modulo_distance_accuracy: 0.8398 - modulo_rounded_accuracy: 0.5095\n",
      "Epoch 92/100\n",
      "\u001b[1m96/98\u001b[0m \u001b[32m━━━━━━━━━━━━━━━━━━━\u001b[0m\u001b[37m━\u001b[0m \u001b[1m0s\u001b[0m 12ms/step - loss: 0.8033 - modulo_distance_accuracy: 0.8393 - modulo_rounded_accuracy: 0.5085\n",
      "Epoch 92: modulo_distance_accuracy did not improve from 0.83957\n",
      "\u001b[1m98/98\u001b[0m \u001b[32m━━━━━━━━━━━━━━━━━━━━\u001b[0m\u001b[37m\u001b[0m \u001b[1m1s\u001b[0m 12ms/step - loss: 0.8033 - modulo_distance_accuracy: 0.8393 - modulo_rounded_accuracy: 0.5085\n",
      "Epoch 93/100\n",
      "\u001b[1m94/98\u001b[0m \u001b[32m━━━━━━━━━━━━━━━━━━━\u001b[0m\u001b[37m━\u001b[0m \u001b[1m0s\u001b[0m 12ms/step - loss: 0.7981 - modulo_distance_accuracy: 0.8404 - modulo_rounded_accuracy: 0.5117\n",
      "Epoch 93: modulo_distance_accuracy improved from 0.83957 to 0.84034, saving model to ./saved_models/best.keras\n",
      "\u001b[1m98/98\u001b[0m \u001b[32m━━━━━━━━━━━━━━━━━━━━\u001b[0m\u001b[37m\u001b[0m \u001b[1m1s\u001b[0m 13ms/step - loss: 0.7981 - modulo_distance_accuracy: 0.8404 - modulo_rounded_accuracy: 0.5117\n",
      "Epoch 94/100\n",
      "\u001b[1m97/98\u001b[0m \u001b[32m━━━━━━━━━━━━━━━━━━━\u001b[0m\u001b[37m━\u001b[0m \u001b[1m0s\u001b[0m 12ms/step - loss: 0.7972 - modulo_distance_accuracy: 0.8406 - modulo_rounded_accuracy: 0.5123\n",
      "Epoch 94: modulo_distance_accuracy improved from 0.84034 to 0.84076, saving model to ./saved_models/best.keras\n",
      "\u001b[1m98/98\u001b[0m \u001b[32m━━━━━━━━━━━━━━━━━━━━\u001b[0m\u001b[37m\u001b[0m \u001b[1m1s\u001b[0m 13ms/step - loss: 0.7971 - modulo_distance_accuracy: 0.8406 - modulo_rounded_accuracy: 0.5123\n",
      "Epoch 95/100\n",
      "\u001b[1m98/98\u001b[0m \u001b[32m━━━━━━━━━━━━━━━━━━━━\u001b[0m\u001b[37m\u001b[0m \u001b[1m0s\u001b[0m 12ms/step - loss: 0.7943 - modulo_distance_accuracy: 0.8411 - modulo_rounded_accuracy: 0.5131\n",
      "Epoch 95: modulo_distance_accuracy did not improve from 0.84076\n",
      "\u001b[1m98/98\u001b[0m \u001b[32m━━━━━━━━━━━━━━━━━━━━\u001b[0m\u001b[37m\u001b[0m \u001b[1m1s\u001b[0m 12ms/step - loss: 0.7943 - modulo_distance_accuracy: 0.8411 - modulo_rounded_accuracy: 0.5131\n",
      "Epoch 96/100\n",
      "\u001b[1m95/98\u001b[0m \u001b[32m━━━━━━━━━━━━━━━━━━━\u001b[0m\u001b[37m━\u001b[0m \u001b[1m0s\u001b[0m 12ms/step - loss: 0.7920 - modulo_distance_accuracy: 0.8416 - modulo_rounded_accuracy: 0.5140\n",
      "Epoch 96: modulo_distance_accuracy improved from 0.84076 to 0.84101, saving model to ./saved_models/best.keras\n",
      "\u001b[1m98/98\u001b[0m \u001b[32m━━━━━━━━━━━━━━━━━━━━\u001b[0m\u001b[37m\u001b[0m \u001b[1m1s\u001b[0m 13ms/step - loss: 0.7921 - modulo_distance_accuracy: 0.8416 - modulo_rounded_accuracy: 0.5140\n",
      "Epoch 97/100\n",
      "\u001b[1m97/98\u001b[0m \u001b[32m━━━━━━━━━━━━━━━━━━━\u001b[0m\u001b[37m━\u001b[0m \u001b[1m0s\u001b[0m 12ms/step - loss: 0.7914 - modulo_distance_accuracy: 0.8417 - modulo_rounded_accuracy: 0.5157\n",
      "Epoch 97: modulo_distance_accuracy improved from 0.84101 to 0.84139, saving model to ./saved_models/best.keras\n",
      "\u001b[1m98/98\u001b[0m \u001b[32m━━━━━━━━━━━━━━━━━━━━\u001b[0m\u001b[37m\u001b[0m \u001b[1m1s\u001b[0m 14ms/step - loss: 0.7914 - modulo_distance_accuracy: 0.8417 - modulo_rounded_accuracy: 0.5156\n",
      "Epoch 98/100\n",
      "\u001b[1m97/98\u001b[0m \u001b[32m━━━━━━━━━━━━━━━━━━━\u001b[0m\u001b[37m━\u001b[0m \u001b[1m0s\u001b[0m 12ms/step - loss: 0.7960 - modulo_distance_accuracy: 0.8408 - modulo_rounded_accuracy: 0.5128\n",
      "Epoch 98: modulo_distance_accuracy did not improve from 0.84139\n",
      "\u001b[1m98/98\u001b[0m \u001b[32m━━━━━━━━━━━━━━━━━━━━\u001b[0m\u001b[37m\u001b[0m \u001b[1m1s\u001b[0m 12ms/step - loss: 0.7960 - modulo_distance_accuracy: 0.8408 - modulo_rounded_accuracy: 0.5128\n",
      "Epoch 99/100\n",
      "\u001b[1m95/98\u001b[0m \u001b[32m━━━━━━━━━━━━━━━━━━━\u001b[0m\u001b[37m━\u001b[0m \u001b[1m0s\u001b[0m 13ms/step - loss: 0.7962 - modulo_distance_accuracy: 0.8408 - modulo_rounded_accuracy: 0.5133\n",
      "Epoch 99: modulo_distance_accuracy improved from 0.84139 to 0.84167, saving model to ./saved_models/best.keras\n",
      "\u001b[1m98/98\u001b[0m \u001b[32m━━━━━━━━━━━━━━━━━━━━\u001b[0m\u001b[37m\u001b[0m \u001b[1m1s\u001b[0m 14ms/step - loss: 0.7960 - modulo_distance_accuracy: 0.8408 - modulo_rounded_accuracy: 0.5134\n",
      "Epoch 100/100\n",
      "\u001b[1m94/98\u001b[0m \u001b[32m━━━━━━━━━━━━━━━━━━━\u001b[0m\u001b[37m━\u001b[0m \u001b[1m0s\u001b[0m 12ms/step - loss: 0.7935 - modulo_distance_accuracy: 0.8413 - modulo_rounded_accuracy: 0.5148\n",
      "Epoch 100: modulo_distance_accuracy did not improve from 0.84167\n",
      "\u001b[1m98/98\u001b[0m \u001b[32m━━━━━━━━━━━━━━━━━━━━\u001b[0m\u001b[37m\u001b[0m \u001b[1m1s\u001b[0m 12ms/step - loss: 0.7935 - modulo_distance_accuracy: 0.8413 - modulo_rounded_accuracy: 0.5148\n"
     ]
    },
    {
     "data": {
      "text/html": [
       "<pre style=\"white-space:pre;overflow-x:auto;line-height:normal;font-family:Menlo,'DejaVu Sans Mono',consolas,'Courier New',monospace\"><span style=\"font-weight: bold\">Model: \"sequential\"</span>\n",
       "</pre>\n"
      ],
      "text/plain": [
       "\u001b[1mModel: \"sequential\"\u001b[0m\n"
      ]
     },
     "metadata": {},
     "output_type": "display_data"
    },
    {
     "data": {
      "text/html": [
       "<pre style=\"white-space:pre;overflow-x:auto;line-height:normal;font-family:Menlo,'DejaVu Sans Mono',consolas,'Courier New',monospace\">┏━━━━━━━━━━━━━━━━━━━━━━━━━━━━━━━━━┳━━━━━━━━━━━━━━━━━━━━━━━━┳━━━━━━━━━━━━━━━┓\n",
       "┃<span style=\"font-weight: bold\"> Layer (type)                    </span>┃<span style=\"font-weight: bold\"> Output Shape           </span>┃<span style=\"font-weight: bold\">       Param # </span>┃\n",
       "┡━━━━━━━━━━━━━━━━━━━━━━━━━━━━━━━━━╇━━━━━━━━━━━━━━━━━━━━━━━━╇━━━━━━━━━━━━━━━┩\n",
       "│ A_LSTM_tanh_sigmoid (<span style=\"color: #0087ff; text-decoration-color: #0087ff\">LSTM</span>)      │ (<span style=\"color: #00d7ff; text-decoration-color: #00d7ff\">None</span>, <span style=\"color: #00af00; text-decoration-color: #00af00\">1</span>, <span style=\"color: #00af00; text-decoration-color: #00af00\">32</span>)          │        <span style=\"color: #00af00; text-decoration-color: #00af00\">20,608</span> │\n",
       "├─────────────────────────────────┼────────────────────────┼───────────────┤\n",
       "│ Modulo_Layer (<span style=\"color: #0087ff; text-decoration-color: #0087ff\">Dense</span>)            │ (<span style=\"color: #00d7ff; text-decoration-color: #00d7ff\">None</span>, <span style=\"color: #00af00; text-decoration-color: #00af00\">1</span>, <span style=\"color: #00af00; text-decoration-color: #00af00\">1</span>)           │            <span style=\"color: #00af00; text-decoration-color: #00af00\">33</span> │\n",
       "└─────────────────────────────────┴────────────────────────┴───────────────┘\n",
       "</pre>\n"
      ],
      "text/plain": [
       "┏━━━━━━━━━━━━━━━━━━━━━━━━━━━━━━━━━┳━━━━━━━━━━━━━━━━━━━━━━━━┳━━━━━━━━━━━━━━━┓\n",
       "┃\u001b[1m \u001b[0m\u001b[1mLayer (type)                   \u001b[0m\u001b[1m \u001b[0m┃\u001b[1m \u001b[0m\u001b[1mOutput Shape          \u001b[0m\u001b[1m \u001b[0m┃\u001b[1m \u001b[0m\u001b[1m      Param #\u001b[0m\u001b[1m \u001b[0m┃\n",
       "┡━━━━━━━━━━━━━━━━━━━━━━━━━━━━━━━━━╇━━━━━━━━━━━━━━━━━━━━━━━━╇━━━━━━━━━━━━━━━┩\n",
       "│ A_LSTM_tanh_sigmoid (\u001b[38;5;33mLSTM\u001b[0m)      │ (\u001b[38;5;45mNone\u001b[0m, \u001b[38;5;34m1\u001b[0m, \u001b[38;5;34m32\u001b[0m)          │        \u001b[38;5;34m20,608\u001b[0m │\n",
       "├─────────────────────────────────┼────────────────────────┼───────────────┤\n",
       "│ Modulo_Layer (\u001b[38;5;33mDense\u001b[0m)            │ (\u001b[38;5;45mNone\u001b[0m, \u001b[38;5;34m1\u001b[0m, \u001b[38;5;34m1\u001b[0m)           │            \u001b[38;5;34m33\u001b[0m │\n",
       "└─────────────────────────────────┴────────────────────────┴───────────────┘\n"
      ]
     },
     "metadata": {},
     "output_type": "display_data"
    },
    {
     "data": {
      "text/html": [
       "<pre style=\"white-space:pre;overflow-x:auto;line-height:normal;font-family:Menlo,'DejaVu Sans Mono',consolas,'Courier New',monospace\"><span style=\"font-weight: bold\"> Total params: </span><span style=\"color: #00af00; text-decoration-color: #00af00\">61,925</span> (241.90 KB)\n",
       "</pre>\n"
      ],
      "text/plain": [
       "\u001b[1m Total params: \u001b[0m\u001b[38;5;34m61,925\u001b[0m (241.90 KB)\n"
      ]
     },
     "metadata": {},
     "output_type": "display_data"
    },
    {
     "data": {
      "text/html": [
       "<pre style=\"white-space:pre;overflow-x:auto;line-height:normal;font-family:Menlo,'DejaVu Sans Mono',consolas,'Courier New',monospace\"><span style=\"font-weight: bold\"> Trainable params: </span><span style=\"color: #00af00; text-decoration-color: #00af00\">20,641</span> (80.63 KB)\n",
       "</pre>\n"
      ],
      "text/plain": [
       "\u001b[1m Trainable params: \u001b[0m\u001b[38;5;34m20,641\u001b[0m (80.63 KB)\n"
      ]
     },
     "metadata": {},
     "output_type": "display_data"
    },
    {
     "data": {
      "text/html": [
       "<pre style=\"white-space:pre;overflow-x:auto;line-height:normal;font-family:Menlo,'DejaVu Sans Mono',consolas,'Courier New',monospace\"><span style=\"font-weight: bold\"> Non-trainable params: </span><span style=\"color: #00af00; text-decoration-color: #00af00\">0</span> (0.00 B)\n",
       "</pre>\n"
      ],
      "text/plain": [
       "\u001b[1m Non-trainable params: \u001b[0m\u001b[38;5;34m0\u001b[0m (0.00 B)\n"
      ]
     },
     "metadata": {},
     "output_type": "display_data"
    },
    {
     "data": {
      "text/html": [
       "<pre style=\"white-space:pre;overflow-x:auto;line-height:normal;font-family:Menlo,'DejaVu Sans Mono',consolas,'Courier New',monospace\"><span style=\"font-weight: bold\"> Optimizer params: </span><span style=\"color: #00af00; text-decoration-color: #00af00\">41,284</span> (161.27 KB)\n",
       "</pre>\n"
      ],
      "text/plain": [
       "\u001b[1m Optimizer params: \u001b[0m\u001b[38;5;34m41,284\u001b[0m (161.27 KB)\n"
      ]
     },
     "metadata": {},
     "output_type": "display_data"
    }
   ],
   "source": [
    "# Reset the \"best\" score.\n",
    "# If you're manually training iteratively, comment this out to preserve the best-ness:\n",
    "model_checkpoint_callback = initialize_save_best(BEST_PATH)\n",
    "\n",
    "# It can be helpful to load the best, train some more, and try to improve it:\n",
    "if LOAD_BEST_MODEL:\n",
    "    if os.path.exists(BEST_PATH):\n",
    "        print(f\"Loading model from {BEST_PATH}\")\n",
    "        nn = tf.keras.models.load_model(BEST_PATH,\n",
    "            custom_objects={\n",
    "                'modulo_distance_loss': modulo_distance_loss,\n",
    "                'modulo_distance_accuracy': modulo_distance_accuracy,\n",
    "                'modulo_rounded_accuracy': modulo_rounded_accuracy,\n",
    "                'modulo_output': modulo_output\n",
    "        })\n",
    "\n",
    "# Train the model\n",
    "if TRAIN_MODEL:\n",
    "    # Decide what metrics to use\n",
    "    if USE_CUSTOM_METRICS:\n",
    "        loss = modulo_distance_loss\n",
    "        metrics = [modulo_distance_accuracy, modulo_rounded_accuracy]\n",
    "    else:\n",
    "        loss = LOSS_METRIC\n",
    "        metrics = [MAIN_ACCURACY_METRIC]\n",
    "\n",
    "    print(nn.summary())\n",
    "    print(f\"Training model\")\n",
    "    \n",
    "    if SAVE_BEST_MODEL:\n",
    "        callbacks = [model_checkpoint_callback]\n",
    "    else:\n",
    "        callbacks = None\n",
    "    \n",
    "    # Compile the Sequential model together and customize metrics\n",
    "    nn.compile(loss=loss, optimizer=OPTIMIZER, metrics=metrics)\n",
    "    \n",
    "    # Fit the model to the training data\n",
    "    tmp_x = X_train_scaled.reshape((-1, CHUNK_SIZE, 1)) \n",
    "    tmp_y = y_train.reshape((-1, OUTPUT_SIZE, 1)) \n",
    "    print(X_train_scaled.shape, y_train.shape, tmp_x.shape, tmp_y.shape)\n",
    "    #fit_model = nn.fit(X_train_scaled, y_train, epochs=EPOCHS, callbacks=callbacks, batch_size=BATCH_SIZE)\n",
    "    fit_model = nn.fit(tmp_x, tmp_y, epochs=EPOCHS, callbacks=callbacks, batch_size=BATCH_SIZE)\n",
    "\n",
    "nn.summary()"
   ]
  },
  {
   "cell_type": "code",
   "execution_count": 10,
   "id": "347990dc-230b-460f-852d-c2e0e81cef26",
   "metadata": {},
   "outputs": [
    {
     "name": "stdout",
     "output_type": "stream",
     "text": [
      "Evaluating with model.predict() ...\n",
      "\u001b[1m98/98\u001b[0m \u001b[32m━━━━━━━━━━━━━━━━━━━━\u001b[0m\u001b[37m\u001b[0m \u001b[1m1s\u001b[0m 5ms/step\n",
      "Shapes (100000, 128, 1) (100000, 128, 1) (100000,)\n",
      "Loss: 0.847665, Accuracy (Distance): 0.830467, Accuracy (Rounded): 0.50466\n",
      "Inferred key distribution:\n",
      "                    0\n",
      "count  100000.000000\n",
      "mean        4.553149\n",
      "std         1.925316\n",
      "min         0.820821\n",
      "25%         2.887615\n",
      "50%         4.558221\n",
      "75%         6.205571\n",
      "max         8.670630\n",
      "Evaluating with model.evaluate() ...\n",
      "(100000, 128) (100000,) (100000, 128) (100000,) (100000, 128, 1) (100000, 1, 1)\n",
      "98/98 - 7s - 73ms/step - loss: 2.4457 - modulo_distance_accuracy: 0.5109 - modulo_rounded_accuracy: 0.1094\n",
      "With X_test_scaled, Loss: 2.44565749168396, Accuracy: [0.510863184928894, 0.10939842462539673]\n"
     ]
    }
   ],
   "source": [
    "# Evaluate the model using the test data\n",
    "\n",
    "tmp_x = X_test_scaled.reshape((-1, CHUNK_SIZE, 1))\n",
    "tmp_y = y_test.reshape((-1, OUTPUT_SIZE, 1)) \n",
    "\n",
    "if USE_CUSTOM_METRICS and INFER_KEY:    \n",
    "    print(\"Evaluating with model.predict() ...\")    \n",
    "    raw_pred = nn.predict(tmp_x, batch_size=BATCH_SIZE)\n",
    "    \n",
    "    print(\"Shapes\", tmp_x.shape, raw_pred.shape, y_test.shape)\n",
    "    preds = np.array([np.mean(raw_pred[x,:,:]) for x in range(raw_pred.shape[0])]).astype(np.float64)\n",
    "\n",
    "    # My custom loss and accuracy functions are running out of memory for some reason...\n",
    "    if True:\n",
    "        #y_pred = tf.constant(np.array(raw_pred).astype(np.float64))\n",
    "        y_pred = preds\n",
    "        loss = modulo_distance_loss(y_test, y_pred)\n",
    "        accuracy_distance = modulo_distance_accuracy(y_test, y_pred)\n",
    "        accuracy_rounded = modulo_rounded_accuracy(y_test, y_pred)\n",
    "        print(f\"Loss: {loss:0.6}, Accuracy (Distance): {accuracy_distance:0.6}, Accuracy (Rounded): {accuracy_rounded:0.6}\")\n",
    "\n",
    "    if INFER_KEY:\n",
    "        #pred_pd = pd.DataFrame(raw_pred)\n",
    "        pred_pd = pd.DataFrame(preds)\n",
    "        true_pd = pd.DataFrame(y_test)\n",
    "        print(\"Inferred key distribution:\\n\", pred_pd.describe())\n",
    "        #print(\"True     key distribution:\\n\", true_pd.describe())\n",
    "\n",
    "print(\"Evaluating with model.evaluate() ...\")\n",
    "print(X_train_scaled.shape, y_train.shape, X_test_scaled.shape, y_test.shape, tmp_x.shape, tmp_y.shape)\n",
    "#eval_results = nn.evaluate(tmp_x, y_test, verbose=2, batch_size=BATCH_SIZE)\n",
    "eval_results = nn.evaluate(tmp_x, tmp_y[:,0,0], verbose=2, batch_size=BATCH_SIZE)\n",
    "print(f\"With X_test_scaled, Loss: {eval_results[0]}, Accuracy: {eval_results[1:]}\")"
   ]
  },
  {
   "cell_type": "markdown",
   "id": "e488ae3d-b10f-40d7-826a-61fedba4cb2b",
   "metadata": {},
   "source": [
    "# Model Usefulness Spot-Check"
   ]
  },
  {
   "cell_type": "code",
   "execution_count": 11,
   "id": "4abd4fd4-831e-43a5-9351-c0c2cfa1be2c",
   "metadata": {},
   "outputs": [
    {
     "name": "stdout",
     "output_type": "stream",
     "text": [
      "Correct Key:  9\n",
      "\u001b[1m1/1\u001b[0m \u001b[32m━━━━━━━━━━━━━━━━━━━━\u001b[0m\u001b[37m\u001b[0m \u001b[1m0s\u001b[0m 15ms/step\n",
      "Inferred Key:  6\n"
     ]
    },
    {
     "ename": "ValueError",
     "evalue": "Exception encountered when calling Sequential.call().\n\n\u001b[1mCannot take the length of shape with unknown rank.\u001b[0m\n\nArguments received by Sequential.call():\n  • inputs=tf.Tensor(shape=<unknown>, dtype=float32)\n  • training=False\n  • mask=None",
     "output_type": "error",
     "traceback": [
      "\u001b[0;31m---------------------------------------------------------------------------\u001b[0m",
      "\u001b[0;31mValueError\u001b[0m                                Traceback (most recent call last)",
      "Cell \u001b[0;32mIn[11], line 46\u001b[0m\n\u001b[1;32m     44\u001b[0m chunks \u001b[38;5;241m=\u001b[39m helpers\u001b[38;5;241m.\u001b[39mstring_to_bytes(ciphertext, CHUNK_SIZE)\n\u001b[1;32m     45\u001b[0m scaled_chunks \u001b[38;5;241m=\u001b[39m scaler\u001b[38;5;241m.\u001b[39mtransform(chunks)\n\u001b[0;32m---> 46\u001b[0m pred \u001b[38;5;241m=\u001b[39m nn\u001b[38;5;241m.\u001b[39mpredict(scaled_chunks)\n",
      "File \u001b[0;32m~/anaconda3/envs/dev_1102/lib/python3.12/site-packages/keras/src/utils/traceback_utils.py:122\u001b[0m, in \u001b[0;36mfilter_traceback.<locals>.error_handler\u001b[0;34m(*args, **kwargs)\u001b[0m\n\u001b[1;32m    119\u001b[0m     filtered_tb \u001b[38;5;241m=\u001b[39m _process_traceback_frames(e\u001b[38;5;241m.\u001b[39m__traceback__)\n\u001b[1;32m    120\u001b[0m     \u001b[38;5;66;03m# To get the full stack trace, call:\u001b[39;00m\n\u001b[1;32m    121\u001b[0m     \u001b[38;5;66;03m# `keras.config.disable_traceback_filtering()`\u001b[39;00m\n\u001b[0;32m--> 122\u001b[0m     \u001b[38;5;28;01mraise\u001b[39;00m e\u001b[38;5;241m.\u001b[39mwith_traceback(filtered_tb) \u001b[38;5;28;01mfrom\u001b[39;00m \u001b[38;5;28;01mNone\u001b[39;00m\n\u001b[1;32m    123\u001b[0m \u001b[38;5;28;01mfinally\u001b[39;00m:\n\u001b[1;32m    124\u001b[0m     \u001b[38;5;28;01mdel\u001b[39;00m filtered_tb\n",
      "File \u001b[0;32m~/anaconda3/envs/dev_1102/lib/python3.12/site-packages/keras/src/utils/traceback_utils.py:122\u001b[0m, in \u001b[0;36mfilter_traceback.<locals>.error_handler\u001b[0;34m(*args, **kwargs)\u001b[0m\n\u001b[1;32m    119\u001b[0m     filtered_tb \u001b[38;5;241m=\u001b[39m _process_traceback_frames(e\u001b[38;5;241m.\u001b[39m__traceback__)\n\u001b[1;32m    120\u001b[0m     \u001b[38;5;66;03m# To get the full stack trace, call:\u001b[39;00m\n\u001b[1;32m    121\u001b[0m     \u001b[38;5;66;03m# `keras.config.disable_traceback_filtering()`\u001b[39;00m\n\u001b[0;32m--> 122\u001b[0m     \u001b[38;5;28;01mraise\u001b[39;00m e\u001b[38;5;241m.\u001b[39mwith_traceback(filtered_tb) \u001b[38;5;28;01mfrom\u001b[39;00m \u001b[38;5;28;01mNone\u001b[39;00m\n\u001b[1;32m    123\u001b[0m \u001b[38;5;28;01mfinally\u001b[39;00m:\n\u001b[1;32m    124\u001b[0m     \u001b[38;5;28;01mdel\u001b[39;00m filtered_tb\n",
      "\u001b[0;31mValueError\u001b[0m: Exception encountered when calling Sequential.call().\n\n\u001b[1mCannot take the length of shape with unknown rank.\u001b[0m\n\nArguments received by Sequential.call():\n  • inputs=tf.Tensor(shape=<unknown>, dtype=float32)\n  • training=False\n  • mask=None"
     ]
    }
   ],
   "source": [
    "# These only really work for the Caesar Cipher\n",
    "\n",
    "def decode_chunks_with_model(chunks: list[list], model, scaler, input_already_scaled = True) -> list[list]:\n",
    "    if input_already_scaled:\n",
    "        return model.predict(chunks)\n",
    "    else:\n",
    "        return model.predict(scaler.transform(chunks))\n",
    "\n",
    "def decode_text_with_model(ciphertext: str, model, scaler) -> str:\n",
    "    offset_chunks = helpers.chunkify(encoders.string_to_offsets(ciphertext), CHUNK_SIZE)\n",
    "    decoded_chunks = decode_chunks_with_model(offset_chunks, model, scaler, input_already_scaled = False)\n",
    "    rounded = np.rint(decoded_chunks.flatten()).astype(int)\n",
    "    return encoders.offsets_to_string(rounded)\n",
    "\n",
    "def infer_key_with_model(ciphertext: str, model, scaler) -> int:\n",
    "    chunks = helpers.string_to_bytes(ciphertext, CHUNK_SIZE)    \n",
    "    scaled_chunks = scaler.transform(chunks)\n",
    "    #keys = model.predict(scaled_chunk)\n",
    "    tmp_x = np.array(scaled_chunks).reshape((-1, CHUNK_SIZE, 1))\n",
    "    keys = model.predict(tmp_x)\n",
    "    key = int(round(np.median(keys)))\n",
    "    return key\n",
    "\n",
    "if INFER_TEXT:    \n",
    "    CHUNKS_TO_CHECK = 2\n",
    "else:\n",
    "    CHUNKS_TO_CHECK = 20\n",
    "\n",
    "cipher_file_db = sid_to_c[list(sid_to_c.keys())[0]][0]\n",
    "ciphertext_path = cipher_file_db.path\n",
    "ciphertext = helpers.read_text_file(ciphertext_path)\n",
    "ciphertext = ciphertext[0:CHUNK_SIZE * CHUNKS_TO_CHECK]\n",
    "\n",
    "if INFER_TEXT:    \n",
    "    print(\"Decoded   : \", decode_text_with_model(ciphertext, nn, X_scaler))\n",
    "if INFER_KEY:\n",
    "    with db.get_session() as session:\n",
    "        correct_key = db.get_key_by_id(session, cipher_file_db.key_id).value\n",
    "    print(\"Correct Key: \", correct_key)\n",
    "    \n",
    "    inferred_key = infer_key_with_model(ciphertext, nn, X_scaler)\n",
    "    print(\"Inferred Key: \", inferred_key)\n",
    "    \n",
    "    chunks = helpers.string_to_bytes(ciphertext, CHUNK_SIZE)\n",
    "    scaled_chunks = scaler.transform(chunks)\n",
    "    pred = nn.predict(scaled_chunks)\n",
    "    \n",
    "    #tmp_x = np.array(scaled_chunks).reshape((-1, CHUNK_SIZE, 1))\n",
    "    #pred = nn.predict(tmp_x)\n",
    "\n",
    "    #print(pred)\n",
    "    #print(pd.DataFrame(pred).describe())\n"
   ]
  },
  {
   "cell_type": "code",
   "execution_count": null,
   "id": "eca1c384-8e11-4541-a33c-59f14cb7ecf2",
   "metadata": {},
   "outputs": [],
   "source": []
  }
 ],
 "metadata": {
  "kernelspec": {
   "display_name": "Python 3 (ipykernel)",
   "language": "python",
   "name": "python3"
  },
  "language_info": {
   "codemirror_mode": {
    "name": "ipython",
    "version": 3
   },
   "file_extension": ".py",
   "mimetype": "text/x-python",
   "name": "python",
   "nbconvert_exporter": "python",
   "pygments_lexer": "ipython3",
   "version": "3.12.7"
  }
 },
 "nbformat": 4,
 "nbformat_minor": 5
}
