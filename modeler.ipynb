{
 "cells": [
  {
   "cell_type": "code",
   "execution_count": 1,
   "id": "bca2471e-572c-4233-b18c-e8e03e8cf40c",
   "metadata": {},
   "outputs": [
    {
     "name": "stderr",
     "output_type": "stream",
     "text": [
      "2024-11-29 17:29:17.353198: I tensorflow/core/util/port.cc:153] oneDNN custom operations are on. You may see slightly different numerical results due to floating-point round-off errors from different computation orders. To turn them off, set the environment variable `TF_ENABLE_ONEDNN_OPTS=0`.\n",
      "2024-11-29 17:29:17.362307: E external/local_xla/xla/stream_executor/cuda/cuda_fft.cc:485] Unable to register cuFFT factory: Attempting to register factory for plugin cuFFT when one has already been registered\n",
      "2024-11-29 17:29:17.371870: E external/local_xla/xla/stream_executor/cuda/cuda_dnn.cc:8454] Unable to register cuDNN factory: Attempting to register factory for plugin cuDNN when one has already been registered\n",
      "2024-11-29 17:29:17.376941: E external/local_xla/xla/stream_executor/cuda/cuda_blas.cc:1452] Unable to register cuBLAS factory: Attempting to register factory for plugin cuBLAS when one has already been registered\n",
      "2024-11-29 17:29:17.388126: I tensorflow/core/platform/cpu_feature_guard.cc:210] This TensorFlow binary is optimized to use available CPU instructions in performance-critical operations.\n",
      "To enable the following instructions: SSE4.1 SSE4.2 AVX AVX2 AVX_VNNI FMA, in other operations, rebuild TensorFlow with the appropriate compiler flags.\n"
     ]
    }
   ],
   "source": [
    "# Import our dependencies\n",
    "from sklearn.model_selection import train_test_split\n",
    "from sklearn.preprocessing import StandardScaler\n",
    "import numpy as np\n",
    "import tensorflow as tf\n",
    "import keras_tuner as kt\n",
    "import pathlib\n",
    "import random\n",
    "import pandas as pd\n",
    "\n",
    "from credentials import CONNECTION_INFO\n",
    "from constants import *\n",
    "\n",
    "import encoders\n",
    "import db_connect\n",
    "import helpers"
   ]
  },
  {
   "cell_type": "markdown",
   "id": "0088ab2d-0294-47b0-8528-98cbbbfb15bd",
   "metadata": {},
   "source": [
    "## Config\n",
    "This notebook has a lot of options to adjust, most of which are controlled here."
   ]
  },
  {
   "cell_type": "code",
   "execution_count": 2,
   "id": "f9bdcd65-ceca-4b1a-921a-4544e38b37b0",
   "metadata": {},
   "outputs": [],
   "source": [
    "ENCODER = encoders.ENCODER_CAESAR\n",
    "CHUNK_SIZE = 512\n",
    "PROCESSING_UNITS = CHUNK_SIZE // 4\n",
    "LAYER_UNITS = max(1, CHUNK_SIZE // 10)\n",
    "\n",
    "EXTRA_CHECKS = True # Whether to run some (potentially slow) debug checks\n",
    "\n",
    "INFER_TEXT = False\n",
    "INFER_KEY = not INFER_TEXT\n",
    "\n",
    "USE_CUSTOM_LOSS = True\n",
    "USE_CUSTOM_OUTPUT_ACTIVATION = True\n",
    "\n",
    "OUTPUT_MIN = 0\n",
    "OUTPUT_MAX = len(encoders.CHARSET)-1\n",
    "CUSTOM_LOSS_MODULO = OUTPUT_MAX+1\n",
    "\n",
    "if INFER_TEXT:\n",
    "    MAIN_ACCURACY_METRIC = \"mae\"\n",
    "    LOSS_METRIC = \"mean_squared_error\"\n",
    "    OUTPUT_SIZE = CHUNK_SIZE\n",
    "    OPTIMIZER = \"sgd\"\n",
    "else:\n",
    "    MAIN_ACCURACY_METRIC = \"mae\"\n",
    "    LOSS_METRIC = \"mae\"\n",
    "    OPTIMIZER = \"adamax\"    \n",
    "\n",
    "    if ENCODER == encoders.ENCODER_CAESAR:\n",
    "        OUTPUT_SIZE = 1\n",
    "    elif ENCODER == encoders.ENCODER_SUBST:\n",
    "        OUTPUT_SIZE = len(encoders.CHARSET)\n",
    "    else:\n",
    "        raise Exception(f\"Unsupported encoder {ENCODER}\")\n",
    "\n",
    "ENCRYPTED_FILE_LIMIT = -1 # -1 to disable limit\n",
    "\n",
    "BASE_TRAIN_PCT = 0.75   # Start here. If train or test count would exceed the max, reduce it. Note 0.75 is the default.\n",
    "MAX_TRAIN_COUNT = 100 # -1 to disable\n",
    "MAX_TEST_COUNT =  100 # -1 to disable\n",
    "SPLIT_SEED = 42\n",
    "\n",
    "LOAD_BEST_MODEL = False # If False, a new model will be created from scratch\n",
    "SAVE_BEST_MODEL = True\n",
    "BEST_PATH = './saved_models/best.keras'\n",
    "\n",
    "# Whether to run the tuner or the hard-coded network build code\n",
    "TUNE_NETWORK = False\n",
    "BUILD_NETWORK = not TUNE_NETWORK\n",
    "TRAIN_MODEL = BUILD_NETWORK\n",
    "\n",
    "TUNER_DIRECTORY = \"tuner_projects\"\n",
    "TUNER_PROJECT_NAME = \"KT\"\n",
    "\n",
    "EPOCHS = 15\n",
    "BATCH_SIZE = 256 # Default is 32 -- going higher speeds things up a LOT, but may cause memory problems"
   ]
  },
  {
   "cell_type": "markdown",
   "id": "8b7ec896-6840-4696-bebd-c0419f8a1f69",
   "metadata": {},
   "source": [
    "# Data Retrieval and Structuring"
   ]
  },
  {
   "cell_type": "code",
   "execution_count": 3,
   "id": "789ab2e5-5e11-4812-91be-bb9a63acb6ca",
   "metadata": {},
   "outputs": [
    {
     "name": "stdout",
     "output_type": "stream",
     "text": [
      "Encoder IDs: {'None': 1, 'Simplifier': 2, 'Caesar Cipher': 3, 'Substitution Cipher': 4}\n",
      "Key Type IDs: {'Character Offset': 1, 'Character Map': 2}\n"
     ]
    }
   ],
   "source": [
    "# Get database IDs for encoders and key types\n",
    "\n",
    "encoder_ids= {}\n",
    "key_type_ids = {}\n",
    "\n",
    "db = db_connect.DB(CONNECTION_INFO)\n",
    "with db.get_session() as session:\n",
    "    for encoder in encoders.ALL_ENCODER_NAMES:\n",
    "        id = db.get_encoder_id(session, encoder)\n",
    "        encoder_ids[encoder] = id\n",
    "\n",
    "    print(f\"Encoder IDs: {encoder_ids}\")\n",
    "\n",
    "    for key_type in encoders.KEY_NAMES:\n",
    "        id = db.get_key_type_id(session, key_type)\n",
    "        key_type_ids[key_type] = id\n",
    "\n",
    "    print(f\"Key Type IDs: {key_type_ids}\")"
   ]
  },
  {
   "cell_type": "code",
   "execution_count": 4,
   "id": "0fc8e5ca-4b37-4947-9e79-f061cc993a31",
   "metadata": {},
   "outputs": [
    {
     "name": "stdout",
     "output_type": "stream",
     "text": [
      "Using 114 encrypted files\n"
     ]
    },
    {
     "data": {
      "text/plain": [
       "(19, 19)"
      ]
     },
     "execution_count": 4,
     "metadata": {},
     "output_type": "execute_result"
    }
   ],
   "source": [
    "# Map source ID to plaintext file (1) details, and source ID to corresponding ciphertext files (1+) details\n",
    "sid_to_p = {}\n",
    "sid_to_c = {}\n",
    "\n",
    "cipher_id = encoder_ids[ENCODER]\n",
    "with db.get_session() as session:\n",
    "    # Get all files encrypted with the cipher we care about\n",
    "    encrypted_files = db.get_files_by_source_and_encoder(session, -1, cipher_id)\n",
    "\n",
    "    if len(encrypted_files) > ENCRYPTED_FILE_LIMIT and ENCRYPTED_FILE_LIMIT > 0:\n",
    "        print(f\"Found {len(encrypted_files)} encrypted files\")\n",
    "        encrypted_files = random.sample(encrypted_files, ENCRYPTED_FILE_LIMIT)\n",
    "    print(f\"Using {len(encrypted_files)} encrypted files\")\n",
    "\n",
    "    for c in encrypted_files:\n",
    "        sid = c.source_id\n",
    "    \n",
    "        if sid not in sid_to_p:\n",
    "            plaintext_ids = db.get_files_by_source_and_encoder(session, sid, encoder_ids[encoders.ENCODER_SIMPLIFIER])\n",
    "            if len(plaintext_ids) != 1:\n",
    "                raise Exception(f\"Found {len(plaintext_ids)} plaintexts for source ID {sid}; should be exactly 1\")\n",
    "            sid_to_p[sid] = plaintext_ids[0]\n",
    "\n",
    "        if sid not in sid_to_c:\n",
    "            sid_to_c[sid] = []\n",
    "        sid_to_c[sid].append(c)\n",
    "\n",
    "len(sid_to_p), len(sid_to_c)"
   ]
  },
  {
   "cell_type": "code",
   "execution_count": 5,
   "id": "e3f6de1c-79f8-4637-8dec-ade266665517",
   "metadata": {},
   "outputs": [
    {
     "data": {
      "text/plain": [
       "((69396, 512), (69396,))"
      ]
     },
     "execution_count": 5,
     "metadata": {},
     "output_type": "execute_result"
    }
   ],
   "source": [
    "# Build up the features (X, the cipher texts as offsets) and targets (y, either the plain texts as offsets OR the key).\n",
    "# Note targets are not necessarily unique.\n",
    "X = []\n",
    "y = []\n",
    "\n",
    "with db.get_session() as session:\n",
    "    for sid in sid_to_p:\n",
    "        if INFER_TEXT:\n",
    "            plaintext = encoders.string_to_offsets(helpers.read_text_file(sid_to_p[sid].path))\n",
    "            target_chunks = helpers.chunkify(plaintext, CHUNK_SIZE)    \n",
    "    \n",
    "        for c in sid_to_c[sid]:\n",
    "            ciphertext = encoders.string_to_offsets(helpers.read_text_file(c.path))\n",
    "            feature_chunks = helpers.chunkify(ciphertext, CHUNK_SIZE)\n",
    "\n",
    "            if INFER_KEY:                \n",
    "                if ENCODER == encoders.ENCODER_CAESAR:\n",
    "                    key_value = float(db.get_key_by_id(session, c.key_id).value)\n",
    "\n",
    "                    if EXTRA_CHECKS:\n",
    "                        # Decode with the key we got from the DB, make sure it actually works\n",
    "                        CHECK_CHANCE = 0.1\n",
    "                        if random.random() < CHECK_CHANCE:\n",
    "                            plaintext = encoders.string_to_offsets(helpers.read_text_file(sid_to_p[sid].path))\n",
    "                            plainttext_str = encoders.offsets_to_string(plaintext)\n",
    "                            ciphertext_str = encoders.offsets_to_string(ciphertext)\n",
    "                            decoded_str = encoders.decode_caesar(ciphertext_str, int(key_value))\n",
    "                            if decoded_str != plainttext_str:                                                    \n",
    "                                print(decoded_str == plainttext_str)\n",
    "                                print(decoded_str[0:128], plainttext_str[0:128])\n",
    "                                raise Exception(\"Decode error\")\n",
    "                    \n",
    "                elif ENCODER == encoders.ENCODER_SUBST:\n",
    "                    raise Exception(f\"Not yet implemented key for {ENCODER}\")\n",
    "                else:\n",
    "                    raise Exception(f\"Unsupported encoder {ENCODER}\")\n",
    "        \n",
    "            for i in range (len(feature_chunks)):\n",
    "                X.append(np.array(feature_chunks[i]).astype(float))\n",
    "\n",
    "                if INFER_TEXT:\n",
    "                    y.append(np.array(target_chunks[i]).astype(float))\n",
    "\n",
    "                if INFER_KEY:\n",
    "                    y.append(key_value)\n",
    "\n",
    "X = np.array(X)\n",
    "y = np.array(y)\n",
    "\n",
    "X.shape, y.shape"
   ]
  },
  {
   "cell_type": "code",
   "execution_count": 6,
   "id": "e55451fa-ee72-4835-b18a-d03d44899412",
   "metadata": {},
   "outputs": [
    {
     "name": "stdout",
     "output_type": "stream",
     "text": [
      "Train count is 52047\n",
      "Test count is 17349\n",
      "Initial counts:  69396 69396 52047 17349 52047 17349\n"
     ]
    }
   ],
   "source": [
    "# Split the preprocessed data into a training and testing dataset\n",
    "train_count = int(round(len(y) * BASE_TRAIN_PCT))\n",
    "if train_count > MAX_TRAIN_COUNT and MAX_TRAIN_COUNT > -1:\n",
    "    print(f\"Train count would be {train_count}\")\n",
    "    train_count = int(MAX_TRAIN_COUNT)\n",
    "print(f\"Train count is {train_count}\")\n",
    "\n",
    "test_count = len(y) - train_count\n",
    "if test_count > MAX_TEST_COUNT and MAX_TEST_COUNT > -1:\n",
    "    print(f\"Test count would be {test_count}\")\n",
    "    test_count = int(MAX_TEST_COUNT)\n",
    "print(f\"Test count is {test_count}\")\n",
    "\n",
    "X_train, X_test, y_train, y_test = train_test_split(X, y, train_size=train_count, test_size=test_count, random_state=SPLIT_SEED)\n",
    "print( \"Initial counts: \", len(X), len(y), len(X_train), len(X_test), len(y_train), len(y_test) )"
   ]
  },
  {
   "cell_type": "code",
   "execution_count": 7,
   "id": "1d5fd198-2be6-4f66-91ff-0bbb1ccb819f",
   "metadata": {},
   "outputs": [
    {
     "data": {
      "text/plain": [
       "((52047, 512), (17349, 512))"
      ]
     },
     "execution_count": 7,
     "metadata": {},
     "output_type": "execute_result"
    }
   ],
   "source": [
    "# Create a StandardScaler instances\n",
    "scaler = StandardScaler()\n",
    "\n",
    "# Fit the StandardScaler\n",
    "X_scaler = scaler.fit(X_train)\n",
    "\n",
    "# Scale the data\n",
    "X_train_scaled = X_scaler.transform(X_train)\n",
    "X_test_scaled = X_scaler.transform(X_test)\n",
    "X_train_scaled.shape, X_test_scaled.shape"
   ]
  },
  {
   "cell_type": "markdown",
   "id": "bd3300c5-1772-41d7-b5e7-f790fceb6074",
   "metadata": {},
   "source": [
    "# Tensorflow Callbacks\n",
    "Custom layer activation function, loss and accuracy functions, and model save checkpoint."
   ]
  },
  {
   "cell_type": "code",
   "execution_count": 8,
   "id": "3b3de2a3-9271-49ab-ace6-c175d2e46720",
   "metadata": {},
   "outputs": [],
   "source": [
    "# Custom output activation, forcing output to be within range -- but not rounding it off\n",
    "# Possibly not needed, sigmoid + rescaler might work just as well\n",
    "def modulo_output(x):\n",
    "    return tf.math.mod(x, OUTPUT_MAX)\n",
    "\n",
    "# Custom loss function, adapted from code generated by Copilot\n",
    "def modulo_distance_loss(y_true, y_pred):\n",
    "    \"\"\" Custom loss function to compute the modulo distance. \n",
    "    Args: \n",
    "        y_true: True values (ground truth). \n",
    "        y_pred: Predicted values. \n",
    "        modulo: The modulo value to apply -- hard coded.\n",
    "    Returns: \n",
    "        The computed loss. \n",
    "    \"\"\" \n",
    "    # Compute the raw difference\n",
    "    diff = tf.abs(y_true - y_pred)\n",
    "    # Apply modulo operation to handle wrap-around cases\n",
    "    mod_diff = tf.math.mod(diff, CUSTOM_LOSS_MODULO)\n",
    "    # Ensure the distance is within the range [0, CUSTOM_LOSS_MODULO/2]\n",
    "    loss = tf.minimum(mod_diff, CUSTOM_LOSS_MODULO - mod_diff) \n",
    "    return tf.reduce_mean(loss)\n",
    "\n",
    "# Custom accuracy function, counterpart to the loss function above.\n",
    "# Returns accuracy as 1 - (average percent distance from correct value)\n",
    "def modulo_distance_accuracy(y_true, y_pred):\n",
    "    diff = tf.abs(y_true - y_pred)\n",
    "    mod_diff = tf.math.mod(diff, CUSTOM_LOSS_MODULO)\n",
    "    loss = tf.minimum(mod_diff, CUSTOM_LOSS_MODULO - mod_diff)\n",
    "\n",
    "    good_part = tf.math.subtract(CUSTOM_LOSS_MODULO / 2, loss)\n",
    "    accuracy = tf.math.divide(good_part, CUSTOM_LOSS_MODULO / 2)\n",
    "\n",
    "    return tf.reduce_mean(accuracy)\n",
    "\n",
    "# Custom accuracy, percent of correct values after rounding and doing modulo division\n",
    "def modulo_rounded_accuracy(y_true, y_pred):\n",
    "    # y_true SHOULD all be round, in-bounds numbers but just in case...\n",
    "    true_rounded = tf.math.round(y_true)\n",
    "    true_mod = tf.math.mod(true_rounded, CUSTOM_LOSS_MODULO)\n",
    "\n",
    "    # y_pred came straight from the model, so it needs to be rounded and mod'ed\n",
    "    pred_rounded = tf.math.round(y_pred)\n",
    "    pred_mod = tf.math.mod(pred_rounded, CUSTOM_LOSS_MODULO)\n",
    "\n",
    "    # Count matches, as a percentage by averaging all the 0's and 1's\n",
    "    matches_bool = tf.math.equal(true_mod, pred_mod)\n",
    "    matches_float = tf.cast(matches_bool, tf.float64)\n",
    "    return tf.reduce_mean(matches_float)"
   ]
  },
  {
   "cell_type": "code",
   "execution_count": 9,
   "id": "c6fd9e25-9167-4ee5-85cd-b16e9c7a8c4b",
   "metadata": {},
   "outputs": [
    {
     "name": "stderr",
     "output_type": "stream",
     "text": [
      "WARNING: All log messages before absl::InitializeLog() is called are written to STDERR\n",
      "I0000 00:00:1732930166.095841   13914 cuda_executor.cc:1001] could not open file to read NUMA node: /sys/bus/pci/devices/0000:01:00.0/numa_node\n",
      "Your kernel may have been built without NUMA support.\n",
      "I0000 00:00:1732930166.177856   13914 cuda_executor.cc:1001] could not open file to read NUMA node: /sys/bus/pci/devices/0000:01:00.0/numa_node\n",
      "Your kernel may have been built without NUMA support.\n",
      "I0000 00:00:1732930166.177906   13914 cuda_executor.cc:1001] could not open file to read NUMA node: /sys/bus/pci/devices/0000:01:00.0/numa_node\n",
      "Your kernel may have been built without NUMA support.\n",
      "I0000 00:00:1732930166.180078   13914 cuda_executor.cc:1001] could not open file to read NUMA node: /sys/bus/pci/devices/0000:01:00.0/numa_node\n",
      "Your kernel may have been built without NUMA support.\n",
      "I0000 00:00:1732930166.180117   13914 cuda_executor.cc:1001] could not open file to read NUMA node: /sys/bus/pci/devices/0000:01:00.0/numa_node\n",
      "Your kernel may have been built without NUMA support.\n",
      "I0000 00:00:1732930166.180135   13914 cuda_executor.cc:1001] could not open file to read NUMA node: /sys/bus/pci/devices/0000:01:00.0/numa_node\n",
      "Your kernel may have been built without NUMA support.\n",
      "I0000 00:00:1732930166.925136   13914 cuda_executor.cc:1001] could not open file to read NUMA node: /sys/bus/pci/devices/0000:01:00.0/numa_node\n",
      "Your kernel may have been built without NUMA support.\n",
      "I0000 00:00:1732930166.925224   13914 cuda_executor.cc:1001] could not open file to read NUMA node: /sys/bus/pci/devices/0000:01:00.0/numa_node\n",
      "Your kernel may have been built without NUMA support.\n",
      "2024-11-29 17:29:26.925233: I tensorflow/core/common_runtime/gpu/gpu_device.cc:2112] Could not identify NUMA node of platform GPU id 0, defaulting to 0.  Your kernel may not have been built with NUMA support.\n",
      "I0000 00:00:1732930166.925276   13914 cuda_executor.cc:1001] could not open file to read NUMA node: /sys/bus/pci/devices/0000:01:00.0/numa_node\n",
      "Your kernel may have been built without NUMA support.\n",
      "2024-11-29 17:29:26.925295: I tensorflow/core/common_runtime/gpu/gpu_device.cc:2021] Created device /job:localhost/replica:0/task:0/device:GPU:0 with 5363 MB memory:  -> device: 0, name: NVIDIA RTX 2000 Ada Generation Laptop GPU, pci bus id: 0000:01:00.0, compute capability: 8.9\n"
     ]
    },
    {
     "name": "stdout",
     "output_type": "stream",
     "text": [
      "true: tf.Tensor(\n",
      "[[ 1.  2.  3. 50.]\n",
      " [ 1.  2.  3. 50.]], shape=(2, 4), dtype=float64)\n",
      "pred: tf.Tensor(\n",
      "[[ 0.4  1.5  3.5 10.4]\n",
      " [ 0.4  1.5  3.5 10.4]], shape=(2, 4), dtype=float64)\n",
      "rond: tf.Tensor(\n",
      "[[ 0.  2.  4. 10.]\n",
      " [ 0.  2.  4. 10.]], shape=(2, 4), dtype=float64)\n",
      "diff tf.Tensor(\n",
      "[[ 0.6  0.5  0.5 39.6]\n",
      " [ 0.6  0.5  0.5 39.6]], shape=(2, 4), dtype=float64)\n",
      "loss: tf.Tensor(0.49999999999999967, shape=(), dtype=float64)\n",
      "accD: tf.Tensor(0.9000000000000001, shape=(), dtype=float64)\n",
      "accR: tf.Tensor(0.5, shape=(), dtype=float64)\n"
     ]
    }
   ],
   "source": [
    "if EXTRA_CHECKS:\n",
    "    # Testing my loss and accuracy functions\n",
    "    t_true = [[1.0, 2.0, 3.0, CUSTOM_LOSS_MODULO*5]]*2\n",
    "    t_pred = [[0.4, 1.5, 3.5, CUSTOM_LOSS_MODULO + 0.4]]*2\n",
    "    \n",
    "    t_true_ts = tf.constant(np.array(t_true).astype(float))\n",
    "    t_pred_ts = tf.constant(np.array(t_pred).astype(float))\n",
    "    loss = modulo_distance_loss(t_true_ts, t_pred_ts)\n",
    "    accD = modulo_distance_accuracy(t_true_ts, t_pred_ts)\n",
    "    accR = modulo_rounded_accuracy(t_true_ts, t_pred_ts)\n",
    "    print(\"true:\", t_true_ts)\n",
    "    print(\"pred:\", t_pred_ts)\n",
    "    print(\"rond:\", tf.math.round(t_pred_ts))\n",
    "    print(\"diff\", abs(t_true_ts - t_pred_ts))\n",
    "    print(\"loss:\", loss)\n",
    "    print(\"accD:\", accD)\n",
    "    print(\"accR:\", accR)\n"
   ]
  },
  {
   "cell_type": "markdown",
   "id": "c340dfc6-d8e6-461c-87af-f2627f638908",
   "metadata": {},
   "source": [
    "# Hyperband Tuning"
   ]
  },
  {
   "cell_type": "raw",
   "id": "f1c70388-5d02-437d-ba09-791e6157250b",
   "metadata": {},
   "source": [
    "GO_FAST = False\n",
    "\n",
    "MAX_EPOCHS_PER_MODEL = 15 # Meant to get a decent idea of parameter, not create a final model. Behaves oddly below 3.\n",
    "HYPERBAND_ITERATIONS = 1  # \"Number of times to iterate over the full Hyperband algorithm\"\n",
    "EXECUTIONS_PER_TRIAL = 1  # Training from scratch\n",
    "SEARCH_FIT_EPOCHS = 10    # Epochs for each attempt to do a fit, I think. Not sure how this relates to MAX_EPOCHS_PER_MODEL.\n",
    "OVERWRITE = True          # I'm hoping to be able to interrupt a run and resume it later\n",
    "\n",
    "# All-encompassing optimization parameter choices. Do not try to use all of them at once...\n",
    "CHOICES_PROCESSING_UNITS = [1, CHUNK_SIZE // 16, CHUNK_SIZE // 4, CHUNK_SIZE, CHUNK_SIZE * 2] # Prefers 128 (CHUNK_SIZE // 4)\n",
    "CHOICES_BASIC_LAYERS = [\"NONE\", \"elu\", \"gelu\", \"hard_sigmoid\", \"hard_silu\", \"hard_swish\", \"leaky_relu\", \"linear\", \"log_softmax\", \"mish\",\n",
    "        \"relu\", \"relu6\", \"selu\", \"sigmoid\", \"silu\", \"softmax\", \"softplus\", \"softsign\", \"swish\", \"tanh\"]\n",
    "CHOICES_FANCY_TOPO = [\"NONE\", \"GRU\", \"RNN\", \"LSTM\", \"GRU-RNN\", \"GRU-LSTM\", \"GRU-RNN-LSTM\"]     # LSTM seems to win\n",
    "CHOICES_USE_SIGMOID = [True, False] # Prefers True\n",
    "CHOICES_SIGMOID_SIZE_TO_OUTPUT = [True, False] # Prefers False\n",
    "CHOICES_USE_SCALER = [True, False] # Only relevant when using Sigmoid -- prefers True\n",
    "CHOICES_USE_OUTPUT_LIMITER = [True, False] # Prefers True\n",
    "CHOICES_OPTIMIZER = [\"adamax\", \"sgd\", \"RMSProp\"] # Prefers adamax\n",
    "\n",
    "# Narrow down the choices as needed.\n",
    "CHOICES_PROCESSING_UNITS = [CHUNK_SIZE // 4]\n",
    "# CHOICES_BASIC_LAYERS unchanged\n",
    "CHOICES_FANCY_TOPO = [\"LSTM\"]\n",
    "CHOICES_USE_SIGMOID = [False]\n",
    "CHOICES_SIGMOID_SIZE_TO_OUTPUT = [False]\n",
    "CHOICES_USE_SCALER = [True]\n",
    "CHOICES_USE_OUTPUT_LIMITER = [True]\n",
    "CHOICES_OPTIMIZER = [\"adamax\"]\n",
    "\n",
    "if GO_FAST:\n",
    "    MAX_EPOCHS_PER_MODEL = 3\n",
    "    SEARCH_FIT_EPOCHS = 4\n",
    "\n",
    "# Create a method that creates a new Sequential model with hyperparameter options\n",
    "def create_model(hp):\n",
    "    processing_units = hp.Choice(\"Processing_Units\", CHOICES_PROCESSING_UNITS)\n",
    "    basic_layer_before = hp.Choice(\"Basic_Layer_Before\", CHOICES_BASIC_LAYERS)\n",
    "    fancy_topo = hp.Choice(\"Fancy_Topology\", CHOICES_FANCY_TOPO)\n",
    "    basic_layer_after = hp.Choice(\"Basic_Layer_After\", CHOICES_BASIC_LAYERS)\n",
    "    use_sigmoid = hp.Choice(\"Sigmoid\", CHOICES_USE_SIGMOID)    \n",
    "    use_output_limiter = hp.Choice(\"Output_Limiter\", CHOICES_USE_OUTPUT_LIMITER)\n",
    "    optimizer = hp.Choice(\"Optimizer\", CHOICES_OPTIMIZER)\n",
    "\n",
    "    model = tf.keras.models.Sequential()\n",
    "    model.add(tf.keras.layers.Embedding(input_dim=CHUNK_SIZE, output_dim=processing_units, name=\"Embedding_Input\"))\n",
    "\n",
    "    if basic_layer_before != \"NONE\":\n",
    "        model.add(tf.keras.layers.Dense(units=processing_units, activation=basic_layer_before, name=\"Basic_Layer_Before\"))\n",
    "\n",
    "    if fancy_topo == \"NONE\":\n",
    "        pass\n",
    "    elif fancy_topo == \"GRU\":\n",
    "        model.add(tf.keras.layers.GRU(PROCESSING_UNITS))\n",
    "    elif fancy_topo == \"RNN\":\n",
    "        model.add(tf.keras.layers.SimpleRNN(PROCESSING_UNITS))\n",
    "    elif fancy_topo == \"LSTM\":\n",
    "        model.add(tf.keras.layers.LSTM(PROCESSING_UNITS))\n",
    "    elif fancy_topo == \"GRU-RNN\":\n",
    "        model.add(tf.keras.layers.GRU(PROCESSING_UNITS, return_sequences=True))\n",
    "        model.add(tf.keras.layers.SimpleRNN(PROCESSING_UNITS))\n",
    "    elif fancy_topo == \"GRU-LSTM\":\n",
    "        model.add(tf.keras.layers.GRU(PROCESSING_UNITS, return_sequences=True))\n",
    "        model.add(tf.keras.layers.LSTM(PROCESSING_UNITS))\n",
    "    elif fancy_topo == \"GRU-RNN-LSTM\":\n",
    "        model.add(tf.keras.layers.GRU(PROCESSING_UNITS, return_sequences=True))\n",
    "        model.add(tf.keras.layers.SimpleRNN(PROCESSING_UNITS, return_sequences=True))\n",
    "        model.add(tf.keras.layers.LSTM(PROCESSING_UNITS))\n",
    "    else:\n",
    "        raise Exception(f\"Bad choice {fancy_topo}\")\n",
    "\n",
    "    if basic_layer_after != \"NONE\":\n",
    "        model.add(tf.keras.layers.Dense(units=processing_units, activation=basic_layer_after, name=\"Basic_Layer_After\"))\n",
    "\n",
    "    if use_sigmoid:\n",
    "        # The sigmoid layer can be sized like a processing unit or for output,\n",
    "        # but that only matters if those values are different\n",
    "        if OUTPUT_SIZE != processing_units:\n",
    "            # There are two possibilities, so allow checking both\n",
    "            sigmoid_size_to_output = hp.Choice(\"Sigmoid_Size_To_Output\", CHOICES_SIGMOID_SIZE_TO_OUTPUT)\n",
    "            sigmoid_units = OUTPUT_SIZE if sigmoid_size_to_output else processing_units\n",
    "        else:\n",
    "            # The two values are the same, so just use that value\n",
    "            sigmoid_units = OUTPUT_SIZE\n",
    "    \n",
    "        model.add(tf.keras.layers.Dense(units=processing_units, activation=\"sigmoid\", name=\"Sigmoid\"))\n",
    "        use_scaler = hp.Choice(\"Scaler\", CHOICES_USE_SCALER)\n",
    "        if use_scaler:\n",
    "            model.add(tf.keras.layers.Rescaling(scale=OUTPUT_MAX, offset=0, name=\"Rescaler\")) # Input is 0-1\n",
    "    \n",
    "    if use_output_limiter:\n",
    "        model.add(tf.keras.layers.Dense(OUTPUT_SIZE, activation=modulo_output, name=\"Output_Limiter\"))\n",
    "    else:\n",
    "        model.add(tf.keras.layers.Dense(OUTPUT_SIZE, name=\"Linear_Output\"))\n",
    "\n",
    "    # Compile the model\n",
    "    if USE_CUSTOM_LOSS:\n",
    "        loss = modulo_distance_loss\n",
    "        metrics = [modulo_distance_accuracy, modulo_rounded_accuracy]\n",
    "    else:\n",
    "        loss = LOSS_METRIC\n",
    "        metrics = [MAIN_ACCURACY_METRIC]\n",
    "    model.compile(loss=loss, optimizer=optimizer, metrics=metrics)\n",
    "    \n",
    "    return model\n",
    "\n",
    "\n",
    "# Run the kerastuner search for best hyperparameters\n",
    "if TUNE_NETWORK:\n",
    "\n",
    "    if USE_CUSTOM_LOSS:\n",
    "        objective = kt.Objective(\"val_loss\", direction=\"min\")\n",
    "    else:\n",
    "        objective = kt.Objective(f\"val_{MAIN_ACCURACY_METRIC}\", direction=\"max\")\n",
    "\n",
    "    tuner = kt.Hyperband(\n",
    "        create_model,\n",
    "        objective=objective,\n",
    "        max_epochs=MAX_EPOCHS_PER_MODEL,\n",
    "        hyperband_iterations=HYPERBAND_ITERATIONS,\n",
    "        executions_per_trial=EXECUTIONS_PER_TRIAL,\n",
    "        overwrite=OVERWRITE,\n",
    "        directory=TUNER_DIRECTORY,\n",
    "        project_name=TUNER_PROJECT_NAME)\n",
    "    tuner.search(X_train_scaled, y_train, epochs=SEARCH_FIT_EPOCHS, batch_size=BATCH_SIZE, validation_data=(X_test_scaled,y_test))\n",
    "    \n",
    "    best_hyper = tuner.get_best_hyperparameters(1)[0]\n",
    "    print(f\"Best Hyper Values: {best_hyper.values}\")\n",
    "    \n",
    "    nn = tuner.get_best_models(1)[0]\n",
    "    eval_results = nn.evaluate(X_test_scaled, y_test, verbose=2, batch_size=BATCH_SIZE )\n",
    "    print(f\"Best Model Loss: {eval_results[0]}, Accuracy: {eval_results[1:]}\")\n",
    "\n",
    "    nn.save(\"./saved_models/tuned.keras\")\n"
   ]
  },
  {
   "cell_type": "markdown",
   "id": "0a71ca9b-9cc3-4c85-9dab-e4b7d969ca52",
   "metadata": {},
   "source": [
    "# Model Reload /Creation"
   ]
  },
  {
   "cell_type": "code",
   "execution_count": 10,
   "id": "e0fdee2d-2e95-4fb1-96e9-c428546102cc",
   "metadata": {},
   "outputs": [
    {
     "name": "stdout",
     "output_type": "stream",
     "text": [
      "Building new model\n"
     ]
    },
    {
     "data": {
      "text/html": [
       "<pre style=\"white-space:pre;overflow-x:auto;line-height:normal;font-family:Menlo,'DejaVu Sans Mono',consolas,'Courier New',monospace\"><span style=\"font-weight: bold\">Model: \"sequential\"</span>\n",
       "</pre>\n"
      ],
      "text/plain": [
       "\u001b[1mModel: \"sequential\"\u001b[0m\n"
      ]
     },
     "metadata": {},
     "output_type": "display_data"
    },
    {
     "data": {
      "text/html": [
       "<pre style=\"white-space:pre;overflow-x:auto;line-height:normal;font-family:Menlo,'DejaVu Sans Mono',consolas,'Courier New',monospace\">┏━━━━━━━━━━━━━━━━━━━━━━━━━━━━━━━━━┳━━━━━━━━━━━━━━━━━━━━━━━━┳━━━━━━━━━━━━━━━┓\n",
       "┃<span style=\"font-weight: bold\"> Layer (type)                    </span>┃<span style=\"font-weight: bold\"> Output Shape           </span>┃<span style=\"font-weight: bold\">       Param # </span>┃\n",
       "┡━━━━━━━━━━━━━━━━━━━━━━━━━━━━━━━━━╇━━━━━━━━━━━━━━━━━━━━━━━━╇━━━━━━━━━━━━━━━┩\n",
       "│ Embedding_Input (<span style=\"color: #0087ff; text-decoration-color: #0087ff\">Embedding</span>)     │ ?                      │   <span style=\"color: #00af00; text-decoration-color: #00af00\">0</span> (unbuilt) │\n",
       "├─────────────────────────────────┼────────────────────────┼───────────────┤\n",
       "│ LSTM (<span style=\"color: #0087ff; text-decoration-color: #0087ff\">LSTM</span>)                     │ ?                      │   <span style=\"color: #00af00; text-decoration-color: #00af00\">0</span> (unbuilt) │\n",
       "├─────────────────────────────────┼────────────────────────┼───────────────┤\n",
       "│ Output_Limiter (<span style=\"color: #0087ff; text-decoration-color: #0087ff\">Dense</span>)          │ ?                      │   <span style=\"color: #00af00; text-decoration-color: #00af00\">0</span> (unbuilt) │\n",
       "└─────────────────────────────────┴────────────────────────┴───────────────┘\n",
       "</pre>\n"
      ],
      "text/plain": [
       "┏━━━━━━━━━━━━━━━━━━━━━━━━━━━━━━━━━┳━━━━━━━━━━━━━━━━━━━━━━━━┳━━━━━━━━━━━━━━━┓\n",
       "┃\u001b[1m \u001b[0m\u001b[1mLayer (type)                   \u001b[0m\u001b[1m \u001b[0m┃\u001b[1m \u001b[0m\u001b[1mOutput Shape          \u001b[0m\u001b[1m \u001b[0m┃\u001b[1m \u001b[0m\u001b[1m      Param #\u001b[0m\u001b[1m \u001b[0m┃\n",
       "┡━━━━━━━━━━━━━━━━━━━━━━━━━━━━━━━━━╇━━━━━━━━━━━━━━━━━━━━━━━━╇━━━━━━━━━━━━━━━┩\n",
       "│ Embedding_Input (\u001b[38;5;33mEmbedding\u001b[0m)     │ ?                      │   \u001b[38;5;34m0\u001b[0m (unbuilt) │\n",
       "├─────────────────────────────────┼────────────────────────┼───────────────┤\n",
       "│ LSTM (\u001b[38;5;33mLSTM\u001b[0m)                     │ ?                      │   \u001b[38;5;34m0\u001b[0m (unbuilt) │\n",
       "├─────────────────────────────────┼────────────────────────┼───────────────┤\n",
       "│ Output_Limiter (\u001b[38;5;33mDense\u001b[0m)          │ ?                      │   \u001b[38;5;34m0\u001b[0m (unbuilt) │\n",
       "└─────────────────────────────────┴────────────────────────┴───────────────┘\n"
      ]
     },
     "metadata": {},
     "output_type": "display_data"
    },
    {
     "data": {
      "text/html": [
       "<pre style=\"white-space:pre;overflow-x:auto;line-height:normal;font-family:Menlo,'DejaVu Sans Mono',consolas,'Courier New',monospace\"><span style=\"font-weight: bold\"> Total params: </span><span style=\"color: #00af00; text-decoration-color: #00af00\">0</span> (0.00 B)\n",
       "</pre>\n"
      ],
      "text/plain": [
       "\u001b[1m Total params: \u001b[0m\u001b[38;5;34m0\u001b[0m (0.00 B)\n"
      ]
     },
     "metadata": {},
     "output_type": "display_data"
    },
    {
     "data": {
      "text/html": [
       "<pre style=\"white-space:pre;overflow-x:auto;line-height:normal;font-family:Menlo,'DejaVu Sans Mono',consolas,'Courier New',monospace\"><span style=\"font-weight: bold\"> Trainable params: </span><span style=\"color: #00af00; text-decoration-color: #00af00\">0</span> (0.00 B)\n",
       "</pre>\n"
      ],
      "text/plain": [
       "\u001b[1m Trainable params: \u001b[0m\u001b[38;5;34m0\u001b[0m (0.00 B)\n"
      ]
     },
     "metadata": {},
     "output_type": "display_data"
    },
    {
     "data": {
      "text/html": [
       "<pre style=\"white-space:pre;overflow-x:auto;line-height:normal;font-family:Menlo,'DejaVu Sans Mono',consolas,'Courier New',monospace\"><span style=\"font-weight: bold\"> Non-trainable params: </span><span style=\"color: #00af00; text-decoration-color: #00af00\">0</span> (0.00 B)\n",
       "</pre>\n"
      ],
      "text/plain": [
       "\u001b[1m Non-trainable params: \u001b[0m\u001b[38;5;34m0\u001b[0m (0.00 B)\n"
      ]
     },
     "metadata": {},
     "output_type": "display_data"
    }
   ],
   "source": [
    "if LOAD_BEST_MODEL:\n",
    "    print(f\"Loading model from {BEST_PATH}\")\n",
    "    nn = tf.keras.models.load_model(BEST_PATH)\n",
    "elif BUILD_NETWORK:\n",
    "    print(\"Building new model\")\n",
    "    nn = tf.keras.models.Sequential()\n",
    "\n",
    "    # Input layer\n",
    "    nn.add(tf.keras.layers.Embedding(input_dim=CHUNK_SIZE, output_dim=PROCESSING_UNITS, name=\"Embedding_Input\"))\n",
    "\n",
    "    # This LSTM layer seems to do most of the real work\n",
    "    nn.add(tf.keras.layers.LSTM(PROCESSING_UNITS, name=\"LSTM\"))\n",
    "\n",
    "    # Sigmoid layer produces an output between 0 and 1\n",
    "    # nn.add(tf.keras.layers.Dense(units=PROCESSING_UNITS, activation=\"sigmoid\", name=\"Sigmoid\"))\n",
    "\n",
    "    # Rescale that 0-1 value from Sigmoid to the correct output range\n",
    "    # nn.add(tf.keras.layers.Rescaling(scale=OUTPUT_MAX, offset=0, name=\"Rescaler\")) # Input is 0-1\n",
    "\n",
    "    # Do modulo division to enforce output range limit\n",
    "    # Note this seems like it should be totally redundant. But the Tuner results suggest that including both\n",
    "    # mechanisms (Sigmoid + Rescaling, and Modulo Division) produces better results. I don't know why.\n",
    "    nn.add(tf.keras.layers.Dense(OUTPUT_SIZE, activation=modulo_output, name=\"Output_Limiter\"))\n",
    "\n",
    "else:\n",
    "    print(\"Nothing to do here. Hopefully you got a model somewhere above...\")\n",
    "        \n",
    "# Check the structure of the model\n",
    "nn.summary()"
   ]
  },
  {
   "cell_type": "markdown",
   "id": "701c6ff4-2ca0-4ac0-af80-7d48b157675a",
   "metadata": {},
   "source": [
    "# Model Training"
   ]
  },
  {
   "cell_type": "code",
   "execution_count": 11,
   "id": "08319c4f-7080-477b-93b8-eca4791c449a",
   "metadata": {},
   "outputs": [
    {
     "name": "stdout",
     "output_type": "stream",
     "text": [
      "Training model\n",
      "Epoch 1/15\n"
     ]
    },
    {
     "name": "stderr",
     "output_type": "stream",
     "text": [
      "2024-11-29 17:29:29.436137: I external/local_xla/xla/stream_executor/cuda/cuda_dnn.cc:531] Loaded cuDNN version 90101\n"
     ]
    },
    {
     "name": "stdout",
     "output_type": "stream",
     "text": [
      "\u001b[1m203/204\u001b[0m \u001b[32m━━━━━━━━━━━━━━━━━━━\u001b[0m\u001b[37m━\u001b[0m \u001b[1m0s\u001b[0m 45ms/step - loss: 2.0062 - modulo_distance_accuracy: 0.5161 - modulo_rounded_accuracy: 0.1140\n",
      "Epoch 1: loss improved from inf to 1.75603, saving model to ./saved_models/best.keras\n",
      "\u001b[1m204/204\u001b[0m \u001b[32m━━━━━━━━━━━━━━━━━━━━\u001b[0m\u001b[37m\u001b[0m \u001b[1m13s\u001b[0m 46ms/step - loss: 2.0038 - modulo_distance_accuracy: 0.5161 - modulo_rounded_accuracy: 0.1141\n",
      "Epoch 2/15\n",
      "\u001b[1m204/204\u001b[0m \u001b[32m━━━━━━━━━━━━━━━━━━━━\u001b[0m\u001b[37m\u001b[0m \u001b[1m0s\u001b[0m 44ms/step - loss: 2.5689 - modulo_distance_accuracy: 0.4866 - modulo_rounded_accuracy: 0.1246\n",
      "Epoch 2: loss did not improve from 1.75603\n",
      "\u001b[1m204/204\u001b[0m \u001b[32m━━━━━━━━━━━━━━━━━━━━\u001b[0m\u001b[37m\u001b[0m \u001b[1m9s\u001b[0m 44ms/step - loss: 2.5686 - modulo_distance_accuracy: 0.4867 - modulo_rounded_accuracy: 0.1246\n",
      "Epoch 3/15\n",
      "\u001b[1m203/204\u001b[0m \u001b[32m━━━━━━━━━━━━━━━━━━━\u001b[0m\u001b[37m━\u001b[0m \u001b[1m0s\u001b[0m 44ms/step - loss: 2.0972 - modulo_distance_accuracy: 0.5135 - modulo_rounded_accuracy: 0.1210\n",
      "Epoch 3: loss did not improve from 1.75603\n",
      "\u001b[1m204/204\u001b[0m \u001b[32m━━━━━━━━━━━━━━━━━━━━\u001b[0m\u001b[37m\u001b[0m \u001b[1m9s\u001b[0m 44ms/step - loss: 2.0941 - modulo_distance_accuracy: 0.5136 - modulo_rounded_accuracy: 0.1210\n",
      "Epoch 4/15\n",
      "\u001b[1m204/204\u001b[0m \u001b[32m━━━━━━━━━━━━━━━━━━━━\u001b[0m\u001b[37m\u001b[0m \u001b[1m0s\u001b[0m 44ms/step - loss: 1.1589 - modulo_distance_accuracy: 0.5179 - modulo_rounded_accuracy: 0.1247\n",
      "Epoch 4: loss improved from 1.75603 to 1.13316, saving model to ./saved_models/best.keras\n",
      "\u001b[1m204/204\u001b[0m \u001b[32m━━━━━━━━━━━━━━━━━━━━\u001b[0m\u001b[37m\u001b[0m \u001b[1m9s\u001b[0m 45ms/step - loss: 1.1588 - modulo_distance_accuracy: 0.5179 - modulo_rounded_accuracy: 0.1247\n",
      "Epoch 5/15\n",
      "\u001b[1m204/204\u001b[0m \u001b[32m━━━━━━━━━━━━━━━━━━━━\u001b[0m\u001b[37m\u001b[0m \u001b[1m0s\u001b[0m 44ms/step - loss: 1.0348 - modulo_distance_accuracy: 0.5133 - modulo_rounded_accuracy: 0.1308\n",
      "Epoch 5: loss improved from 1.13316 to 1.02639, saving model to ./saved_models/best.keras\n",
      "\u001b[1m204/204\u001b[0m \u001b[32m━━━━━━━━━━━━━━━━━━━━\u001b[0m\u001b[37m\u001b[0m \u001b[1m9s\u001b[0m 44ms/step - loss: 1.0348 - modulo_distance_accuracy: 0.5133 - modulo_rounded_accuracy: 0.1308\n",
      "Epoch 6/15\n",
      "\u001b[1m203/204\u001b[0m \u001b[32m━━━━━━━━━━━━━━━━━━━\u001b[0m\u001b[37m━\u001b[0m \u001b[1m0s\u001b[0m 44ms/step - loss: 1.0040 - modulo_distance_accuracy: 0.5135 - modulo_rounded_accuracy: 0.1327\n",
      "Epoch 6: loss improved from 1.02639 to 0.99517, saving model to ./saved_models/best.keras\n",
      "\u001b[1m204/204\u001b[0m \u001b[32m━━━━━━━━━━━━━━━━━━━━\u001b[0m\u001b[37m\u001b[0m \u001b[1m9s\u001b[0m 44ms/step - loss: 1.0039 - modulo_distance_accuracy: 0.5135 - modulo_rounded_accuracy: 0.1327\n",
      "Epoch 7/15\n",
      "\u001b[1m204/204\u001b[0m \u001b[32m━━━━━━━━━━━━━━━━━━━━\u001b[0m\u001b[37m\u001b[0m \u001b[1m0s\u001b[0m 44ms/step - loss: 0.9780 - modulo_distance_accuracy: 0.5138 - modulo_rounded_accuracy: 0.1309\n",
      "Epoch 7: loss improved from 0.99517 to 0.97358, saving model to ./saved_models/best.keras\n",
      "\u001b[1m204/204\u001b[0m \u001b[32m━━━━━━━━━━━━━━━━━━━━\u001b[0m\u001b[37m\u001b[0m \u001b[1m9s\u001b[0m 45ms/step - loss: 0.9780 - modulo_distance_accuracy: 0.5138 - modulo_rounded_accuracy: 0.1309\n",
      "Epoch 8/15\n",
      "\u001b[1m203/204\u001b[0m \u001b[32m━━━━━━━━━━━━━━━━━━━\u001b[0m\u001b[37m━\u001b[0m \u001b[1m0s\u001b[0m 44ms/step - loss: 0.9720 - modulo_distance_accuracy: 0.5133 - modulo_rounded_accuracy: 0.1310\n",
      "Epoch 8: loss improved from 0.97358 to 0.96919, saving model to ./saved_models/best.keras\n",
      "\u001b[1m204/204\u001b[0m \u001b[32m━━━━━━━━━━━━━━━━━━━━\u001b[0m\u001b[37m\u001b[0m \u001b[1m9s\u001b[0m 44ms/step - loss: 0.9720 - modulo_distance_accuracy: 0.5133 - modulo_rounded_accuracy: 0.1310\n",
      "Epoch 9/15\n",
      "\u001b[1m203/204\u001b[0m \u001b[32m━━━━━━━━━━━━━━━━━━━\u001b[0m\u001b[37m━\u001b[0m \u001b[1m0s\u001b[0m 44ms/step - loss: 0.9562 - modulo_distance_accuracy: 0.5130 - modulo_rounded_accuracy: 0.1317\n",
      "Epoch 9: loss improved from 0.96919 to 0.94880, saving model to ./saved_models/best.keras\n",
      "\u001b[1m204/204\u001b[0m \u001b[32m━━━━━━━━━━━━━━━━━━━━\u001b[0m\u001b[37m\u001b[0m \u001b[1m9s\u001b[0m 44ms/step - loss: 0.9562 - modulo_distance_accuracy: 0.5130 - modulo_rounded_accuracy: 0.1317\n",
      "Epoch 10/15\n",
      "\u001b[1m204/204\u001b[0m \u001b[32m━━━━━━━━━━━━━━━━━━━━\u001b[0m\u001b[37m\u001b[0m \u001b[1m0s\u001b[0m 44ms/step - loss: 0.9363 - modulo_distance_accuracy: 0.5132 - modulo_rounded_accuracy: 0.1347\n",
      "Epoch 10: loss improved from 0.94880 to 0.91720, saving model to ./saved_models/best.keras\n",
      "\u001b[1m204/204\u001b[0m \u001b[32m━━━━━━━━━━━━━━━━━━━━\u001b[0m\u001b[37m\u001b[0m \u001b[1m9s\u001b[0m 45ms/step - loss: 0.9362 - modulo_distance_accuracy: 0.5132 - modulo_rounded_accuracy: 0.1347\n",
      "Epoch 11/15\n",
      "\u001b[1m203/204\u001b[0m \u001b[32m━━━━━━━━━━━━━━━━━━━\u001b[0m\u001b[37m━\u001b[0m \u001b[1m0s\u001b[0m 43ms/step - loss: 0.8741 - modulo_distance_accuracy: 0.5131 - modulo_rounded_accuracy: 0.1349\n",
      "Epoch 11: loss improved from 0.91720 to 0.86534, saving model to ./saved_models/best.keras\n",
      "\u001b[1m204/204\u001b[0m \u001b[32m━━━━━━━━━━━━━━━━━━━━\u001b[0m\u001b[37m\u001b[0m \u001b[1m9s\u001b[0m 44ms/step - loss: 0.8740 - modulo_distance_accuracy: 0.5131 - modulo_rounded_accuracy: 0.1349\n",
      "Epoch 12/15\n",
      "\u001b[1m203/204\u001b[0m \u001b[32m━━━━━━━━━━━━━━━━━━━\u001b[0m\u001b[37m━\u001b[0m \u001b[1m0s\u001b[0m 44ms/step - loss: 0.8392 - modulo_distance_accuracy: 0.5119 - modulo_rounded_accuracy: 0.1330\n",
      "Epoch 12: loss improved from 0.86534 to 0.84413, saving model to ./saved_models/best.keras\n",
      "\u001b[1m204/204\u001b[0m \u001b[32m━━━━━━━━━━━━━━━━━━━━\u001b[0m\u001b[37m\u001b[0m \u001b[1m9s\u001b[0m 45ms/step - loss: 0.8392 - modulo_distance_accuracy: 0.5119 - modulo_rounded_accuracy: 0.1330\n",
      "Epoch 13/15\n",
      "\u001b[1m203/204\u001b[0m \u001b[32m━━━━━━━━━━━━━━━━━━━\u001b[0m\u001b[37m━\u001b[0m \u001b[1m0s\u001b[0m 44ms/step - loss: 0.8496 - modulo_distance_accuracy: 0.5096 - modulo_rounded_accuracy: 0.1321\n",
      "Epoch 13: loss improved from 0.84413 to 0.81268, saving model to ./saved_models/best.keras\n",
      "\u001b[1m204/204\u001b[0m \u001b[32m━━━━━━━━━━━━━━━━━━━━\u001b[0m\u001b[37m\u001b[0m \u001b[1m9s\u001b[0m 44ms/step - loss: 0.8492 - modulo_distance_accuracy: 0.5096 - modulo_rounded_accuracy: 0.1321\n",
      "Epoch 14/15\n",
      "\u001b[1m203/204\u001b[0m \u001b[32m━━━━━━━━━━━━━━━━━━━\u001b[0m\u001b[37m━\u001b[0m \u001b[1m0s\u001b[0m 44ms/step - loss: 0.7822 - modulo_distance_accuracy: 0.5104 - modulo_rounded_accuracy: 0.1280\n",
      "Epoch 14: loss improved from 0.81268 to 0.77287, saving model to ./saved_models/best.keras\n",
      "\u001b[1m204/204\u001b[0m \u001b[32m━━━━━━━━━━━━━━━━━━━━\u001b[0m\u001b[37m\u001b[0m \u001b[1m9s\u001b[0m 45ms/step - loss: 0.7821 - modulo_distance_accuracy: 0.5104 - modulo_rounded_accuracy: 0.1280\n",
      "Epoch 15/15\n",
      "\u001b[1m203/204\u001b[0m \u001b[32m━━━━━━━━━━━━━━━━━━━\u001b[0m\u001b[37m━\u001b[0m \u001b[1m0s\u001b[0m 45ms/step - loss: 0.7784 - modulo_distance_accuracy: 0.5105 - modulo_rounded_accuracy: 0.1239\n",
      "Epoch 15: loss improved from 0.77287 to 0.75506, saving model to ./saved_models/best.keras\n",
      "\u001b[1m204/204\u001b[0m \u001b[32m━━━━━━━━━━━━━━━━━━━━\u001b[0m\u001b[37m\u001b[0m \u001b[1m9s\u001b[0m 46ms/step - loss: 0.7782 - modulo_distance_accuracy: 0.5105 - modulo_rounded_accuracy: 0.1239\n"
     ]
    },
    {
     "data": {
      "text/html": [
       "<pre style=\"white-space:pre;overflow-x:auto;line-height:normal;font-family:Menlo,'DejaVu Sans Mono',consolas,'Courier New',monospace\"><span style=\"font-weight: bold\">Model: \"sequential\"</span>\n",
       "</pre>\n"
      ],
      "text/plain": [
       "\u001b[1mModel: \"sequential\"\u001b[0m\n"
      ]
     },
     "metadata": {},
     "output_type": "display_data"
    },
    {
     "data": {
      "text/html": [
       "<pre style=\"white-space:pre;overflow-x:auto;line-height:normal;font-family:Menlo,'DejaVu Sans Mono',consolas,'Courier New',monospace\">┏━━━━━━━━━━━━━━━━━━━━━━━━━━━━━━━━━┳━━━━━━━━━━━━━━━━━━━━━━━━┳━━━━━━━━━━━━━━━┓\n",
       "┃<span style=\"font-weight: bold\"> Layer (type)                    </span>┃<span style=\"font-weight: bold\"> Output Shape           </span>┃<span style=\"font-weight: bold\">       Param # </span>┃\n",
       "┡━━━━━━━━━━━━━━━━━━━━━━━━━━━━━━━━━╇━━━━━━━━━━━━━━━━━━━━━━━━╇━━━━━━━━━━━━━━━┩\n",
       "│ Embedding_Input (<span style=\"color: #0087ff; text-decoration-color: #0087ff\">Embedding</span>)     │ (<span style=\"color: #00d7ff; text-decoration-color: #00d7ff\">None</span>, <span style=\"color: #00af00; text-decoration-color: #00af00\">512</span>, <span style=\"color: #00af00; text-decoration-color: #00af00\">128</span>)       │        <span style=\"color: #00af00; text-decoration-color: #00af00\">65,536</span> │\n",
       "├─────────────────────────────────┼────────────────────────┼───────────────┤\n",
       "│ LSTM (<span style=\"color: #0087ff; text-decoration-color: #0087ff\">LSTM</span>)                     │ (<span style=\"color: #00d7ff; text-decoration-color: #00d7ff\">None</span>, <span style=\"color: #00af00; text-decoration-color: #00af00\">128</span>)            │       <span style=\"color: #00af00; text-decoration-color: #00af00\">131,584</span> │\n",
       "├─────────────────────────────────┼────────────────────────┼───────────────┤\n",
       "│ Output_Limiter (<span style=\"color: #0087ff; text-decoration-color: #0087ff\">Dense</span>)          │ (<span style=\"color: #00d7ff; text-decoration-color: #00d7ff\">None</span>, <span style=\"color: #00af00; text-decoration-color: #00af00\">1</span>)              │           <span style=\"color: #00af00; text-decoration-color: #00af00\">129</span> │\n",
       "└─────────────────────────────────┴────────────────────────┴───────────────┘\n",
       "</pre>\n"
      ],
      "text/plain": [
       "┏━━━━━━━━━━━━━━━━━━━━━━━━━━━━━━━━━┳━━━━━━━━━━━━━━━━━━━━━━━━┳━━━━━━━━━━━━━━━┓\n",
       "┃\u001b[1m \u001b[0m\u001b[1mLayer (type)                   \u001b[0m\u001b[1m \u001b[0m┃\u001b[1m \u001b[0m\u001b[1mOutput Shape          \u001b[0m\u001b[1m \u001b[0m┃\u001b[1m \u001b[0m\u001b[1m      Param #\u001b[0m\u001b[1m \u001b[0m┃\n",
       "┡━━━━━━━━━━━━━━━━━━━━━━━━━━━━━━━━━╇━━━━━━━━━━━━━━━━━━━━━━━━╇━━━━━━━━━━━━━━━┩\n",
       "│ Embedding_Input (\u001b[38;5;33mEmbedding\u001b[0m)     │ (\u001b[38;5;45mNone\u001b[0m, \u001b[38;5;34m512\u001b[0m, \u001b[38;5;34m128\u001b[0m)       │        \u001b[38;5;34m65,536\u001b[0m │\n",
       "├─────────────────────────────────┼────────────────────────┼───────────────┤\n",
       "│ LSTM (\u001b[38;5;33mLSTM\u001b[0m)                     │ (\u001b[38;5;45mNone\u001b[0m, \u001b[38;5;34m128\u001b[0m)            │       \u001b[38;5;34m131,584\u001b[0m │\n",
       "├─────────────────────────────────┼────────────────────────┼───────────────┤\n",
       "│ Output_Limiter (\u001b[38;5;33mDense\u001b[0m)          │ (\u001b[38;5;45mNone\u001b[0m, \u001b[38;5;34m1\u001b[0m)              │           \u001b[38;5;34m129\u001b[0m │\n",
       "└─────────────────────────────────┴────────────────────────┴───────────────┘\n"
      ]
     },
     "metadata": {},
     "output_type": "display_data"
    },
    {
     "data": {
      "text/html": [
       "<pre style=\"white-space:pre;overflow-x:auto;line-height:normal;font-family:Menlo,'DejaVu Sans Mono',consolas,'Courier New',monospace\"><span style=\"font-weight: bold\"> Total params: </span><span style=\"color: #00af00; text-decoration-color: #00af00\">591,749</span> (2.26 MB)\n",
       "</pre>\n"
      ],
      "text/plain": [
       "\u001b[1m Total params: \u001b[0m\u001b[38;5;34m591,749\u001b[0m (2.26 MB)\n"
      ]
     },
     "metadata": {},
     "output_type": "display_data"
    },
    {
     "data": {
      "text/html": [
       "<pre style=\"white-space:pre;overflow-x:auto;line-height:normal;font-family:Menlo,'DejaVu Sans Mono',consolas,'Courier New',monospace\"><span style=\"font-weight: bold\"> Trainable params: </span><span style=\"color: #00af00; text-decoration-color: #00af00\">197,249</span> (770.50 KB)\n",
       "</pre>\n"
      ],
      "text/plain": [
       "\u001b[1m Trainable params: \u001b[0m\u001b[38;5;34m197,249\u001b[0m (770.50 KB)\n"
      ]
     },
     "metadata": {},
     "output_type": "display_data"
    },
    {
     "data": {
      "text/html": [
       "<pre style=\"white-space:pre;overflow-x:auto;line-height:normal;font-family:Menlo,'DejaVu Sans Mono',consolas,'Courier New',monospace\"><span style=\"font-weight: bold\"> Non-trainable params: </span><span style=\"color: #00af00; text-decoration-color: #00af00\">0</span> (0.00 B)\n",
       "</pre>\n"
      ],
      "text/plain": [
       "\u001b[1m Non-trainable params: \u001b[0m\u001b[38;5;34m0\u001b[0m (0.00 B)\n"
      ]
     },
     "metadata": {},
     "output_type": "display_data"
    },
    {
     "data": {
      "text/html": [
       "<pre style=\"white-space:pre;overflow-x:auto;line-height:normal;font-family:Menlo,'DejaVu Sans Mono',consolas,'Courier New',monospace\"><span style=\"font-weight: bold\"> Optimizer params: </span><span style=\"color: #00af00; text-decoration-color: #00af00\">394,500</span> (1.50 MB)\n",
       "</pre>\n"
      ],
      "text/plain": [
       "\u001b[1m Optimizer params: \u001b[0m\u001b[38;5;34m394,500\u001b[0m (1.50 MB)\n"
      ]
     },
     "metadata": {},
     "output_type": "display_data"
    },
    {
     "name": "stdout",
     "output_type": "stream",
     "text": [
      "CPU times: user 1min 27s, sys: 17.2 s, total: 1min 44s\n",
      "Wall time: 2min 20s\n"
     ]
    }
   ],
   "source": [
    "%%time\n",
    "\n",
    "if TRAIN_MODEL:\n",
    "    # Training checkpoint to save after each epoch, if it is a new best model:\n",
    "    model_checkpoint_callback = tf.keras.callbacks.ModelCheckpoint(\n",
    "        filepath=BEST_PATH,\n",
    "        monitor=\"loss\",\n",
    "        mode=\"min\",\n",
    "        save_best_only=True,\n",
    "        save_weights_only=False,\n",
    "        verbose=1)\n",
    "\n",
    "    print(f\"Training model\")\n",
    "\n",
    "    if USE_CUSTOM_LOSS:\n",
    "        loss = modulo_distance_loss\n",
    "        metrics = [modulo_distance_accuracy, modulo_rounded_accuracy]\n",
    "    else:\n",
    "        loss = LOSS_METRIC\n",
    "        metrics = [MAIN_ACCURACY_METRIC]\n",
    "    \n",
    "    if SAVE_BEST_MODEL:\n",
    "        callbacks = [model_checkpoint_callback]\n",
    "    else:\n",
    "        callbacks = None\n",
    "    \n",
    "    # Compile the Sequential model together and customize metrics\n",
    "    nn.compile(loss=loss, optimizer=OPTIMIZER, metrics=metrics)\n",
    "    \n",
    "    # Fit the model to the training data\n",
    "    fit_model = nn.fit(X_train_scaled, y_train, epochs=EPOCHS, callbacks=callbacks, batch_size=BATCH_SIZE)\n",
    "\n",
    "nn.summary()"
   ]
  },
  {
   "cell_type": "code",
   "execution_count": 12,
   "id": "347990dc-230b-460f-852d-c2e0e81cef26",
   "metadata": {},
   "outputs": [
    {
     "name": "stdout",
     "output_type": "stream",
     "text": [
      "Evaluating with model.predict() ...\n",
      "\u001b[1m68/68\u001b[0m \u001b[32m━━━━━━━━━━━━━━━━━━━━\u001b[0m\u001b[37m\u001b[0m \u001b[1m1s\u001b[0m 15ms/step\n",
      "Result distribution:\n",
      "                   0\n",
      "count  17349.000000\n",
      "mean       4.929049\n",
      "std        2.705498\n",
      "min        0.000076\n",
      "25%        2.951016\n",
      "50%        4.502173\n",
      "75%        7.433208\n",
      "max        8.999927\n",
      "Evaluating with model.evaluate() ...\n",
      "68/68 - 1s - 18ms/step - loss: 0.7392 - modulo_distance_accuracy: 0.5062 - modulo_rounded_accuracy: 0.1202\n",
      "With X_test_scaled, Loss: 0.7391788959503174, Accuracy: [0.5062136650085449, 0.12015396356582642]\n",
      "204/204 - 3s - 16ms/step - loss: 0.7361 - modulo_distance_accuracy: 0.5067 - modulo_rounded_accuracy: 0.1199\n",
      "With X_train_scaled, Loss: 0.7360531091690063, Accuracy: [0.5066712498664856, 0.11992713809013367]\n",
      "68/68 - 1s - 16ms/step - loss: 2.5769 - modulo_distance_accuracy: 0.4631 - modulo_rounded_accuracy: 0.0755\n",
      "With X_test,        Loss: 2.576937198638916, Accuracy: [0.4630754292011261, 0.07551626861095428]\n",
      "68/68 - 1s - 16ms/step - loss: 2.4761 - modulo_distance_accuracy: 0.5051 - modulo_rounded_accuracy: 0.1195\n",
      "With mismatch,        Loss: 2.4760873317718506, Accuracy: [0.5050888657569885, 0.11951691657304764]\n"
     ]
    }
   ],
   "source": [
    "# Evaluate the model using the test data\n",
    "\n",
    "if USE_CUSTOM_LOSS and INFER_KEY:    \n",
    "    print(\"Evaluating with model.predict() ...\")\n",
    "    raw_pred = nn.predict(X_test_scaled, batch_size=BATCH_SIZE)\n",
    "\n",
    "    # My custom loss and accuracy functions are running out of memory for some reason...\n",
    "    if False:\n",
    "        y_pred = tf.constant(np.array(raw_pred).astype(np.float64))\n",
    "        loss = modulo_distance_loss(y_test, y_pred)\n",
    "        accuracy_distance = modulo_distance_accuracy(y_test, y_pred)\n",
    "        accuracy_rounded = modulo_rounded_accuracy(y_test, y_pred)\n",
    "        print(f\"Loss: {loss:0.6}, Accuracy (Distance): {accuracy_distance:0.6}, Accuracy (Rounded): {accuracy_rounded:0.6}\")\n",
    "\n",
    "    if INFER_KEY:\n",
    "        pred_pd = pd.DataFrame(raw_pred)\n",
    "        print(\"Inferred key distribution:\\n\", pred_pd.describe())\n",
    "\n",
    "print(\"Evaluating with model.evaluate() ...\")\n",
    "eval_results = nn.evaluate(X_test_scaled, y_test, verbose=2, batch_size=BATCH_SIZE)\n",
    "print(f\"With X_test_scaled, Loss: {eval_results[0]}, Accuracy: {eval_results[1:]}\")\n",
    "\n",
    "if EXTRA_CHECKS:\n",
    "    # Sometimes the results with totally wacky inputs are so similar to the official \"test\" data,\n",
    "    # that it's clearly just plain broken.\n",
    "    eval_results = nn.evaluate(X_train_scaled, y_train, verbose=2, batch_size=BATCH_SIZE)\n",
    "    print(f\"With X_train_scaled, Loss: {eval_results[0]}, Accuracy: {eval_results[1:]}\")\n",
    "    \n",
    "    eval_results = nn.evaluate(X_test, y_test, verbose=2, batch_size=BATCH_SIZE)\n",
    "    print(f\"With X_test,        Loss: {eval_results[0]}, Accuracy: {eval_results[1:]}\")\n",
    "    \n",
    "    eval_results = nn.evaluate(X_test_scaled, y_train[0:len(X_test_scaled)], verbose=2, batch_size=BATCH_SIZE)\n",
    "    print(f\"With mismatch,        Loss: {eval_results[0]}, Accuracy: {eval_results[1:]}\")"
   ]
  },
  {
   "cell_type": "markdown",
   "id": "e488ae3d-b10f-40d7-826a-61fedba4cb2b",
   "metadata": {},
   "source": [
    "# Model Usefulness Spot-Check"
   ]
  },
  {
   "cell_type": "code",
   "execution_count": 13,
   "id": "4abd4fd4-831e-43a5-9351-c0c2cfa1be2c",
   "metadata": {},
   "outputs": [
    {
     "name": "stdout",
     "output_type": "stream",
     "text": [
      "Correct Key:  9\n",
      "\u001b[1m1/1\u001b[0m \u001b[32m━━━━━━━━━━━━━━━━━━━━\u001b[0m\u001b[37m\u001b[0m \u001b[1m0s\u001b[0m 24ms/step\n",
      "Inferred Key:  5\n",
      "\u001b[1m1/1\u001b[0m \u001b[32m━━━━━━━━━━━━━━━━━━━━\u001b[0m\u001b[37m\u001b[0m \u001b[1m0s\u001b[0m 19ms/step\n",
      "[[3.6079615e-02]\n",
      " [1.2401119e-02]\n",
      " [8.9673414e+00]\n",
      " [2.1837331e-02]\n",
      " [1.5483201e-02]\n",
      " [8.9543591e+00]\n",
      " [7.5881794e-02]\n",
      " [8.9882584e+00]\n",
      " [8.9736128e+00]\n",
      " [8.9592075e+00]\n",
      " [8.9658842e+00]\n",
      " [8.9689417e+00]\n",
      " [8.9382229e+00]\n",
      " [4.8834212e-02]\n",
      " [2.2588909e-02]\n",
      " [1.3386905e-02]\n",
      " [1.7168790e-02]\n",
      " [8.9447060e+00]\n",
      " [8.9833279e+00]\n",
      " [6.9820061e-03]]\n",
      "\u001b[1m1/1\u001b[0m \u001b[32m━━━━━━━━━━━━━━━━━━━━\u001b[0m\u001b[37m\u001b[0m \u001b[1m0s\u001b[0m 19ms/step\n",
      "               0\n",
      "count  20.000000\n",
      "mean    4.495725\n",
      "std     4.584785\n",
      "min     0.006982\n",
      "25%     0.020670\n",
      "50%     4.507052\n",
      "75%     8.966249\n",
      "max     8.988258\n"
     ]
    }
   ],
   "source": [
    "def decode_chunks_with_model(chunks: list[list], model, scaler, input_already_scaled = True) -> list[list]:\n",
    "    if input_already_scaled:\n",
    "        return model.predict(chunks)\n",
    "    else:\n",
    "        return model.predict(scaler.transform(chunks))\n",
    "\n",
    "def decode_text_with_model(ciphertext: str, model, scaler) -> str:\n",
    "    offset_chunks = helpers.chunkify(encoders.string_to_offsets(ciphertext), CHUNK_SIZE)\n",
    "    decoded_chunks = decode_chunks_with_model(offset_chunks, model, scaler, input_already_scaled = False)\n",
    "    rounded = np.rint(decoded_chunks.flatten()).astype(int)\n",
    "    return encoders.offsets_to_string(rounded)\n",
    "\n",
    "def infer_key_with_model(ciphertext: str, model, scaler) -> int:\n",
    "    chunks = helpers.string_to_bytes(ciphertext, CHUNK_SIZE)\n",
    "    keys = model.predict(scaler.transform(chunks))\n",
    "    key = int(round(np.median(keys)))\n",
    "    return key\n",
    "\n",
    "if INFER_TEXT:    \n",
    "    CHUNKS_TO_CHECK = 2\n",
    "else:\n",
    "    CHUNKS_TO_CHECK = 20\n",
    "\n",
    "cipher_file_db = sid_to_c[list(sid_to_c.keys())[0]][0]\n",
    "ciphertext_path = cipher_file_db.path\n",
    "ciphertext = helpers.read_text_file(ciphertext_path)\n",
    "ciphertext = ciphertext[0:CHUNK_SIZE * CHUNKS_TO_CHECK]\n",
    "\n",
    "if INFER_TEXT:    \n",
    "    print(\"Decoded   : \", decode_text_with_model(ciphertext, nn, X_scaler))\n",
    "if INFER_KEY:\n",
    "    with db.get_session() as session:\n",
    "        correct_key = int(db.get_key_by_id(session, cipher_file_db.key_id).value)\n",
    "    print(\"Correct Key: \", correct_key)\n",
    "    \n",
    "    inferred_key = infer_key_with_model(ciphertext, nn, X_scaler)\n",
    "    print(\"Inferred Key: \", inferred_key)\n",
    "    \n",
    "    chunks = helpers.string_to_bytes(ciphertext, CHUNK_SIZE)\n",
    "    print(nn.predict(scaler.transform(chunks)))\n",
    "    print(pd.DataFrame(nn.predict(scaler.transform(chunks))).describe())"
   ]
  },
  {
   "cell_type": "code",
   "execution_count": null,
   "id": "eca1c384-8e11-4541-a33c-59f14cb7ecf2",
   "metadata": {},
   "outputs": [],
   "source": []
  }
 ],
 "metadata": {
  "kernelspec": {
   "display_name": "Python 3 (ipykernel)",
   "language": "python",
   "name": "python3"
  },
  "language_info": {
   "codemirror_mode": {
    "name": "ipython",
    "version": 3
   },
   "file_extension": ".py",
   "mimetype": "text/x-python",
   "name": "python",
   "nbconvert_exporter": "python",
   "pygments_lexer": "ipython3",
   "version": "3.12.7"
  }
 },
 "nbformat": 4,
 "nbformat_minor": 5
}
